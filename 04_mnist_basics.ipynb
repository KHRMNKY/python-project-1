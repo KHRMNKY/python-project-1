{
  "cells": [
    {
      "cell_type": "markdown",
      "metadata": {
        "id": "view-in-github",
        "colab_type": "text"
      },
      "source": [
        "<a href=\"https://colab.research.google.com/github/kahramankaya/python-project-1/blob/main/04_mnist_basics.ipynb\" target=\"_parent\"><img src=\"https://colab.research.google.com/assets/colab-badge.svg\" alt=\"Open In Colab\"/></a>"
      ]
    },
    {
      "cell_type": "code",
      "source": [
        "#hide\n",
        "! [ -e /content ] && pip install -Uqq fastbook\n",
        "import fastbook\n",
        "fastbook.setup_book()\n",
        "\n",
        "\n",
        "\n",
        "#hide\n",
        "from fastai.vision.all import *\n",
        "from fastbook import *\n",
        "\n",
        "matplotlib.rc('image', cmap='Greys')\n"
      ],
      "metadata": {
        "id": "lnflhVTPtLB6"
      },
      "execution_count": 58,
      "outputs": []
    },
    {
      "cell_type": "code",
      "source": [
        "#path=\"/content/Data.zip\"\n",
        "#dest=download_url(URLs.MNIST_SAMPLE,path)  Gokay hocaya untar_data ıle download_url arasında kı farkı sor arastırdım ama tam anlamıyla anlamadım.\n",
        "\n",
        "path=untar_data(URLs.MNIST_SAMPLE)\n"
      ],
      "metadata": {
        "id": "d9AgVBc2tK5y"
      },
      "execution_count": 59,
      "outputs": []
    },
    {
      "cell_type": "code",
      "source": [
        "path.ls()\n"
      ],
      "metadata": {
        "id": "ADnE-qwitK_b",
        "colab": {
          "base_uri": "https://localhost:8080/"
        },
        "outputId": "bda951b4-dfe5-4dff-83a3-c8cbe0746653"
      },
      "execution_count": 60,
      "outputs": [
        {
          "output_type": "execute_result",
          "data": {
            "text/plain": [
              "(#3) [Path('/root/.fastai/data/mnist_sample/train'),Path('/root/.fastai/data/mnist_sample/valid'),Path('/root/.fastai/data/mnist_sample/labels.csv')]"
            ]
          },
          "metadata": {},
          "execution_count": 60
        }
      ]
    },
    {
      "cell_type": "code",
      "source": [
        "(path/\"train\").ls()"
      ],
      "metadata": {
        "id": "OmmHf6tUtLH3",
        "colab": {
          "base_uri": "https://localhost:8080/"
        },
        "outputId": "01a2eefc-fe02-4483-bf77-74a61e1eeed5"
      },
      "execution_count": 61,
      "outputs": [
        {
          "output_type": "execute_result",
          "data": {
            "text/plain": [
              "(#2) [Path('/root/.fastai/data/mnist_sample/train/3'),Path('/root/.fastai/data/mnist_sample/train/7')]"
            ]
          },
          "metadata": {},
          "execution_count": 61
        }
      ]
    },
    {
      "cell_type": "code",
      "source": [
        "(path/\"train/3\").ls()\n",
        "\n"
      ],
      "metadata": {
        "colab": {
          "base_uri": "https://localhost:8080/"
        },
        "id": "3SAwoqDFwbZV",
        "outputId": "81a1b7fc-ecd1-491d-e629-aa14c330950c"
      },
      "execution_count": 62,
      "outputs": [
        {
          "output_type": "execute_result",
          "data": {
            "text/plain": [
              "(#6131) [Path('/root/.fastai/data/mnist_sample/train/3/4238.png'),Path('/root/.fastai/data/mnist_sample/train/3/54397.png'),Path('/root/.fastai/data/mnist_sample/train/3/34548.png'),Path('/root/.fastai/data/mnist_sample/train/3/14200.png'),Path('/root/.fastai/data/mnist_sample/train/3/13225.png'),Path('/root/.fastai/data/mnist_sample/train/3/18827.png'),Path('/root/.fastai/data/mnist_sample/train/3/26678.png'),Path('/root/.fastai/data/mnist_sample/train/3/50175.png'),Path('/root/.fastai/data/mnist_sample/train/3/49300.png'),Path('/root/.fastai/data/mnist_sample/train/3/25000.png')...]"
            ]
          },
          "metadata": {},
          "execution_count": 62
        }
      ]
    },
    {
      "cell_type": "code",
      "source": [
        "threes=(path/\"train/3\").ls().sorted()\n",
        "sevens=(path/\"train/7\").ls().sorted()\n",
        "threes , sevens"
      ],
      "metadata": {
        "id": "r4GcvUoV1eaI",
        "colab": {
          "base_uri": "https://localhost:8080/"
        },
        "outputId": "943941bf-0806-4f25-f5ca-06008c6a3e6e"
      },
      "execution_count": 63,
      "outputs": [
        {
          "output_type": "execute_result",
          "data": {
            "text/plain": [
              "((#6131) [Path('/root/.fastai/data/mnist_sample/train/3/10.png'),Path('/root/.fastai/data/mnist_sample/train/3/10000.png'),Path('/root/.fastai/data/mnist_sample/train/3/10011.png'),Path('/root/.fastai/data/mnist_sample/train/3/10031.png'),Path('/root/.fastai/data/mnist_sample/train/3/10034.png'),Path('/root/.fastai/data/mnist_sample/train/3/10042.png'),Path('/root/.fastai/data/mnist_sample/train/3/10052.png'),Path('/root/.fastai/data/mnist_sample/train/3/1007.png'),Path('/root/.fastai/data/mnist_sample/train/3/10074.png'),Path('/root/.fastai/data/mnist_sample/train/3/10091.png')...],\n",
              " (#6265) [Path('/root/.fastai/data/mnist_sample/train/7/10002.png'),Path('/root/.fastai/data/mnist_sample/train/7/1001.png'),Path('/root/.fastai/data/mnist_sample/train/7/10014.png'),Path('/root/.fastai/data/mnist_sample/train/7/10019.png'),Path('/root/.fastai/data/mnist_sample/train/7/10039.png'),Path('/root/.fastai/data/mnist_sample/train/7/10046.png'),Path('/root/.fastai/data/mnist_sample/train/7/10050.png'),Path('/root/.fastai/data/mnist_sample/train/7/10063.png'),Path('/root/.fastai/data/mnist_sample/train/7/10077.png'),Path('/root/.fastai/data/mnist_sample/train/7/10086.png')...])"
            ]
          },
          "metadata": {},
          "execution_count": 63
        }
      ]
    },
    {
      "cell_type": "code",
      "source": [
        "img3=Image.open(threes[2])\n",
        "img3"
      ],
      "metadata": {
        "id": "Hx68oNf9wbcQ",
        "colab": {
          "base_uri": "https://localhost:8080/",
          "height": 45
        },
        "outputId": "4b0d8686-e1b7-44a2-c86d-9e07bd5e3e71"
      },
      "execution_count": 64,
      "outputs": [
        {
          "output_type": "execute_result",
          "data": {
            "text/plain": [
              "<PIL.PngImagePlugin.PngImageFile image mode=L size=28x28>"
            ],
            "image/png": "[encoded data removed]"
          },
          "metadata": {},
          "execution_count": 64
        }
      ]
    },
    {
      "cell_type": "markdown",
      "source": [
        "Here we are using the Image class from the Python Imaging Library (PIL), which is the most widely used Python package for opening, manipulating, and viewing images. Jupyter knows about PIL images, so it displays the image for us automatically.\n",
        "\n",
        "In a computer, everything is represented as a number. To view the numbers that make up this image, we have to convert it to a NumPy array or a PyTorch tensor. For instance, here's what a section of the image looks like, converted to a NumPy array:\n"
      ],
      "metadata": {
        "id": "JCzLqkx25sBa"
      }
    },
    {
      "cell_type": "code",
      "source": [
        "array(img3)[0:4,0:3] ,  tensor(img3)\n"
      ],
      "metadata": {
        "id": "gk4ekIE7wbhB",
        "colab": {
          "base_uri": "https://localhost:8080/"
        },
        "outputId": "64e10322-d87f-4e2b-e4af-3b36ec84d16f"
      },
      "execution_count": 65,
      "outputs": [
        {
          "output_type": "execute_result",
          "data": {
            "text/plain": [
              "(array([[0, 0, 0],\n",
              "        [0, 0, 0],\n",
              "        [0, 0, 0],\n",
              "        [0, 0, 0]], dtype=uint8),\n",
              " tensor([[  0,   0,   0,   0,   0,   0,   0,   0,   0,   0,   0,   0,   0,   0,   0,   0,   0,   0,   0,   0,   0,   0,   0,   0,   0,   0,   0,   0],\n",
              "         [  0,   0,   0,   0,   0,   0,   0,   0,   0,   0,   0,   0,   0,   0,   0,   0,   0,   0,   0,   0,   0,   0,   0,   0,   0,   0,   0,   0],\n",
              "         [  0,   0,   0,   0,   0,   0,   0,   0,   0,   0,   0,   0,   0,   0,   0,   0,   0,   0,   0,   0,   0,   0,   0,   0,   0,   0,   0,   0],\n",
              "         [  0,   0,   0,   0,   0,   0,   0,   0,   0,   0,   0,   0,   0,   0,   0,   0,   0,   0,   0,   0,   0,   0,   0,   0,   0,   0,   0,   0],\n",
              "         [  0,   0,   0,   0,   0,   0,   0,   0,   0,   0,   0,   0,   0,   0,   0,   0,   0,   0,   0,   0,   0,   0,   0,   0,   0,   0,   0,   0],\n",
              "         [  0,   0,   0,   0,   0,   0,   0,   0,   0,   0,   1,  18,  93, 164, 254, 255, 254, 254, 254, 151,   0,   0,   0,   0,   0,   0,   0,   0],\n",
              "         [  0,   0,   0,   0,   0,   0,   0,   0,  13,  36, 151, 253, 253, 253, 253, 253, 253, 218, 239, 213,  10,   0,   0,   0,   0,   0,   0,   0],\n",
              "         [  0,   0,   0,   0,   0,   0,   0,   0,  89, 253, 253, 253, 245, 172,  82,  82,  82,   2, 148, 253, 150,   0,   0,   0,   0,   0,   0,   0],\n",
              "         [  0,   0,   0,   0,   0,   0,   0,   0,  89, 253, 252, 171,  54,   0,   0,   0,   0,  37, 177, 253, 188,   0,   0,   0,   0,   0,   0,   0],\n",
              "         [  0,   0,   0,   0,   0,   0,   0,   0,  17, 151,  51,   0,   0,   0,   0,   0,  40, 229, 253, 253, 147,   0,   0,   0,   0,   0,   0,   0],\n",
              "         [  0,   0,   0,   0,   0,   0,   0,   0,   0,   0,   0,   0,   0,   0,  83, 206, 237, 253, 253, 211,   8,   0,   0,   0,   0,   0,   0,   0],\n",
              "         [  0,   0,   0,   0,   0,   0,   0,   0,   0,   0,   0,  70, 143, 243, 251, 253, 253, 253, 181,  50,   0,   0,   0,   0,   0,   0,   0,   0],\n",
              "         [  0,   0,   0,   0,   0,   0,   0,   0,   0,   0,   4, 204, 253, 253, 253, 253, 253, 253, 106,   0,   0,   0,   0,   0,   0,   0,   0,   0],\n",
              "         [  0,   0,   0,   0,   0,   0,   0,   0,   0,   0,   5, 235, 253, 253, 221, 167,  94, 250, 125,   0,   0,   0,   0,   0,   0,   0,   0,   0],\n",
              "         [  0,   0,   0,   0,   0,   0,   0,   0,   0,   0,   0, 110, 175,  76,  18,   0,   0, 249, 244,  62,   0,   0,   0,   0,   0,   0,   0,   0],\n",
              "         [  0,   0,   0,   0,   0,   0,   0,   0,   0,   0,   0,   0,   0,   0,   0,   0,   0, 213, 253, 124,   0,   0,   0,   0,   0,   0,   0,   0],\n",
              "         [  0,   0,   0,   0,   0,   0,   0,   0,   0,   0,   0,   0,   0,   0,   0,   0,   0, 130, 253, 206,   0,   0,   0,   0,   0,   0,   0,   0],\n",
              "         [  0,   0,   0,   0,   0,   0,   0,   0,   0,   0,   0,   0,   0,   0,   0,   0,   0, 238, 253, 206,   0,   0,   0,   0,   0,   0,   0,   0],\n",
              "         [  0,   0,   0,   0,   0,   0,   3, 189, 207,  21,   0,   0,   0,   0,   0,   0,   0, 249, 253, 145,   0,   0,   0,   0,   0,   0,   0,   0],\n",
              "         [  0,   0,   0,   0,   0,   0,  23, 216, 253, 159,   2,   0,   0,   0,   0,   0,  80, 251, 253,  88,   0,   0,   0,   0,   0,   0,   0,   0],\n",
              "         [  0,   0,   0,   0,   0,   0,   0, 167, 253, 253,  33,   0,   0,   0,   0,  63, 246, 253, 212,  31,   0,   0,   0,   0,   0,   0,   0,   0],\n",
              "         [  0,   0,   0,   0,   0,   0,   0,  20, 189, 253, 219, 112,   0,   0,  87, 209, 253, 253, 106,   0,   0,   0,   0,   0,   0,   0,   0,   0],\n",
              "         [  0,   0,   0,   0,   0,   0,   0,   0,  60, 244, 253, 248, 201, 201, 241, 253, 253, 211,  72,   0,   0,   0,   0,   0,   0,   0,   0,   0],\n",
              "         [  0,   0,   0,   0,   0,   0,   0,   0,   0,  81, 249, 253, 253, 253, 253, 253, 209,  19,   0,   0,   0,   0,   0,   0,   0,   0,   0,   0],\n",
              "         [  0,   0,   0,   0,   0,   0,   0,   0,   0,   0,  19, 201, 253, 253, 217,  91,  10,   0,   0,   0,   0,   0,   0,   0,   0,   0,   0,   0],\n",
              "         [  0,   0,   0,   0,   0,   0,   0,   0,   0,   0,   0,   0,   0,   0,   0,   0,   0,   0,   0,   0,   0,   0,   0,   0,   0,   0,   0,   0],\n",
              "         [  0,   0,   0,   0,   0,   0,   0,   0,   0,   0,   0,   0,   0,   0,   0,   0,   0,   0,   0,   0,   0,   0,   0,   0,   0,   0,   0,   0],\n",
              "         [  0,   0,   0,   0,   0,   0,   0,   0,   0,   0,   0,   0,   0,   0,   0,   0,   0,   0,   0,   0,   0,   0,   0,   0,   0,   0,   0,   0]], dtype=torch.uint8))"
            ]
          },
          "metadata": {},
          "execution_count": 65
        }
      ]
    },
    {
      "cell_type": "code",
      "source": [
        "df=pd.DataFrame(tensor(img3))  # pay attention to resulting number"
      ],
      "metadata": {
        "id": "oTpZF6wC5VL5"
      },
      "execution_count": 66,
      "outputs": []
    },
    {
      "cell_type": "code",
      "source": [
        "df.style.set_properties(**{'font-size':'10pt'}).background_gradient('Greys')"
      ],
      "metadata": {
        "colab": {
          "base_uri": "https://localhost:8080/",
          "height": 927
        },
        "id": "5W7BO2Mo74Og",
        "outputId": "b8fe16e8-a1a8-45eb-c79d-25d1fa2a783b"
      },
      "execution_count": 67,
      "outputs": [
        {
          "output_type": "execute_result",
          "data": {
            "text/plain": [
              "<pandas.io.formats.style.Styler at 0x79351873dd50>"
            ],
            "text/html": [
              "<style type=\"text/css\">\n",
              "#T_cefb9_row0_col0, #T_cefb9_row0_col1, #T_cefb9_row0_col2, #T_cefb9_row0_col3, #T_cefb9_row0_col4, #T_cefb9_row0_col5, #T_cefb9_row0_col6, #T_cefb9_row0_col7, #T_cefb9_row0_col8, #T_cefb9_row0_col9, #T_cefb9_row0_col10, #T_cefb9_row0_col11, #T_cefb9_row0_col12, #T_cefb9_row0_col13, #T_cefb9_row0_col14, #T_cefb9_row0_col15, #T_cefb9_row0_col16, #T_cefb9_row0_col17, #T_cefb9_row0_col18, #T_cefb9_row0_col19, #T_cefb9_row0_col20, #T_cefb9_row0_col21, #T_cefb9_row0_col22, #T_cefb9_row0_col23, #T_cefb9_row0_col24, #T_cefb9_row0_col25, #T_cefb9_row0_col26, #T_cefb9_row0_col27, #T_cefb9_row1_col0, #T_cefb9_row1_col1, #T_cefb9_row1_col2, #T_cefb9_row1_col3, #T_cefb9_row1_col4, #T_cefb9_row1_col5, #T_cefb9_row1_col6, #T_cefb9_row1_col7, #T_cefb9_row1_col8, #T_cefb9_row1_col9, #T_cefb9_row1_col10, #T_cefb9_row1_col11, #T_cefb9_row1_col12, #T_cefb9_row1_col13, #T_cefb9_row1_col14, #T_cefb9_row1_col15, #T_cefb9_row1_col16, #T_cefb9_row1_col17, #T_cefb9_row1_col18, #T_cefb9_row1_col19, #T_cefb9_row1_col20, #T_cefb9_row1_col21, #T_cefb9_row1_col22, #T_cefb9_row1_col23, #T_cefb9_row1_col24, #T_cefb9_row1_col25, #T_cefb9_row1_col26, #T_cefb9_row1_col27, #T_cefb9_row2_col0, #T_cefb9_row2_col1, #T_cefb9_row2_col2, #T_cefb9_row2_col3, #T_cefb9_row2_col4, #T_cefb9_row2_col5, #T_cefb9_row2_col6, #T_cefb9_row2_col7, #T_cefb9_row2_col8, #T_cefb9_row2_col9, #T_cefb9_row2_col10, #T_cefb9_row2_col11, #T_cefb9_row2_col12, #T_cefb9_row2_col13, #T_cefb9_row2_col14, #T_cefb9_row2_col15, #T_cefb9_row2_col16, #T_cefb9_row2_col17, #T_cefb9_row2_col18, #T_cefb9_row2_col19, #T_cefb9_row2_col20, #T_cefb9_row2_col21, #T_cefb9_row2_col22, #T_cefb9_row2_col23, #T_cefb9_row2_col24, #T_cefb9_row2_col25, #T_cefb9_row2_col26, #T_cefb9_row2_col27, #T_cefb9_row3_col0, #T_cefb9_row3_col1, #T_cefb9_row3_col2, #T_cefb9_row3_col3, #T_cefb9_row3_col4, #T_cefb9_row3_col5, #T_cefb9_row3_col6, #T_cefb9_row3_col7, #T_cefb9_row3_col8, #T_cefb9_row3_col9, #T_cefb9_row3_col10, #T_cefb9_row3_col11, #T_cefb9_row3_col12, #T_cefb9_row3_col13, #T_cefb9_row3_col14, #T_cefb9_row3_col15, #T_cefb9_row3_col16, #T_cefb9_row3_col17, #T_cefb9_row3_col18, #T_cefb9_row3_col19, #T_cefb9_row3_col20, #T_cefb9_row3_col21, #T_cefb9_row3_col22, #T_cefb9_row3_col23, #T_cefb9_row3_col24, #T_cefb9_row3_col25, #T_cefb9_row3_col26, #T_cefb9_row3_col27, #T_cefb9_row4_col0, #T_cefb9_row4_col1, #T_cefb9_row4_col2, #T_cefb9_row4_col3, #T_cefb9_row4_col4, #T_cefb9_row4_col5, #T_cefb9_row4_col6, #T_cefb9_row4_col7, #T_cefb9_row4_col8, #T_cefb9_row4_col9, #T_cefb9_row4_col10, #T_cefb9_row4_col11, #T_cefb9_row4_col12, #T_cefb9_row4_col13, #T_cefb9_row4_col14, #T_cefb9_row4_col15, #T_cefb9_row4_col16, #T_cefb9_row4_col17, #T_cefb9_row4_col18, #T_cefb9_row4_col19, #T_cefb9_row4_col20, #T_cefb9_row4_col21, #T_cefb9_row4_col22, #T_cefb9_row4_col23, #T_cefb9_row4_col24, #T_cefb9_row4_col25, #T_cefb9_row4_col26, #T_cefb9_row4_col27, #T_cefb9_row5_col0, #T_cefb9_row5_col1, #T_cefb9_row5_col2, #T_cefb9_row5_col3, #T_cefb9_row5_col4, #T_cefb9_row5_col5, #T_cefb9_row5_col6, #T_cefb9_row5_col7, #T_cefb9_row5_col8, #T_cefb9_row5_col9, #T_cefb9_row5_col10, #T_cefb9_row5_col20, #T_cefb9_row5_col21, #T_cefb9_row5_col22, #T_cefb9_row5_col23, #T_cefb9_row5_col24, #T_cefb9_row5_col25, #T_cefb9_row5_col26, #T_cefb9_row5_col27, #T_cefb9_row6_col0, #T_cefb9_row6_col1, #T_cefb9_row6_col2, #T_cefb9_row6_col3, #T_cefb9_row6_col4, #T_cefb9_row6_col5, #T_cefb9_row6_col6, #T_cefb9_row6_col7, #T_cefb9_row6_col21, #T_cefb9_row6_col22, #T_cefb9_row6_col23, #T_cefb9_row6_col24, #T_cefb9_row6_col25, #T_cefb9_row6_col26, #T_cefb9_row6_col27, #T_cefb9_row7_col0, #T_cefb9_row7_col1, #T_cefb9_row7_col2, #T_cefb9_row7_col3, #T_cefb9_row7_col4, #T_cefb9_row7_col5, #T_cefb9_row7_col6, #T_cefb9_row7_col7, #T_cefb9_row7_col21, #T_cefb9_row7_col22, #T_cefb9_row7_col23, #T_cefb9_row7_col24, #T_cefb9_row7_col25, #T_cefb9_row7_col26, #T_cefb9_row7_col27, #T_cefb9_row8_col0, #T_cefb9_row8_col1, #T_cefb9_row8_col2, #T_cefb9_row8_col3, #T_cefb9_row8_col4, #T_cefb9_row8_col5, #T_cefb9_row8_col6, #T_cefb9_row8_col7, #T_cefb9_row8_col13, #T_cefb9_row8_col14, #T_cefb9_row8_col15, #T_cefb9_row8_col16, #T_cefb9_row8_col21, #T_cefb9_row8_col22, #T_cefb9_row8_col23, #T_cefb9_row8_col24, #T_cefb9_row8_col25, #T_cefb9_row8_col26, #T_cefb9_row8_col27, #T_cefb9_row9_col0, #T_cefb9_row9_col1, #T_cefb9_row9_col2, #T_cefb9_row9_col3, #T_cefb9_row9_col4, #T_cefb9_row9_col5, #T_cefb9_row9_col6, #T_cefb9_row9_col7, #T_cefb9_row9_col11, #T_cefb9_row9_col12, #T_cefb9_row9_col13, #T_cefb9_row9_col14, #T_cefb9_row9_col15, #T_cefb9_row9_col21, #T_cefb9_row9_col22, #T_cefb9_row9_col23, #T_cefb9_row9_col24, #T_cefb9_row9_col25, #T_cefb9_row9_col26, #T_cefb9_row9_col27, #T_cefb9_row10_col0, #T_cefb9_row10_col1, #T_cefb9_row10_col2, #T_cefb9_row10_col3, #T_cefb9_row10_col4, #T_cefb9_row10_col5, #T_cefb9_row10_col6, #T_cefb9_row10_col7, #T_cefb9_row10_col8, #T_cefb9_row10_col9, #T_cefb9_row10_col10, #T_cefb9_row10_col11, #T_cefb9_row10_col12, #T_cefb9_row10_col13, #T_cefb9_row10_col21, #T_cefb9_row10_col22, #T_cefb9_row10_col23, #T_cefb9_row10_col24, #T_cefb9_row10_col25, #T_cefb9_row10_col26, #T_cefb9_row10_col27, #T_cefb9_row11_col0, #T_cefb9_row11_col1, #T_cefb9_row11_col2, #T_cefb9_row11_col3, #T_cefb9_row11_col4, #T_cefb9_row11_col5, #T_cefb9_row11_col6, #T_cefb9_row11_col7, #T_cefb9_row11_col8, #T_cefb9_row11_col9, #T_cefb9_row11_col10, #T_cefb9_row11_col20, #T_cefb9_row11_col21, #T_cefb9_row11_col22, #T_cefb9_row11_col23, #T_cefb9_row11_col24, #T_cefb9_row11_col25, #T_cefb9_row11_col26, #T_cefb9_row11_col27, #T_cefb9_row12_col0, #T_cefb9_row12_col1, #T_cefb9_row12_col2, #T_cefb9_row12_col3, #T_cefb9_row12_col4, #T_cefb9_row12_col5, #T_cefb9_row12_col6, #T_cefb9_row12_col7, #T_cefb9_row12_col8, #T_cefb9_row12_col9, #T_cefb9_row12_col19, #T_cefb9_row12_col20, #T_cefb9_row12_col21, #T_cefb9_row12_col22, #T_cefb9_row12_col23, #T_cefb9_row12_col24, #T_cefb9_row12_col25, #T_cefb9_row12_col26, #T_cefb9_row12_col27, #T_cefb9_row13_col0, #T_cefb9_row13_col1, #T_cefb9_row13_col2, #T_cefb9_row13_col3, #T_cefb9_row13_col4, #T_cefb9_row13_col5, #T_cefb9_row13_col6, #T_cefb9_row13_col7, #T_cefb9_row13_col8, #T_cefb9_row13_col9, #T_cefb9_row13_col19, #T_cefb9_row13_col20, #T_cefb9_row13_col21, #T_cefb9_row13_col22, #T_cefb9_row13_col23, #T_cefb9_row13_col24, #T_cefb9_row13_col25, #T_cefb9_row13_col26, #T_cefb9_row13_col27, #T_cefb9_row14_col0, #T_cefb9_row14_col1, #T_cefb9_row14_col2, #T_cefb9_row14_col3, #T_cefb9_row14_col4, #T_cefb9_row14_col5, #T_cefb9_row14_col6, #T_cefb9_row14_col7, #T_cefb9_row14_col8, #T_cefb9_row14_col9, #T_cefb9_row14_col10, #T_cefb9_row14_col15, #T_cefb9_row14_col16, #T_cefb9_row14_col20, #T_cefb9_row14_col21, #T_cefb9_row14_col22, #T_cefb9_row14_col23, #T_cefb9_row14_col24, #T_cefb9_row14_col25, #T_cefb9_row14_col26, #T_cefb9_row14_col27, #T_cefb9_row15_col0, #T_cefb9_row15_col1, #T_cefb9_row15_col2, #T_cefb9_row15_col3, #T_cefb9_row15_col4, #T_cefb9_row15_col5, #T_cefb9_row15_col6, #T_cefb9_row15_col7, #T_cefb9_row15_col8, #T_cefb9_row15_col9, #T_cefb9_row15_col10, #T_cefb9_row15_col11, #T_cefb9_row15_col12, #T_cefb9_row15_col13, #T_cefb9_row15_col14, #T_cefb9_row15_col15, #T_cefb9_row15_col16, #T_cefb9_row15_col20, #T_cefb9_row15_col21, #T_cefb9_row15_col22, #T_cefb9_row15_col23, #T_cefb9_row15_col24, #T_cefb9_row15_col25, #T_cefb9_row15_col26, #T_cefb9_row15_col27, #T_cefb9_row16_col0, #T_cefb9_row16_col1, #T_cefb9_row16_col2, #T_cefb9_row16_col3, #T_cefb9_row16_col4, #T_cefb9_row16_col5, #T_cefb9_row16_col6, #T_cefb9_row16_col7, #T_cefb9_row16_col8, #T_cefb9_row16_col9, #T_cefb9_row16_col10, #T_cefb9_row16_col11, #T_cefb9_row16_col12, #T_cefb9_row16_col13, #T_cefb9_row16_col14, #T_cefb9_row16_col15, #T_cefb9_row16_col16, #T_cefb9_row16_col20, #T_cefb9_row16_col21, #T_cefb9_row16_col22, #T_cefb9_row16_col23, #T_cefb9_row16_col24, #T_cefb9_row16_col25, #T_cefb9_row16_col26, #T_cefb9_row16_col27, #T_cefb9_row17_col0, #T_cefb9_row17_col1, #T_cefb9_row17_col2, #T_cefb9_row17_col3, #T_cefb9_row17_col4, #T_cefb9_row17_col5, #T_cefb9_row17_col6, #T_cefb9_row17_col7, #T_cefb9_row17_col8, #T_cefb9_row17_col9, #T_cefb9_row17_col10, #T_cefb9_row17_col11, #T_cefb9_row17_col12, #T_cefb9_row17_col13, #T_cefb9_row17_col14, #T_cefb9_row17_col15, #T_cefb9_row17_col16, #T_cefb9_row17_col20, #T_cefb9_row17_col21, #T_cefb9_row17_col22, #T_cefb9_row17_col23, #T_cefb9_row17_col24, #T_cefb9_row17_col25, #T_cefb9_row17_col26, #T_cefb9_row17_col27, #T_cefb9_row18_col0, #T_cefb9_row18_col1, #T_cefb9_row18_col2, #T_cefb9_row18_col3, #T_cefb9_row18_col4, #T_cefb9_row18_col5, #T_cefb9_row18_col10, #T_cefb9_row18_col11, #T_cefb9_row18_col12, #T_cefb9_row18_col13, #T_cefb9_row18_col14, #T_cefb9_row18_col15, #T_cefb9_row18_col16, #T_cefb9_row18_col20, #T_cefb9_row18_col21, #T_cefb9_row18_col22, #T_cefb9_row18_col23, #T_cefb9_row18_col24, #T_cefb9_row18_col25, #T_cefb9_row18_col26, #T_cefb9_row18_col27, #T_cefb9_row19_col0, #T_cefb9_row19_col1, #T_cefb9_row19_col2, #T_cefb9_row19_col3, #T_cefb9_row19_col4, #T_cefb9_row19_col5, #T_cefb9_row19_col11, #T_cefb9_row19_col12, #T_cefb9_row19_col13, #T_cefb9_row19_col14, #T_cefb9_row19_col15, #T_cefb9_row19_col20, #T_cefb9_row19_col21, #T_cefb9_row19_col22, #T_cefb9_row19_col23, #T_cefb9_row19_col24, #T_cefb9_row19_col25, #T_cefb9_row19_col26, #T_cefb9_row19_col27, #T_cefb9_row20_col0, #T_cefb9_row20_col1, #T_cefb9_row20_col2, #T_cefb9_row20_col3, #T_cefb9_row20_col4, #T_cefb9_row20_col5, #T_cefb9_row20_col6, #T_cefb9_row20_col11, #T_cefb9_row20_col12, #T_cefb9_row20_col13, #T_cefb9_row20_col14, #T_cefb9_row20_col20, #T_cefb9_row20_col21, #T_cefb9_row20_col22, #T_cefb9_row20_col23, #T_cefb9_row20_col24, #T_cefb9_row20_col25, #T_cefb9_row20_col26, #T_cefb9_row20_col27, #T_cefb9_row21_col0, #T_cefb9_row21_col1, #T_cefb9_row21_col2, #T_cefb9_row21_col3, #T_cefb9_row21_col4, #T_cefb9_row21_col5, #T_cefb9_row21_col6, #T_cefb9_row21_col12, #T_cefb9_row21_col13, #T_cefb9_row21_col19, #T_cefb9_row21_col20, #T_cefb9_row21_col21, #T_cefb9_row21_col22, #T_cefb9_row21_col23, #T_cefb9_row21_col24, #T_cefb9_row21_col25, #T_cefb9_row21_col26, #T_cefb9_row21_col27, #T_cefb9_row22_col0, #T_cefb9_row22_col1, #T_cefb9_row22_col2, #T_cefb9_row22_col3, #T_cefb9_row22_col4, #T_cefb9_row22_col5, #T_cefb9_row22_col6, #T_cefb9_row22_col7, #T_cefb9_row22_col19, #T_cefb9_row22_col20, #T_cefb9_row22_col21, #T_cefb9_row22_col22, #T_cefb9_row22_col23, #T_cefb9_row22_col24, #T_cefb9_row22_col25, #T_cefb9_row22_col26, #T_cefb9_row22_col27, #T_cefb9_row23_col0, #T_cefb9_row23_col1, #T_cefb9_row23_col2, #T_cefb9_row23_col3, #T_cefb9_row23_col4, #T_cefb9_row23_col5, #T_cefb9_row23_col6, #T_cefb9_row23_col7, #T_cefb9_row23_col8, #T_cefb9_row23_col18, #T_cefb9_row23_col19, #T_cefb9_row23_col20, #T_cefb9_row23_col21, #T_cefb9_row23_col22, #T_cefb9_row23_col23, #T_cefb9_row23_col24, #T_cefb9_row23_col25, #T_cefb9_row23_col26, #T_cefb9_row23_col27, #T_cefb9_row24_col0, #T_cefb9_row24_col1, #T_cefb9_row24_col2, #T_cefb9_row24_col3, #T_cefb9_row24_col4, #T_cefb9_row24_col5, #T_cefb9_row24_col6, #T_cefb9_row24_col7, #T_cefb9_row24_col8, #T_cefb9_row24_col9, #T_cefb9_row24_col17, #T_cefb9_row24_col18, #T_cefb9_row24_col19, #T_cefb9_row24_col20, #T_cefb9_row24_col21, #T_cefb9_row24_col22, #T_cefb9_row24_col23, #T_cefb9_row24_col24, #T_cefb9_row24_col25, #T_cefb9_row24_col26, #T_cefb9_row24_col27, #T_cefb9_row25_col0, #T_cefb9_row25_col1, #T_cefb9_row25_col2, #T_cefb9_row25_col3, #T_cefb9_row25_col4, #T_cefb9_row25_col5, #T_cefb9_row25_col6, #T_cefb9_row25_col7, #T_cefb9_row25_col8, #T_cefb9_row25_col9, #T_cefb9_row25_col10, #T_cefb9_row25_col11, #T_cefb9_row25_col12, #T_cefb9_row25_col13, #T_cefb9_row25_col14, #T_cefb9_row25_col15, #T_cefb9_row25_col16, #T_cefb9_row25_col17, #T_cefb9_row25_col18, #T_cefb9_row25_col19, #T_cefb9_row25_col20, #T_cefb9_row25_col21, #T_cefb9_row25_col22, #T_cefb9_row25_col23, #T_cefb9_row25_col24, #T_cefb9_row25_col25, #T_cefb9_row25_col26, #T_cefb9_row25_col27, #T_cefb9_row26_col0, #T_cefb9_row26_col1, #T_cefb9_row26_col2, #T_cefb9_row26_col3, #T_cefb9_row26_col4, #T_cefb9_row26_col5, #T_cefb9_row26_col6, #T_cefb9_row26_col7, #T_cefb9_row26_col8, #T_cefb9_row26_col9, #T_cefb9_row26_col10, #T_cefb9_row26_col11, #T_cefb9_row26_col12, #T_cefb9_row26_col13, #T_cefb9_row26_col14, #T_cefb9_row26_col15, #T_cefb9_row26_col16, #T_cefb9_row26_col17, #T_cefb9_row26_col18, #T_cefb9_row26_col19, #T_cefb9_row26_col20, #T_cefb9_row26_col21, #T_cefb9_row26_col22, #T_cefb9_row26_col23, #T_cefb9_row26_col24, #T_cefb9_row26_col25, #T_cefb9_row26_col26, #T_cefb9_row26_col27, #T_cefb9_row27_col0, #T_cefb9_row27_col1, #T_cefb9_row27_col2, #T_cefb9_row27_col3, #T_cefb9_row27_col4, #T_cefb9_row27_col5, #T_cefb9_row27_col6, #T_cefb9_row27_col7, #T_cefb9_row27_col8, #T_cefb9_row27_col9, #T_cefb9_row27_col10, #T_cefb9_row27_col11, #T_cefb9_row27_col12, #T_cefb9_row27_col13, #T_cefb9_row27_col14, #T_cefb9_row27_col15, #T_cefb9_row27_col16, #T_cefb9_row27_col17, #T_cefb9_row27_col18, #T_cefb9_row27_col19, #T_cefb9_row27_col20, #T_cefb9_row27_col21, #T_cefb9_row27_col22, #T_cefb9_row27_col23, #T_cefb9_row27_col24, #T_cefb9_row27_col25, #T_cefb9_row27_col26, #T_cefb9_row27_col27 {\n",
              "  font-size: 10pt;\n",
              "  background-color: #ffffff;\n",
              "  color: #000000;\n",
              "}\n",
              "#T_cefb9_row5_col11, #T_cefb9_row9_col8, #T_cefb9_row14_col14 {\n",
              "  font-size: 10pt;\n",
              "  background-color: #f7f7f7;\n",
              "  color: #000000;\n",
              "}\n",
              "#T_cefb9_row5_col12, #T_cefb9_row13_col16 {\n",
              "  font-size: 10pt;\n",
              "  background-color: #bebebe;\n",
              "  color: #000000;\n",
              "}\n",
              "#T_cefb9_row5_col13 {\n",
              "  font-size: 10pt;\n",
              "  background-color: #6d6d6d;\n",
              "  color: #f1f1f1;\n",
              "}\n",
              "#T_cefb9_row5_col14, #T_cefb9_row5_col15, #T_cefb9_row5_col16, #T_cefb9_row5_col17, #T_cefb9_row5_col18, #T_cefb9_row6_col11, #T_cefb9_row6_col12, #T_cefb9_row6_col13, #T_cefb9_row7_col9, #T_cefb9_row7_col10, #T_cefb9_row7_col11, #T_cefb9_row7_col19, #T_cefb9_row8_col9, #T_cefb9_row8_col19, #T_cefb9_row8_col20, #T_cefb9_row9_col19, #T_cefb9_row12_col12, #T_cefb9_row12_col13, #T_cefb9_row13_col12, #T_cefb9_row13_col13, #T_cefb9_row19_col6, #T_cefb9_row19_col7, #T_cefb9_row19_col8, #T_cefb9_row20_col8, #T_cefb9_row20_col9, #T_cefb9_row21_col9, #T_cefb9_row22_col10, #T_cefb9_row23_col11, #T_cefb9_row23_col12, #T_cefb9_row23_col13, #T_cefb9_row24_col12, #T_cefb9_row24_col13 {\n",
              "  font-size: 10pt;\n",
              "  background-color: #000000;\n",
              "  color: #f1f1f1;\n",
              "}\n",
              "#T_cefb9_row5_col19, #T_cefb9_row6_col10, #T_cefb9_row9_col9 {\n",
              "  font-size: 10pt;\n",
              "  background-color: #7b7b7b;\n",
              "  color: #f1f1f1;\n",
              "}\n",
              "#T_cefb9_row6_col8, #T_cefb9_row6_col20 {\n",
              "  font-size: 10pt;\n",
              "  background-color: #f9f9f9;\n",
              "  color: #000000;\n",
              "}\n",
              "#T_cefb9_row6_col9 {\n",
              "  font-size: 10pt;\n",
              "  background-color: #ededed;\n",
              "  color: #000000;\n",
              "}\n",
              "#T_cefb9_row6_col14, #T_cefb9_row6_col16, #T_cefb9_row8_col10, #T_cefb9_row9_col18, #T_cefb9_row10_col17, #T_cefb9_row10_col18, #T_cefb9_row11_col16, #T_cefb9_row11_col17, #T_cefb9_row12_col14, #T_cefb9_row12_col16, #T_cefb9_row12_col17, #T_cefb9_row15_col18, #T_cefb9_row16_col18, #T_cefb9_row17_col18, #T_cefb9_row18_col18, #T_cefb9_row19_col18, #T_cefb9_row20_col17, #T_cefb9_row21_col16, #T_cefb9_row21_col17, #T_cefb9_row22_col16, #T_cefb9_row23_col14 {\n",
              "  font-size: 10pt;\n",
              "  background-color: #010101;\n",
              "  color: #f1f1f1;\n",
              "}\n",
              "#T_cefb9_row6_col15, #T_cefb9_row11_col15, #T_cefb9_row12_col15, #T_cefb9_row22_col15, #T_cefb9_row23_col15 {\n",
              "  font-size: 10pt;\n",
              "  background-color: #020202;\n",
              "  color: #f1f1f1;\n",
              "}\n",
              "#T_cefb9_row6_col17 {\n",
              "  font-size: 10pt;\n",
              "  background-color: #2b2b2b;\n",
              "  color: #f1f1f1;\n",
              "}\n",
              "#T_cefb9_row6_col18 {\n",
              "  font-size: 10pt;\n",
              "  background-color: #111111;\n",
              "  color: #f1f1f1;\n",
              "}\n",
              "#T_cefb9_row6_col19 {\n",
              "  font-size: 10pt;\n",
              "  background-color: #303030;\n",
              "  color: #f1f1f1;\n",
              "}\n",
              "#T_cefb9_row7_col8, #T_cefb9_row8_col8 {\n",
              "  font-size: 10pt;\n",
              "  background-color: #c2c2c2;\n",
              "  color: #000000;\n",
              "}\n",
              "#T_cefb9_row7_col12, #T_cefb9_row20_col16 {\n",
              "  font-size: 10pt;\n",
              "  background-color: #090909;\n",
              "  color: #f1f1f1;\n",
              "}\n",
              "#T_cefb9_row7_col13 {\n",
              "  font-size: 10pt;\n",
              "  background-color: #646464;\n",
              "  color: #f1f1f1;\n",
              "}\n",
              "#T_cefb9_row7_col14, #T_cefb9_row7_col15, #T_cefb9_row7_col16 {\n",
              "  font-size: 10pt;\n",
              "  background-color: #c9c9c9;\n",
              "  color: #000000;\n",
              "}\n",
              "#T_cefb9_row7_col17, #T_cefb9_row19_col10 {\n",
              "  font-size: 10pt;\n",
              "  background-color: #fefefe;\n",
              "  color: #000000;\n",
              "}\n",
              "#T_cefb9_row7_col18 {\n",
              "  font-size: 10pt;\n",
              "  background-color: #7e7e7e;\n",
              "  color: #f1f1f1;\n",
              "}\n",
              "#T_cefb9_row7_col20 {\n",
              "  font-size: 10pt;\n",
              "  background-color: #404040;\n",
              "  color: #f1f1f1;\n",
              "}\n",
              "#T_cefb9_row8_col11 {\n",
              "  font-size: 10pt;\n",
              "  background-color: #656565;\n",
              "  color: #f1f1f1;\n",
              "}\n",
              "#T_cefb9_row8_col12 {\n",
              "  font-size: 10pt;\n",
              "  background-color: #e0e0e0;\n",
              "  color: #000000;\n",
              "}\n",
              "#T_cefb9_row8_col17 {\n",
              "  font-size: 10pt;\n",
              "  background-color: #ececec;\n",
              "  color: #000000;\n",
              "}\n",
              "#T_cefb9_row8_col18 {\n",
              "  font-size: 10pt;\n",
              "  background-color: #606060;\n",
              "  color: #f1f1f1;\n",
              "}\n",
              "#T_cefb9_row9_col10 {\n",
              "  font-size: 10pt;\n",
              "  background-color: #e2e2e2;\n",
              "  color: #000000;\n",
              "}\n",
              "#T_cefb9_row9_col16 {\n",
              "  font-size: 10pt;\n",
              "  background-color: #eaeaea;\n",
              "  color: #000000;\n",
              "}\n",
              "#T_cefb9_row9_col17 {\n",
              "  font-size: 10pt;\n",
              "  background-color: #1d1d1d;\n",
              "  color: #f1f1f1;\n",
              "}\n",
              "#T_cefb9_row9_col20 {\n",
              "  font-size: 10pt;\n",
              "  background-color: #464646;\n",
              "  color: #f1f1f1;\n",
              "}\n",
              "#T_cefb9_row10_col14 {\n",
              "  font-size: 10pt;\n",
              "  background-color: #c8c8c8;\n",
              "  color: #000000;\n",
              "}\n",
              "#T_cefb9_row10_col15, #T_cefb9_row12_col11 {\n",
              "  font-size: 10pt;\n",
              "  background-color: #3d3d3d;\n",
              "  color: #f1f1f1;\n",
              "}\n",
              "#T_cefb9_row10_col16 {\n",
              "  font-size: 10pt;\n",
              "  background-color: #141414;\n",
              "  color: #f1f1f1;\n",
              "}\n",
              "#T_cefb9_row10_col19, #T_cefb9_row20_col18 {\n",
              "  font-size: 10pt;\n",
              "  background-color: #333333;\n",
              "  color: #f1f1f1;\n",
              "}\n",
              "#T_cefb9_row10_col20, #T_cefb9_row24_col16 {\n",
              "  font-size: 10pt;\n",
              "  background-color: #fafafa;\n",
              "  color: #000000;\n",
              "}\n",
              "#T_cefb9_row11_col11 {\n",
              "  font-size: 10pt;\n",
              "  background-color: #d4d4d4;\n",
              "  color: #000000;\n",
              "}\n",
              "#T_cefb9_row11_col12 {\n",
              "  font-size: 10pt;\n",
              "  background-color: #848484;\n",
              "  color: #f1f1f1;\n",
              "}\n",
              "#T_cefb9_row11_col13, #T_cefb9_row14_col18 {\n",
              "  font-size: 10pt;\n",
              "  background-color: #0c0c0c;\n",
              "  color: #f1f1f1;\n",
              "}\n",
              "#T_cefb9_row11_col14, #T_cefb9_row19_col17 {\n",
              "  font-size: 10pt;\n",
              "  background-color: #030303;\n",
              "  color: #f1f1f1;\n",
              "}\n",
              "#T_cefb9_row11_col18 {\n",
              "  font-size: 10pt;\n",
              "  background-color: #5c5c5c;\n",
              "  color: #f1f1f1;\n",
              "}\n",
              "#T_cefb9_row11_col19 {\n",
              "  font-size: 10pt;\n",
              "  background-color: #e3e3e3;\n",
              "  color: #000000;\n",
              "}\n",
              "#T_cefb9_row12_col10, #T_cefb9_row13_col10 {\n",
              "  font-size: 10pt;\n",
              "  background-color: #fdfdfd;\n",
              "  color: #000000;\n",
              "}\n",
              "#T_cefb9_row12_col18, #T_cefb9_row21_col18 {\n",
              "  font-size: 10pt;\n",
              "  background-color: #b0b0b0;\n",
              "  color: #000000;\n",
              "}\n",
              "#T_cefb9_row13_col11 {\n",
              "  font-size: 10pt;\n",
              "  background-color: #151515;\n",
              "  color: #f1f1f1;\n",
              "}\n",
              "#T_cefb9_row13_col14 {\n",
              "  font-size: 10pt;\n",
              "  background-color: #272727;\n",
              "  color: #f1f1f1;\n",
              "}\n",
              "#T_cefb9_row13_col15 {\n",
              "  font-size: 10pt;\n",
              "  background-color: #6b6b6b;\n",
              "  color: #f1f1f1;\n",
              "}\n",
              "#T_cefb9_row13_col17, #T_cefb9_row23_col10 {\n",
              "  font-size: 10pt;\n",
              "  background-color: #050505;\n",
              "  color: #f1f1f1;\n",
              "}\n",
              "#T_cefb9_row13_col18, #T_cefb9_row15_col19 {\n",
              "  font-size: 10pt;\n",
              "  background-color: #999999;\n",
              "  color: #f1f1f1;\n",
              "}\n",
              "#T_cefb9_row14_col11 {\n",
              "  font-size: 10pt;\n",
              "  background-color: #aaaaaa;\n",
              "  color: #f1f1f1;\n",
              "}\n",
              "#T_cefb9_row14_col12 {\n",
              "  font-size: 10pt;\n",
              "  background-color: #616161;\n",
              "  color: #f1f1f1;\n",
              "}\n",
              "#T_cefb9_row14_col13 {\n",
              "  font-size: 10pt;\n",
              "  background-color: #cecece;\n",
              "  color: #000000;\n",
              "}\n",
              "#T_cefb9_row14_col17, #T_cefb9_row18_col17, #T_cefb9_row22_col11 {\n",
              "  font-size: 10pt;\n",
              "  background-color: #060606;\n",
              "  color: #f1f1f1;\n",
              "}\n",
              "#T_cefb9_row14_col19, #T_cefb9_row20_col15 {\n",
              "  font-size: 10pt;\n",
              "  background-color: #dadada;\n",
              "  color: #000000;\n",
              "}\n",
              "#T_cefb9_row15_col17 {\n",
              "  font-size: 10pt;\n",
              "  background-color: #323232;\n",
              "  color: #f1f1f1;\n",
              "}\n",
              "#T_cefb9_row16_col17 {\n",
              "  font-size: 10pt;\n",
              "  background-color: #929292;\n",
              "  color: #f1f1f1;\n",
              "}\n",
              "#T_cefb9_row16_col19, #T_cefb9_row17_col19 {\n",
              "  font-size: 10pt;\n",
              "  background-color: #3a3a3a;\n",
              "  color: #f1f1f1;\n",
              "}\n",
              "#T_cefb9_row17_col17 {\n",
              "  font-size: 10pt;\n",
              "  background-color: #131313;\n",
              "  color: #f1f1f1;\n",
              "}\n",
              "#T_cefb9_row18_col6, #T_cefb9_row20_col10 {\n",
              "  font-size: 10pt;\n",
              "  background-color: #efefef;\n",
              "  color: #000000;\n",
              "}\n",
              "#T_cefb9_row18_col7 {\n",
              "  font-size: 10pt;\n",
              "  background-color: #242424;\n",
              "  color: #f1f1f1;\n",
              "}\n",
              "#T_cefb9_row18_col8, #T_cefb9_row21_col15 {\n",
              "  font-size: 10pt;\n",
              "  background-color: #393939;\n",
              "  color: #f1f1f1;\n",
              "}\n",
              "#T_cefb9_row18_col9 {\n",
              "  font-size: 10pt;\n",
              "  background-color: #f5f5f5;\n",
              "  color: #000000;\n",
              "}\n",
              "#T_cefb9_row18_col19 {\n",
              "  font-size: 10pt;\n",
              "  background-color: #828282;\n",
              "  color: #f1f1f1;\n",
              "}\n",
              "#T_cefb9_row19_col9 {\n",
              "  font-size: 10pt;\n",
              "  background-color: #727272;\n",
              "  color: #f1f1f1;\n",
              "}\n",
              "#T_cefb9_row19_col16 {\n",
              "  font-size: 10pt;\n",
              "  background-color: #cbcbcb;\n",
              "  color: #000000;\n",
              "}\n",
              "#T_cefb9_row19_col19 {\n",
              "  font-size: 10pt;\n",
              "  background-color: #c3c3c3;\n",
              "  color: #000000;\n",
              "}\n",
              "#T_cefb9_row20_col7 {\n",
              "  font-size: 10pt;\n",
              "  background-color: #4a4a4a;\n",
              "  color: #f1f1f1;\n",
              "}\n",
              "#T_cefb9_row20_col19 {\n",
              "  font-size: 10pt;\n",
              "  background-color: #f0f0f0;\n",
              "  color: #000000;\n",
              "}\n",
              "#T_cefb9_row21_col7 {\n",
              "  font-size: 10pt;\n",
              "  background-color: #f4f4f4;\n",
              "  color: #000000;\n",
              "}\n",
              "#T_cefb9_row21_col8 {\n",
              "  font-size: 10pt;\n",
              "  background-color: #525252;\n",
              "  color: #f1f1f1;\n",
              "}\n",
              "#T_cefb9_row21_col10 {\n",
              "  font-size: 10pt;\n",
              "  background-color: #282828;\n",
              "  color: #f1f1f1;\n",
              "}\n",
              "#T_cefb9_row21_col11 {\n",
              "  font-size: 10pt;\n",
              "  background-color: #a8a8a8;\n",
              "  color: #f1f1f1;\n",
              "}\n",
              "#T_cefb9_row21_col14 {\n",
              "  font-size: 10pt;\n",
              "  background-color: #c5c5c5;\n",
              "  color: #000000;\n",
              "}\n",
              "#T_cefb9_row22_col8 {\n",
              "  font-size: 10pt;\n",
              "  background-color: #dcdcdc;\n",
              "  color: #000000;\n",
              "}\n",
              "#T_cefb9_row22_col9 {\n",
              "  font-size: 10pt;\n",
              "  background-color: #0a0a0a;\n",
              "  color: #f1f1f1;\n",
              "}\n",
              "#T_cefb9_row22_col12, #T_cefb9_row22_col13, #T_cefb9_row24_col11 {\n",
              "  font-size: 10pt;\n",
              "  background-color: #414141;\n",
              "  color: #f1f1f1;\n",
              "}\n",
              "#T_cefb9_row22_col14 {\n",
              "  font-size: 10pt;\n",
              "  background-color: #0f0f0f;\n",
              "  color: #f1f1f1;\n",
              "}\n",
              "#T_cefb9_row22_col17 {\n",
              "  font-size: 10pt;\n",
              "  background-color: #353535;\n",
              "  color: #f1f1f1;\n",
              "}\n",
              "#T_cefb9_row22_col18 {\n",
              "  font-size: 10pt;\n",
              "  background-color: #d2d2d2;\n",
              "  color: #000000;\n",
              "}\n",
              "#T_cefb9_row23_col9 {\n",
              "  font-size: 10pt;\n",
              "  background-color: #cacaca;\n",
              "  color: #000000;\n",
              "}\n",
              "#T_cefb9_row23_col16 {\n",
              "  font-size: 10pt;\n",
              "  background-color: #383838;\n",
              "  color: #f1f1f1;\n",
              "}\n",
              "#T_cefb9_row23_col17, #T_cefb9_row24_col10 {\n",
              "  font-size: 10pt;\n",
              "  background-color: #f6f6f6;\n",
              "  color: #000000;\n",
              "}\n",
              "#T_cefb9_row24_col14 {\n",
              "  font-size: 10pt;\n",
              "  background-color: #2c2c2c;\n",
              "  color: #f1f1f1;\n",
              "}\n",
              "#T_cefb9_row24_col15 {\n",
              "  font-size: 10pt;\n",
              "  background-color: #c1c1c1;\n",
              "  color: #000000;\n",
              "}\n",
              "</style>\n",
              "<table id=\"T_cefb9\" class=\"dataframe\">\n",
              "  <thead>\n",
              "    <tr>\n",
              "      <th class=\"blank level0\" >&nbsp;</th>\n",
              "      <th id=\"T_cefb9_level0_col0\" class=\"col_heading level0 col0\" >0</th>\n",
              "      <th id=\"T_cefb9_level0_col1\" class=\"col_heading level0 col1\" >1</th>\n",
              "      <th id=\"T_cefb9_level0_col2\" class=\"col_heading level0 col2\" >2</th>\n",
              "      <th id=\"T_cefb9_level0_col3\" class=\"col_heading level0 col3\" >3</th>\n",
              "      <th id=\"T_cefb9_level0_col4\" class=\"col_heading level0 col4\" >4</th>\n",
              "      <th id=\"T_cefb9_level0_col5\" class=\"col_heading level0 col5\" >5</th>\n",
              "      <th id=\"T_cefb9_level0_col6\" class=\"col_heading level0 col6\" >6</th>\n",
              "      <th id=\"T_cefb9_level0_col7\" class=\"col_heading level0 col7\" >7</th>\n",
              "      <th id=\"T_cefb9_level0_col8\" class=\"col_heading level0 col8\" >8</th>\n",
              "      <th id=\"T_cefb9_level0_col9\" class=\"col_heading level0 col9\" >9</th>\n",
              "      <th id=\"T_cefb9_level0_col10\" class=\"col_heading level0 col10\" >10</th>\n",
              "      <th id=\"T_cefb9_level0_col11\" class=\"col_heading level0 col11\" >11</th>\n",
              "      <th id=\"T_cefb9_level0_col12\" class=\"col_heading level0 col12\" >12</th>\n",
              "      <th id=\"T_cefb9_level0_col13\" class=\"col_heading level0 col13\" >13</th>\n",
              "      <th id=\"T_cefb9_level0_col14\" class=\"col_heading level0 col14\" >14</th>\n",
              "      <th id=\"T_cefb9_level0_col15\" class=\"col_heading level0 col15\" >15</th>\n",
              "      <th id=\"T_cefb9_level0_col16\" class=\"col_heading level0 col16\" >16</th>\n",
              "      <th id=\"T_cefb9_level0_col17\" class=\"col_heading level0 col17\" >17</th>\n",
              "      <th id=\"T_cefb9_level0_col18\" class=\"col_heading level0 col18\" >18</th>\n",
              "      <th id=\"T_cefb9_level0_col19\" class=\"col_heading level0 col19\" >19</th>\n",
              "      <th id=\"T_cefb9_level0_col20\" class=\"col_heading level0 col20\" >20</th>\n",
              "      <th id=\"T_cefb9_level0_col21\" class=\"col_heading level0 col21\" >21</th>\n",
              "      <th id=\"T_cefb9_level0_col22\" class=\"col_heading level0 col22\" >22</th>\n",
              "      <th id=\"T_cefb9_level0_col23\" class=\"col_heading level0 col23\" >23</th>\n",
              "      <th id=\"T_cefb9_level0_col24\" class=\"col_heading level0 col24\" >24</th>\n",
              "      <th id=\"T_cefb9_level0_col25\" class=\"col_heading level0 col25\" >25</th>\n",
              "      <th id=\"T_cefb9_level0_col26\" class=\"col_heading level0 col26\" >26</th>\n",
              "      <th id=\"T_cefb9_level0_col27\" class=\"col_heading level0 col27\" >27</th>\n",
              "    </tr>\n",
              "  </thead>\n",
              "  <tbody>\n",
              "    <tr>\n",
              "      <th id=\"T_cefb9_level0_row0\" class=\"row_heading level0 row0\" >0</th>\n",
              "      <td id=\"T_cefb9_row0_col0\" class=\"data row0 col0\" >0</td>\n",
              "      <td id=\"T_cefb9_row0_col1\" class=\"data row0 col1\" >0</td>\n",
              "      <td id=\"T_cefb9_row0_col2\" class=\"data row0 col2\" >0</td>\n",
              "      <td id=\"T_cefb9_row0_col3\" class=\"data row0 col3\" >0</td>\n",
              "      <td id=\"T_cefb9_row0_col4\" class=\"data row0 col4\" >0</td>\n",
              "      <td id=\"T_cefb9_row0_col5\" class=\"data row0 col5\" >0</td>\n",
              "      <td id=\"T_cefb9_row0_col6\" class=\"data row0 col6\" >0</td>\n",
              "      <td id=\"T_cefb9_row0_col7\" class=\"data row0 col7\" >0</td>\n",
              "      <td id=\"T_cefb9_row0_col8\" class=\"data row0 col8\" >0</td>\n",
              "      <td id=\"T_cefb9_row0_col9\" class=\"data row0 col9\" >0</td>\n",
              "      <td id=\"T_cefb9_row0_col10\" class=\"data row0 col10\" >0</td>\n",
              "      <td id=\"T_cefb9_row0_col11\" class=\"data row0 col11\" >0</td>\n",
              "      <td id=\"T_cefb9_row0_col12\" class=\"data row0 col12\" >0</td>\n",
              "      <td id=\"T_cefb9_row0_col13\" class=\"data row0 col13\" >0</td>\n",
              "      <td id=\"T_cefb9_row0_col14\" class=\"data row0 col14\" >0</td>\n",
              "      <td id=\"T_cefb9_row0_col15\" class=\"data row0 col15\" >0</td>\n",
              "      <td id=\"T_cefb9_row0_col16\" class=\"data row0 col16\" >0</td>\n",
              "      <td id=\"T_cefb9_row0_col17\" class=\"data row0 col17\" >0</td>\n",
              "      <td id=\"T_cefb9_row0_col18\" class=\"data row0 col18\" >0</td>\n",
              "      <td id=\"T_cefb9_row0_col19\" class=\"data row0 col19\" >0</td>\n",
              "      <td id=\"T_cefb9_row0_col20\" class=\"data row0 col20\" >0</td>\n",
              "      <td id=\"T_cefb9_row0_col21\" class=\"data row0 col21\" >0</td>\n",
              "      <td id=\"T_cefb9_row0_col22\" class=\"data row0 col22\" >0</td>\n",
              "      <td id=\"T_cefb9_row0_col23\" class=\"data row0 col23\" >0</td>\n",
              "      <td id=\"T_cefb9_row0_col24\" class=\"data row0 col24\" >0</td>\n",
              "      <td id=\"T_cefb9_row0_col25\" class=\"data row0 col25\" >0</td>\n",
              "      <td id=\"T_cefb9_row0_col26\" class=\"data row0 col26\" >0</td>\n",
              "      <td id=\"T_cefb9_row0_col27\" class=\"data row0 col27\" >0</td>\n",
              "    </tr>\n",
              "    <tr>\n",
              "      <th id=\"T_cefb9_level0_row1\" class=\"row_heading level0 row1\" >1</th>\n",
              "      <td id=\"T_cefb9_row1_col0\" class=\"data row1 col0\" >0</td>\n",
              "      <td id=\"T_cefb9_row1_col1\" class=\"data row1 col1\" >0</td>\n",
              "      <td id=\"T_cefb9_row1_col2\" class=\"data row1 col2\" >0</td>\n",
              "      <td id=\"T_cefb9_row1_col3\" class=\"data row1 col3\" >0</td>\n",
              "      <td id=\"T_cefb9_row1_col4\" class=\"data row1 col4\" >0</td>\n",
              "      <td id=\"T_cefb9_row1_col5\" class=\"data row1 col5\" >0</td>\n",
              "      <td id=\"T_cefb9_row1_col6\" class=\"data row1 col6\" >0</td>\n",
              "      <td id=\"T_cefb9_row1_col7\" class=\"data row1 col7\" >0</td>\n",
              "      <td id=\"T_cefb9_row1_col8\" class=\"data row1 col8\" >0</td>\n",
              "      <td id=\"T_cefb9_row1_col9\" class=\"data row1 col9\" >0</td>\n",
              "      <td id=\"T_cefb9_row1_col10\" class=\"data row1 col10\" >0</td>\n",
              "      <td id=\"T_cefb9_row1_col11\" class=\"data row1 col11\" >0</td>\n",
              "      <td id=\"T_cefb9_row1_col12\" class=\"data row1 col12\" >0</td>\n",
              "      <td id=\"T_cefb9_row1_col13\" class=\"data row1 col13\" >0</td>\n",
              "      <td id=\"T_cefb9_row1_col14\" class=\"data row1 col14\" >0</td>\n",
              "      <td id=\"T_cefb9_row1_col15\" class=\"data row1 col15\" >0</td>\n",
              "      <td id=\"T_cefb9_row1_col16\" class=\"data row1 col16\" >0</td>\n",
              "      <td id=\"T_cefb9_row1_col17\" class=\"data row1 col17\" >0</td>\n",
              "      <td id=\"T_cefb9_row1_col18\" class=\"data row1 col18\" >0</td>\n",
              "      <td id=\"T_cefb9_row1_col19\" class=\"data row1 col19\" >0</td>\n",
              "      <td id=\"T_cefb9_row1_col20\" class=\"data row1 col20\" >0</td>\n",
              "      <td id=\"T_cefb9_row1_col21\" class=\"data row1 col21\" >0</td>\n",
              "      <td id=\"T_cefb9_row1_col22\" class=\"data row1 col22\" >0</td>\n",
              "      <td id=\"T_cefb9_row1_col23\" class=\"data row1 col23\" >0</td>\n",
              "      <td id=\"T_cefb9_row1_col24\" class=\"data row1 col24\" >0</td>\n",
              "      <td id=\"T_cefb9_row1_col25\" class=\"data row1 col25\" >0</td>\n",
              "      <td id=\"T_cefb9_row1_col26\" class=\"data row1 col26\" >0</td>\n",
              "      <td id=\"T_cefb9_row1_col27\" class=\"data row1 col27\" >0</td>\n",
              "    </tr>\n",
              "    <tr>\n",
              "      <th id=\"T_cefb9_level0_row2\" class=\"row_heading level0 row2\" >2</th>\n",
              "      <td id=\"T_cefb9_row2_col0\" class=\"data row2 col0\" >0</td>\n",
              "      <td id=\"T_cefb9_row2_col1\" class=\"data row2 col1\" >0</td>\n",
              "      <td id=\"T_cefb9_row2_col2\" class=\"data row2 col2\" >0</td>\n",
              "      <td id=\"T_cefb9_row2_col3\" class=\"data row2 col3\" >0</td>\n",
              "      <td id=\"T_cefb9_row2_col4\" class=\"data row2 col4\" >0</td>\n",
              "      <td id=\"T_cefb9_row2_col5\" class=\"data row2 col5\" >0</td>\n",
              "      <td id=\"T_cefb9_row2_col6\" class=\"data row2 col6\" >0</td>\n",
              "      <td id=\"T_cefb9_row2_col7\" class=\"data row2 col7\" >0</td>\n",
              "      <td id=\"T_cefb9_row2_col8\" class=\"data row2 col8\" >0</td>\n",
              "      <td id=\"T_cefb9_row2_col9\" class=\"data row2 col9\" >0</td>\n",
              "      <td id=\"T_cefb9_row2_col10\" class=\"data row2 col10\" >0</td>\n",
              "      <td id=\"T_cefb9_row2_col11\" class=\"data row2 col11\" >0</td>\n",
              "      <td id=\"T_cefb9_row2_col12\" class=\"data row2 col12\" >0</td>\n",
              "      <td id=\"T_cefb9_row2_col13\" class=\"data row2 col13\" >0</td>\n",
              "      <td id=\"T_cefb9_row2_col14\" class=\"data row2 col14\" >0</td>\n",
              "      <td id=\"T_cefb9_row2_col15\" class=\"data row2 col15\" >0</td>\n",
              "      <td id=\"T_cefb9_row2_col16\" class=\"data row2 col16\" >0</td>\n",
              "      <td id=\"T_cefb9_row2_col17\" class=\"data row2 col17\" >0</td>\n",
              "      <td id=\"T_cefb9_row2_col18\" class=\"data row2 col18\" >0</td>\n",
              "      <td id=\"T_cefb9_row2_col19\" class=\"data row2 col19\" >0</td>\n",
              "      <td id=\"T_cefb9_row2_col20\" class=\"data row2 col20\" >0</td>\n",
              "      <td id=\"T_cefb9_row2_col21\" class=\"data row2 col21\" >0</td>\n",
              "      <td id=\"T_cefb9_row2_col22\" class=\"data row2 col22\" >0</td>\n",
              "      <td id=\"T_cefb9_row2_col23\" class=\"data row2 col23\" >0</td>\n",
              "      <td id=\"T_cefb9_row2_col24\" class=\"data row2 col24\" >0</td>\n",
              "      <td id=\"T_cefb9_row2_col25\" class=\"data row2 col25\" >0</td>\n",
              "      <td id=\"T_cefb9_row2_col26\" class=\"data row2 col26\" >0</td>\n",
              "      <td id=\"T_cefb9_row2_col27\" class=\"data row2 col27\" >0</td>\n",
              "    </tr>\n",
              "    <tr>\n",
              "      <th id=\"T_cefb9_level0_row3\" class=\"row_heading level0 row3\" >3</th>\n",
              "      <td id=\"T_cefb9_row3_col0\" class=\"data row3 col0\" >0</td>\n",
              "      <td id=\"T_cefb9_row3_col1\" class=\"data row3 col1\" >0</td>\n",
              "      <td id=\"T_cefb9_row3_col2\" class=\"data row3 col2\" >0</td>\n",
              "      <td id=\"T_cefb9_row3_col3\" class=\"data row3 col3\" >0</td>\n",
              "      <td id=\"T_cefb9_row3_col4\" class=\"data row3 col4\" >0</td>\n",
              "      <td id=\"T_cefb9_row3_col5\" class=\"data row3 col5\" >0</td>\n",
              "      <td id=\"T_cefb9_row3_col6\" class=\"data row3 col6\" >0</td>\n",
              "      <td id=\"T_cefb9_row3_col7\" class=\"data row3 col7\" >0</td>\n",
              "      <td id=\"T_cefb9_row3_col8\" class=\"data row3 col8\" >0</td>\n",
              "      <td id=\"T_cefb9_row3_col9\" class=\"data row3 col9\" >0</td>\n",
              "      <td id=\"T_cefb9_row3_col10\" class=\"data row3 col10\" >0</td>\n",
              "      <td id=\"T_cefb9_row3_col11\" class=\"data row3 col11\" >0</td>\n",
              "      <td id=\"T_cefb9_row3_col12\" class=\"data row3 col12\" >0</td>\n",
              "      <td id=\"T_cefb9_row3_col13\" class=\"data row3 col13\" >0</td>\n",
              "      <td id=\"T_cefb9_row3_col14\" class=\"data row3 col14\" >0</td>\n",
              "      <td id=\"T_cefb9_row3_col15\" class=\"data row3 col15\" >0</td>\n",
              "      <td id=\"T_cefb9_row3_col16\" class=\"data row3 col16\" >0</td>\n",
              "      <td id=\"T_cefb9_row3_col17\" class=\"data row3 col17\" >0</td>\n",
              "      <td id=\"T_cefb9_row3_col18\" class=\"data row3 col18\" >0</td>\n",
              "      <td id=\"T_cefb9_row3_col19\" class=\"data row3 col19\" >0</td>\n",
              "      <td id=\"T_cefb9_row3_col20\" class=\"data row3 col20\" >0</td>\n",
              "      <td id=\"T_cefb9_row3_col21\" class=\"data row3 col21\" >0</td>\n",
              "      <td id=\"T_cefb9_row3_col22\" class=\"data row3 col22\" >0</td>\n",
              "      <td id=\"T_cefb9_row3_col23\" class=\"data row3 col23\" >0</td>\n",
              "      <td id=\"T_cefb9_row3_col24\" class=\"data row3 col24\" >0</td>\n",
              "      <td id=\"T_cefb9_row3_col25\" class=\"data row3 col25\" >0</td>\n",
              "      <td id=\"T_cefb9_row3_col26\" class=\"data row3 col26\" >0</td>\n",
              "      <td id=\"T_cefb9_row3_col27\" class=\"data row3 col27\" >0</td>\n",
              "    </tr>\n",
              "    <tr>\n",
              "      <th id=\"T_cefb9_level0_row4\" class=\"row_heading level0 row4\" >4</th>\n",
              "      <td id=\"T_cefb9_row4_col0\" class=\"data row4 col0\" >0</td>\n",
              "      <td id=\"T_cefb9_row4_col1\" class=\"data row4 col1\" >0</td>\n",
              "      <td id=\"T_cefb9_row4_col2\" class=\"data row4 col2\" >0</td>\n",
              "      <td id=\"T_cefb9_row4_col3\" class=\"data row4 col3\" >0</td>\n",
              "      <td id=\"T_cefb9_row4_col4\" class=\"data row4 col4\" >0</td>\n",
              "      <td id=\"T_cefb9_row4_col5\" class=\"data row4 col5\" >0</td>\n",
              "      <td id=\"T_cefb9_row4_col6\" class=\"data row4 col6\" >0</td>\n",
              "      <td id=\"T_cefb9_row4_col7\" class=\"data row4 col7\" >0</td>\n",
              "      <td id=\"T_cefb9_row4_col8\" class=\"data row4 col8\" >0</td>\n",
              "      <td id=\"T_cefb9_row4_col9\" class=\"data row4 col9\" >0</td>\n",
              "      <td id=\"T_cefb9_row4_col10\" class=\"data row4 col10\" >0</td>\n",
              "      <td id=\"T_cefb9_row4_col11\" class=\"data row4 col11\" >0</td>\n",
              "      <td id=\"T_cefb9_row4_col12\" class=\"data row4 col12\" >0</td>\n",
              "      <td id=\"T_cefb9_row4_col13\" class=\"data row4 col13\" >0</td>\n",
              "      <td id=\"T_cefb9_row4_col14\" class=\"data row4 col14\" >0</td>\n",
              "      <td id=\"T_cefb9_row4_col15\" class=\"data row4 col15\" >0</td>\n",
              "      <td id=\"T_cefb9_row4_col16\" class=\"data row4 col16\" >0</td>\n",
              "      <td id=\"T_cefb9_row4_col17\" class=\"data row4 col17\" >0</td>\n",
              "      <td id=\"T_cefb9_row4_col18\" class=\"data row4 col18\" >0</td>\n",
              "      <td id=\"T_cefb9_row4_col19\" class=\"data row4 col19\" >0</td>\n",
              "      <td id=\"T_cefb9_row4_col20\" class=\"data row4 col20\" >0</td>\n",
              "      <td id=\"T_cefb9_row4_col21\" class=\"data row4 col21\" >0</td>\n",
              "      <td id=\"T_cefb9_row4_col22\" class=\"data row4 col22\" >0</td>\n",
              "      <td id=\"T_cefb9_row4_col23\" class=\"data row4 col23\" >0</td>\n",
              "      <td id=\"T_cefb9_row4_col24\" class=\"data row4 col24\" >0</td>\n",
              "      <td id=\"T_cefb9_row4_col25\" class=\"data row4 col25\" >0</td>\n",
              "      <td id=\"T_cefb9_row4_col26\" class=\"data row4 col26\" >0</td>\n",
              "      <td id=\"T_cefb9_row4_col27\" class=\"data row4 col27\" >0</td>\n",
              "    </tr>\n",
              "    <tr>\n",
              "      <th id=\"T_cefb9_level0_row5\" class=\"row_heading level0 row5\" >5</th>\n",
              "      <td id=\"T_cefb9_row5_col0\" class=\"data row5 col0\" >0</td>\n",
              "      <td id=\"T_cefb9_row5_col1\" class=\"data row5 col1\" >0</td>\n",
              "      <td id=\"T_cefb9_row5_col2\" class=\"data row5 col2\" >0</td>\n",
              "      <td id=\"T_cefb9_row5_col3\" class=\"data row5 col3\" >0</td>\n",
              "      <td id=\"T_cefb9_row5_col4\" class=\"data row5 col4\" >0</td>\n",
              "      <td id=\"T_cefb9_row5_col5\" class=\"data row5 col5\" >0</td>\n",
              "      <td id=\"T_cefb9_row5_col6\" class=\"data row5 col6\" >0</td>\n",
              "      <td id=\"T_cefb9_row5_col7\" class=\"data row5 col7\" >0</td>\n",
              "      <td id=\"T_cefb9_row5_col8\" class=\"data row5 col8\" >0</td>\n",
              "      <td id=\"T_cefb9_row5_col9\" class=\"data row5 col9\" >0</td>\n",
              "      <td id=\"T_cefb9_row5_col10\" class=\"data row5 col10\" >1</td>\n",
              "      <td id=\"T_cefb9_row5_col11\" class=\"data row5 col11\" >18</td>\n",
              "      <td id=\"T_cefb9_row5_col12\" class=\"data row5 col12\" >93</td>\n",
              "      <td id=\"T_cefb9_row5_col13\" class=\"data row5 col13\" >164</td>\n",
              "      <td id=\"T_cefb9_row5_col14\" class=\"data row5 col14\" >254</td>\n",
              "      <td id=\"T_cefb9_row5_col15\" class=\"data row5 col15\" >255</td>\n",
              "      <td id=\"T_cefb9_row5_col16\" class=\"data row5 col16\" >254</td>\n",
              "      <td id=\"T_cefb9_row5_col17\" class=\"data row5 col17\" >254</td>\n",
              "      <td id=\"T_cefb9_row5_col18\" class=\"data row5 col18\" >254</td>\n",
              "      <td id=\"T_cefb9_row5_col19\" class=\"data row5 col19\" >151</td>\n",
              "      <td id=\"T_cefb9_row5_col20\" class=\"data row5 col20\" >0</td>\n",
              "      <td id=\"T_cefb9_row5_col21\" class=\"data row5 col21\" >0</td>\n",
              "      <td id=\"T_cefb9_row5_col22\" class=\"data row5 col22\" >0</td>\n",
              "      <td id=\"T_cefb9_row5_col23\" class=\"data row5 col23\" >0</td>\n",
              "      <td id=\"T_cefb9_row5_col24\" class=\"data row5 col24\" >0</td>\n",
              "      <td id=\"T_cefb9_row5_col25\" class=\"data row5 col25\" >0</td>\n",
              "      <td id=\"T_cefb9_row5_col26\" class=\"data row5 col26\" >0</td>\n",
              "      <td id=\"T_cefb9_row5_col27\" class=\"data row5 col27\" >0</td>\n",
              "    </tr>\n",
              "    <tr>\n",
              "      <th id=\"T_cefb9_level0_row6\" class=\"row_heading level0 row6\" >6</th>\n",
              "      <td id=\"T_cefb9_row6_col0\" class=\"data row6 col0\" >0</td>\n",
              "      <td id=\"T_cefb9_row6_col1\" class=\"data row6 col1\" >0</td>\n",
              "      <td id=\"T_cefb9_row6_col2\" class=\"data row6 col2\" >0</td>\n",
              "      <td id=\"T_cefb9_row6_col3\" class=\"data row6 col3\" >0</td>\n",
              "      <td id=\"T_cefb9_row6_col4\" class=\"data row6 col4\" >0</td>\n",
              "      <td id=\"T_cefb9_row6_col5\" class=\"data row6 col5\" >0</td>\n",
              "      <td id=\"T_cefb9_row6_col6\" class=\"data row6 col6\" >0</td>\n",
              "      <td id=\"T_cefb9_row6_col7\" class=\"data row6 col7\" >0</td>\n",
              "      <td id=\"T_cefb9_row6_col8\" class=\"data row6 col8\" >13</td>\n",
              "      <td id=\"T_cefb9_row6_col9\" class=\"data row6 col9\" >36</td>\n",
              "      <td id=\"T_cefb9_row6_col10\" class=\"data row6 col10\" >151</td>\n",
              "      <td id=\"T_cefb9_row6_col11\" class=\"data row6 col11\" >253</td>\n",
              "      <td id=\"T_cefb9_row6_col12\" class=\"data row6 col12\" >253</td>\n",
              "      <td id=\"T_cefb9_row6_col13\" class=\"data row6 col13\" >253</td>\n",
              "      <td id=\"T_cefb9_row6_col14\" class=\"data row6 col14\" >253</td>\n",
              "      <td id=\"T_cefb9_row6_col15\" class=\"data row6 col15\" >253</td>\n",
              "      <td id=\"T_cefb9_row6_col16\" class=\"data row6 col16\" >253</td>\n",
              "      <td id=\"T_cefb9_row6_col17\" class=\"data row6 col17\" >218</td>\n",
              "      <td id=\"T_cefb9_row6_col18\" class=\"data row6 col18\" >239</td>\n",
              "      <td id=\"T_cefb9_row6_col19\" class=\"data row6 col19\" >213</td>\n",
              "      <td id=\"T_cefb9_row6_col20\" class=\"data row6 col20\" >10</td>\n",
              "      <td id=\"T_cefb9_row6_col21\" class=\"data row6 col21\" >0</td>\n",
              "      <td id=\"T_cefb9_row6_col22\" class=\"data row6 col22\" >0</td>\n",
              "      <td id=\"T_cefb9_row6_col23\" class=\"data row6 col23\" >0</td>\n",
              "      <td id=\"T_cefb9_row6_col24\" class=\"data row6 col24\" >0</td>\n",
              "      <td id=\"T_cefb9_row6_col25\" class=\"data row6 col25\" >0</td>\n",
              "      <td id=\"T_cefb9_row6_col26\" class=\"data row6 col26\" >0</td>\n",
              "      <td id=\"T_cefb9_row6_col27\" class=\"data row6 col27\" >0</td>\n",
              "    </tr>\n",
              "    <tr>\n",
              "      <th id=\"T_cefb9_level0_row7\" class=\"row_heading level0 row7\" >7</th>\n",
              "      <td id=\"T_cefb9_row7_col0\" class=\"data row7 col0\" >0</td>\n",
              "      <td id=\"T_cefb9_row7_col1\" class=\"data row7 col1\" >0</td>\n",
              "      <td id=\"T_cefb9_row7_col2\" class=\"data row7 col2\" >0</td>\n",
              "      <td id=\"T_cefb9_row7_col3\" class=\"data row7 col3\" >0</td>\n",
              "      <td id=\"T_cefb9_row7_col4\" class=\"data row7 col4\" >0</td>\n",
              "      <td id=\"T_cefb9_row7_col5\" class=\"data row7 col5\" >0</td>\n",
              "      <td id=\"T_cefb9_row7_col6\" class=\"data row7 col6\" >0</td>\n",
              "      <td id=\"T_cefb9_row7_col7\" class=\"data row7 col7\" >0</td>\n",
              "      <td id=\"T_cefb9_row7_col8\" class=\"data row7 col8\" >89</td>\n",
              "      <td id=\"T_cefb9_row7_col9\" class=\"data row7 col9\" >253</td>\n",
              "      <td id=\"T_cefb9_row7_col10\" class=\"data row7 col10\" >253</td>\n",
              "      <td id=\"T_cefb9_row7_col11\" class=\"data row7 col11\" >253</td>\n",
              "      <td id=\"T_cefb9_row7_col12\" class=\"data row7 col12\" >245</td>\n",
              "      <td id=\"T_cefb9_row7_col13\" class=\"data row7 col13\" >172</td>\n",
              "      <td id=\"T_cefb9_row7_col14\" class=\"data row7 col14\" >82</td>\n",
              "      <td id=\"T_cefb9_row7_col15\" class=\"data row7 col15\" >82</td>\n",
              "      <td id=\"T_cefb9_row7_col16\" class=\"data row7 col16\" >82</td>\n",
              "      <td id=\"T_cefb9_row7_col17\" class=\"data row7 col17\" >2</td>\n",
              "      <td id=\"T_cefb9_row7_col18\" class=\"data row7 col18\" >148</td>\n",
              "      <td id=\"T_cefb9_row7_col19\" class=\"data row7 col19\" >253</td>\n",
              "      <td id=\"T_cefb9_row7_col20\" class=\"data row7 col20\" >150</td>\n",
              "      <td id=\"T_cefb9_row7_col21\" class=\"data row7 col21\" >0</td>\n",
              "      <td id=\"T_cefb9_row7_col22\" class=\"data row7 col22\" >0</td>\n",
              "      <td id=\"T_cefb9_row7_col23\" class=\"data row7 col23\" >0</td>\n",
              "      <td id=\"T_cefb9_row7_col24\" class=\"data row7 col24\" >0</td>\n",
              "      <td id=\"T_cefb9_row7_col25\" class=\"data row7 col25\" >0</td>\n",
              "      <td id=\"T_cefb9_row7_col26\" class=\"data row7 col26\" >0</td>\n",
              "      <td id=\"T_cefb9_row7_col27\" class=\"data row7 col27\" >0</td>\n",
              "    </tr>\n",
              "    <tr>\n",
              "      <th id=\"T_cefb9_level0_row8\" class=\"row_heading level0 row8\" >8</th>\n",
              "      <td id=\"T_cefb9_row8_col0\" class=\"data row8 col0\" >0</td>\n",
              "      <td id=\"T_cefb9_row8_col1\" class=\"data row8 col1\" >0</td>\n",
              "      <td id=\"T_cefb9_row8_col2\" class=\"data row8 col2\" >0</td>\n",
              "      <td id=\"T_cefb9_row8_col3\" class=\"data row8 col3\" >0</td>\n",
              "      <td id=\"T_cefb9_row8_col4\" class=\"data row8 col4\" >0</td>\n",
              "      <td id=\"T_cefb9_row8_col5\" class=\"data row8 col5\" >0</td>\n",
              "      <td id=\"T_cefb9_row8_col6\" class=\"data row8 col6\" >0</td>\n",
              "      <td id=\"T_cefb9_row8_col7\" class=\"data row8 col7\" >0</td>\n",
              "      <td id=\"T_cefb9_row8_col8\" class=\"data row8 col8\" >89</td>\n",
              "      <td id=\"T_cefb9_row8_col9\" class=\"data row8 col9\" >253</td>\n",
              "      <td id=\"T_cefb9_row8_col10\" class=\"data row8 col10\" >252</td>\n",
              "      <td id=\"T_cefb9_row8_col11\" class=\"data row8 col11\" >171</td>\n",
              "      <td id=\"T_cefb9_row8_col12\" class=\"data row8 col12\" >54</td>\n",
              "      <td id=\"T_cefb9_row8_col13\" class=\"data row8 col13\" >0</td>\n",
              "      <td id=\"T_cefb9_row8_col14\" class=\"data row8 col14\" >0</td>\n",
              "      <td id=\"T_cefb9_row8_col15\" class=\"data row8 col15\" >0</td>\n",
              "      <td id=\"T_cefb9_row8_col16\" class=\"data row8 col16\" >0</td>\n",
              "      <td id=\"T_cefb9_row8_col17\" class=\"data row8 col17\" >37</td>\n",
              "      <td id=\"T_cefb9_row8_col18\" class=\"data row8 col18\" >177</td>\n",
              "      <td id=\"T_cefb9_row8_col19\" class=\"data row8 col19\" >253</td>\n",
              "      <td id=\"T_cefb9_row8_col20\" class=\"data row8 col20\" >188</td>\n",
              "      <td id=\"T_cefb9_row8_col21\" class=\"data row8 col21\" >0</td>\n",
              "      <td id=\"T_cefb9_row8_col22\" class=\"data row8 col22\" >0</td>\n",
              "      <td id=\"T_cefb9_row8_col23\" class=\"data row8 col23\" >0</td>\n",
              "      <td id=\"T_cefb9_row8_col24\" class=\"data row8 col24\" >0</td>\n",
              "      <td id=\"T_cefb9_row8_col25\" class=\"data row8 col25\" >0</td>\n",
              "      <td id=\"T_cefb9_row8_col26\" class=\"data row8 col26\" >0</td>\n",
              "      <td id=\"T_cefb9_row8_col27\" class=\"data row8 col27\" >0</td>\n",
              "    </tr>\n",
              "    <tr>\n",
              "      <th id=\"T_cefb9_level0_row9\" class=\"row_heading level0 row9\" >9</th>\n",
              "      <td id=\"T_cefb9_row9_col0\" class=\"data row9 col0\" >0</td>\n",
              "      <td id=\"T_cefb9_row9_col1\" class=\"data row9 col1\" >0</td>\n",
              "      <td id=\"T_cefb9_row9_col2\" class=\"data row9 col2\" >0</td>\n",
              "      <td id=\"T_cefb9_row9_col3\" class=\"data row9 col3\" >0</td>\n",
              "      <td id=\"T_cefb9_row9_col4\" class=\"data row9 col4\" >0</td>\n",
              "      <td id=\"T_cefb9_row9_col5\" class=\"data row9 col5\" >0</td>\n",
              "      <td id=\"T_cefb9_row9_col6\" class=\"data row9 col6\" >0</td>\n",
              "      <td id=\"T_cefb9_row9_col7\" class=\"data row9 col7\" >0</td>\n",
              "      <td id=\"T_cefb9_row9_col8\" class=\"data row9 col8\" >17</td>\n",
              "      <td id=\"T_cefb9_row9_col9\" class=\"data row9 col9\" >151</td>\n",
              "      <td id=\"T_cefb9_row9_col10\" class=\"data row9 col10\" >51</td>\n",
              "      <td id=\"T_cefb9_row9_col11\" class=\"data row9 col11\" >0</td>\n",
              "      <td id=\"T_cefb9_row9_col12\" class=\"data row9 col12\" >0</td>\n",
              "      <td id=\"T_cefb9_row9_col13\" class=\"data row9 col13\" >0</td>\n",
              "      <td id=\"T_cefb9_row9_col14\" class=\"data row9 col14\" >0</td>\n",
              "      <td id=\"T_cefb9_row9_col15\" class=\"data row9 col15\" >0</td>\n",
              "      <td id=\"T_cefb9_row9_col16\" class=\"data row9 col16\" >40</td>\n",
              "      <td id=\"T_cefb9_row9_col17\" class=\"data row9 col17\" >229</td>\n",
              "      <td id=\"T_cefb9_row9_col18\" class=\"data row9 col18\" >253</td>\n",
              "      <td id=\"T_cefb9_row9_col19\" class=\"data row9 col19\" >253</td>\n",
              "      <td id=\"T_cefb9_row9_col20\" class=\"data row9 col20\" >147</td>\n",
              "      <td id=\"T_cefb9_row9_col21\" class=\"data row9 col21\" >0</td>\n",
              "      <td id=\"T_cefb9_row9_col22\" class=\"data row9 col22\" >0</td>\n",
              "      <td id=\"T_cefb9_row9_col23\" class=\"data row9 col23\" >0</td>\n",
              "      <td id=\"T_cefb9_row9_col24\" class=\"data row9 col24\" >0</td>\n",
              "      <td id=\"T_cefb9_row9_col25\" class=\"data row9 col25\" >0</td>\n",
              "      <td id=\"T_cefb9_row9_col26\" class=\"data row9 col26\" >0</td>\n",
              "      <td id=\"T_cefb9_row9_col27\" class=\"data row9 col27\" >0</td>\n",
              "    </tr>\n",
              "    <tr>\n",
              "      <th id=\"T_cefb9_level0_row10\" class=\"row_heading level0 row10\" >10</th>\n",
              "      <td id=\"T_cefb9_row10_col0\" class=\"data row10 col0\" >0</td>\n",
              "      <td id=\"T_cefb9_row10_col1\" class=\"data row10 col1\" >0</td>\n",
              "      <td id=\"T_cefb9_row10_col2\" class=\"data row10 col2\" >0</td>\n",
              "      <td id=\"T_cefb9_row10_col3\" class=\"data row10 col3\" >0</td>\n",
              "      <td id=\"T_cefb9_row10_col4\" class=\"data row10 col4\" >0</td>\n",
              "      <td id=\"T_cefb9_row10_col5\" class=\"data row10 col5\" >0</td>\n",
              "      <td id=\"T_cefb9_row10_col6\" class=\"data row10 col6\" >0</td>\n",
              "      <td id=\"T_cefb9_row10_col7\" class=\"data row10 col7\" >0</td>\n",
              "      <td id=\"T_cefb9_row10_col8\" class=\"data row10 col8\" >0</td>\n",
              "      <td id=\"T_cefb9_row10_col9\" class=\"data row10 col9\" >0</td>\n",
              "      <td id=\"T_cefb9_row10_col10\" class=\"data row10 col10\" >0</td>\n",
              "      <td id=\"T_cefb9_row10_col11\" class=\"data row10 col11\" >0</td>\n",
              "      <td id=\"T_cefb9_row10_col12\" class=\"data row10 col12\" >0</td>\n",
              "      <td id=\"T_cefb9_row10_col13\" class=\"data row10 col13\" >0</td>\n",
              "      <td id=\"T_cefb9_row10_col14\" class=\"data row10 col14\" >83</td>\n",
              "      <td id=\"T_cefb9_row10_col15\" class=\"data row10 col15\" >206</td>\n",
              "      <td id=\"T_cefb9_row10_col16\" class=\"data row10 col16\" >237</td>\n",
              "      <td id=\"T_cefb9_row10_col17\" class=\"data row10 col17\" >253</td>\n",
              "      <td id=\"T_cefb9_row10_col18\" class=\"data row10 col18\" >253</td>\n",
              "      <td id=\"T_cefb9_row10_col19\" class=\"data row10 col19\" >211</td>\n",
              "      <td id=\"T_cefb9_row10_col20\" class=\"data row10 col20\" >8</td>\n",
              "      <td id=\"T_cefb9_row10_col21\" class=\"data row10 col21\" >0</td>\n",
              "      <td id=\"T_cefb9_row10_col22\" class=\"data row10 col22\" >0</td>\n",
              "      <td id=\"T_cefb9_row10_col23\" class=\"data row10 col23\" >0</td>\n",
              "      <td id=\"T_cefb9_row10_col24\" class=\"data row10 col24\" >0</td>\n",
              "      <td id=\"T_cefb9_row10_col25\" class=\"data row10 col25\" >0</td>\n",
              "      <td id=\"T_cefb9_row10_col26\" class=\"data row10 col26\" >0</td>\n",
              "      <td id=\"T_cefb9_row10_col27\" class=\"data row10 col27\" >0</td>\n",
              "    </tr>\n",
              "    <tr>\n",
              "      <th id=\"T_cefb9_level0_row11\" class=\"row_heading level0 row11\" >11</th>\n",
              "      <td id=\"T_cefb9_row11_col0\" class=\"data row11 col0\" >0</td>\n",
              "      <td id=\"T_cefb9_row11_col1\" class=\"data row11 col1\" >0</td>\n",
              "      <td id=\"T_cefb9_row11_col2\" class=\"data row11 col2\" >0</td>\n",
              "      <td id=\"T_cefb9_row11_col3\" class=\"data row11 col3\" >0</td>\n",
              "      <td id=\"T_cefb9_row11_col4\" class=\"data row11 col4\" >0</td>\n",
              "      <td id=\"T_cefb9_row11_col5\" class=\"data row11 col5\" >0</td>\n",
              "      <td id=\"T_cefb9_row11_col6\" class=\"data row11 col6\" >0</td>\n",
              "      <td id=\"T_cefb9_row11_col7\" class=\"data row11 col7\" >0</td>\n",
              "      <td id=\"T_cefb9_row11_col8\" class=\"data row11 col8\" >0</td>\n",
              "      <td id=\"T_cefb9_row11_col9\" class=\"data row11 col9\" >0</td>\n",
              "      <td id=\"T_cefb9_row11_col10\" class=\"data row11 col10\" >0</td>\n",
              "      <td id=\"T_cefb9_row11_col11\" class=\"data row11 col11\" >70</td>\n",
              "      <td id=\"T_cefb9_row11_col12\" class=\"data row11 col12\" >143</td>\n",
              "      <td id=\"T_cefb9_row11_col13\" class=\"data row11 col13\" >243</td>\n",
              "      <td id=\"T_cefb9_row11_col14\" class=\"data row11 col14\" >251</td>\n",
              "      <td id=\"T_cefb9_row11_col15\" class=\"data row11 col15\" >253</td>\n",
              "      <td id=\"T_cefb9_row11_col16\" class=\"data row11 col16\" >253</td>\n",
              "      <td id=\"T_cefb9_row11_col17\" class=\"data row11 col17\" >253</td>\n",
              "      <td id=\"T_cefb9_row11_col18\" class=\"data row11 col18\" >181</td>\n",
              "      <td id=\"T_cefb9_row11_col19\" class=\"data row11 col19\" >50</td>\n",
              "      <td id=\"T_cefb9_row11_col20\" class=\"data row11 col20\" >0</td>\n",
              "      <td id=\"T_cefb9_row11_col21\" class=\"data row11 col21\" >0</td>\n",
              "      <td id=\"T_cefb9_row11_col22\" class=\"data row11 col22\" >0</td>\n",
              "      <td id=\"T_cefb9_row11_col23\" class=\"data row11 col23\" >0</td>\n",
              "      <td id=\"T_cefb9_row11_col24\" class=\"data row11 col24\" >0</td>\n",
              "      <td id=\"T_cefb9_row11_col25\" class=\"data row11 col25\" >0</td>\n",
              "      <td id=\"T_cefb9_row11_col26\" class=\"data row11 col26\" >0</td>\n",
              "      <td id=\"T_cefb9_row11_col27\" class=\"data row11 col27\" >0</td>\n",
              "    </tr>\n",
              "    <tr>\n",
              "      <th id=\"T_cefb9_level0_row12\" class=\"row_heading level0 row12\" >12</th>\n",
              "      <td id=\"T_cefb9_row12_col0\" class=\"data row12 col0\" >0</td>\n",
              "      <td id=\"T_cefb9_row12_col1\" class=\"data row12 col1\" >0</td>\n",
              "      <td id=\"T_cefb9_row12_col2\" class=\"data row12 col2\" >0</td>\n",
              "      <td id=\"T_cefb9_row12_col3\" class=\"data row12 col3\" >0</td>\n",
              "      <td id=\"T_cefb9_row12_col4\" class=\"data row12 col4\" >0</td>\n",
              "      <td id=\"T_cefb9_row12_col5\" class=\"data row12 col5\" >0</td>\n",
              "      <td id=\"T_cefb9_row12_col6\" class=\"data row12 col6\" >0</td>\n",
              "      <td id=\"T_cefb9_row12_col7\" class=\"data row12 col7\" >0</td>\n",
              "      <td id=\"T_cefb9_row12_col8\" class=\"data row12 col8\" >0</td>\n",
              "      <td id=\"T_cefb9_row12_col9\" class=\"data row12 col9\" >0</td>\n",
              "      <td id=\"T_cefb9_row12_col10\" class=\"data row12 col10\" >4</td>\n",
              "      <td id=\"T_cefb9_row12_col11\" class=\"data row12 col11\" >204</td>\n",
              "      <td id=\"T_cefb9_row12_col12\" class=\"data row12 col12\" >253</td>\n",
              "      <td id=\"T_cefb9_row12_col13\" class=\"data row12 col13\" >253</td>\n",
              "      <td id=\"T_cefb9_row12_col14\" class=\"data row12 col14\" >253</td>\n",
              "      <td id=\"T_cefb9_row12_col15\" class=\"data row12 col15\" >253</td>\n",
              "      <td id=\"T_cefb9_row12_col16\" class=\"data row12 col16\" >253</td>\n",
              "      <td id=\"T_cefb9_row12_col17\" class=\"data row12 col17\" >253</td>\n",
              "      <td id=\"T_cefb9_row12_col18\" class=\"data row12 col18\" >106</td>\n",
              "      <td id=\"T_cefb9_row12_col19\" class=\"data row12 col19\" >0</td>\n",
              "      <td id=\"T_cefb9_row12_col20\" class=\"data row12 col20\" >0</td>\n",
              "      <td id=\"T_cefb9_row12_col21\" class=\"data row12 col21\" >0</td>\n",
              "      <td id=\"T_cefb9_row12_col22\" class=\"data row12 col22\" >0</td>\n",
              "      <td id=\"T_cefb9_row12_col23\" class=\"data row12 col23\" >0</td>\n",
              "      <td id=\"T_cefb9_row12_col24\" class=\"data row12 col24\" >0</td>\n",
              "      <td id=\"T_cefb9_row12_col25\" class=\"data row12 col25\" >0</td>\n",
              "      <td id=\"T_cefb9_row12_col26\" class=\"data row12 col26\" >0</td>\n",
              "      <td id=\"T_cefb9_row12_col27\" class=\"data row12 col27\" >0</td>\n",
              "    </tr>\n",
              "    <tr>\n",
              "      <th id=\"T_cefb9_level0_row13\" class=\"row_heading level0 row13\" >13</th>\n",
              "      <td id=\"T_cefb9_row13_col0\" class=\"data row13 col0\" >0</td>\n",
              "      <td id=\"T_cefb9_row13_col1\" class=\"data row13 col1\" >0</td>\n",
              "      <td id=\"T_cefb9_row13_col2\" class=\"data row13 col2\" >0</td>\n",
              "      <td id=\"T_cefb9_row13_col3\" class=\"data row13 col3\" >0</td>\n",
              "      <td id=\"T_cefb9_row13_col4\" class=\"data row13 col4\" >0</td>\n",
              "      <td id=\"T_cefb9_row13_col5\" class=\"data row13 col5\" >0</td>\n",
              "      <td id=\"T_cefb9_row13_col6\" class=\"data row13 col6\" >0</td>\n",
              "      <td id=\"T_cefb9_row13_col7\" class=\"data row13 col7\" >0</td>\n",
              "      <td id=\"T_cefb9_row13_col8\" class=\"data row13 col8\" >0</td>\n",
              "      <td id=\"T_cefb9_row13_col9\" class=\"data row13 col9\" >0</td>\n",
              "      <td id=\"T_cefb9_row13_col10\" class=\"data row13 col10\" >5</td>\n",
              "      <td id=\"T_cefb9_row13_col11\" class=\"data row13 col11\" >235</td>\n",
              "      <td id=\"T_cefb9_row13_col12\" class=\"data row13 col12\" >253</td>\n",
              "      <td id=\"T_cefb9_row13_col13\" class=\"data row13 col13\" >253</td>\n",
              "      <td id=\"T_cefb9_row13_col14\" class=\"data row13 col14\" >221</td>\n",
              "      <td id=\"T_cefb9_row13_col15\" class=\"data row13 col15\" >167</td>\n",
              "      <td id=\"T_cefb9_row13_col16\" class=\"data row13 col16\" >94</td>\n",
              "      <td id=\"T_cefb9_row13_col17\" class=\"data row13 col17\" >250</td>\n",
              "      <td id=\"T_cefb9_row13_col18\" class=\"data row13 col18\" >125</td>\n",
              "      <td id=\"T_cefb9_row13_col19\" class=\"data row13 col19\" >0</td>\n",
              "      <td id=\"T_cefb9_row13_col20\" class=\"data row13 col20\" >0</td>\n",
              "      <td id=\"T_cefb9_row13_col21\" class=\"data row13 col21\" >0</td>\n",
              "      <td id=\"T_cefb9_row13_col22\" class=\"data row13 col22\" >0</td>\n",
              "      <td id=\"T_cefb9_row13_col23\" class=\"data row13 col23\" >0</td>\n",
              "      <td id=\"T_cefb9_row13_col24\" class=\"data row13 col24\" >0</td>\n",
              "      <td id=\"T_cefb9_row13_col25\" class=\"data row13 col25\" >0</td>\n",
              "      <td id=\"T_cefb9_row13_col26\" class=\"data row13 col26\" >0</td>\n",
              "      <td id=\"T_cefb9_row13_col27\" class=\"data row13 col27\" >0</td>\n",
              "    </tr>\n",
              "    <tr>\n",
              "      <th id=\"T_cefb9_level0_row14\" class=\"row_heading level0 row14\" >14</th>\n",
              "      <td id=\"T_cefb9_row14_col0\" class=\"data row14 col0\" >0</td>\n",
              "      <td id=\"T_cefb9_row14_col1\" class=\"data row14 col1\" >0</td>\n",
              "      <td id=\"T_cefb9_row14_col2\" class=\"data row14 col2\" >0</td>\n",
              "      <td id=\"T_cefb9_row14_col3\" class=\"data row14 col3\" >0</td>\n",
              "      <td id=\"T_cefb9_row14_col4\" class=\"data row14 col4\" >0</td>\n",
              "      <td id=\"T_cefb9_row14_col5\" class=\"data row14 col5\" >0</td>\n",
              "      <td id=\"T_cefb9_row14_col6\" class=\"data row14 col6\" >0</td>\n",
              "      <td id=\"T_cefb9_row14_col7\" class=\"data row14 col7\" >0</td>\n",
              "      <td id=\"T_cefb9_row14_col8\" class=\"data row14 col8\" >0</td>\n",
              "      <td id=\"T_cefb9_row14_col9\" class=\"data row14 col9\" >0</td>\n",
              "      <td id=\"T_cefb9_row14_col10\" class=\"data row14 col10\" >0</td>\n",
              "      <td id=\"T_cefb9_row14_col11\" class=\"data row14 col11\" >110</td>\n",
              "      <td id=\"T_cefb9_row14_col12\" class=\"data row14 col12\" >175</td>\n",
              "      <td id=\"T_cefb9_row14_col13\" class=\"data row14 col13\" >76</td>\n",
              "      <td id=\"T_cefb9_row14_col14\" class=\"data row14 col14\" >18</td>\n",
              "      <td id=\"T_cefb9_row14_col15\" class=\"data row14 col15\" >0</td>\n",
              "      <td id=\"T_cefb9_row14_col16\" class=\"data row14 col16\" >0</td>\n",
              "      <td id=\"T_cefb9_row14_col17\" class=\"data row14 col17\" >249</td>\n",
              "      <td id=\"T_cefb9_row14_col18\" class=\"data row14 col18\" >244</td>\n",
              "      <td id=\"T_cefb9_row14_col19\" class=\"data row14 col19\" >62</td>\n",
              "      <td id=\"T_cefb9_row14_col20\" class=\"data row14 col20\" >0</td>\n",
              "      <td id=\"T_cefb9_row14_col21\" class=\"data row14 col21\" >0</td>\n",
              "      <td id=\"T_cefb9_row14_col22\" class=\"data row14 col22\" >0</td>\n",
              "      <td id=\"T_cefb9_row14_col23\" class=\"data row14 col23\" >0</td>\n",
              "      <td id=\"T_cefb9_row14_col24\" class=\"data row14 col24\" >0</td>\n",
              "      <td id=\"T_cefb9_row14_col25\" class=\"data row14 col25\" >0</td>\n",
              "      <td id=\"T_cefb9_row14_col26\" class=\"data row14 col26\" >0</td>\n",
              "      <td id=\"T_cefb9_row14_col27\" class=\"data row14 col27\" >0</td>\n",
              "    </tr>\n",
              "    <tr>\n",
              "      <th id=\"T_cefb9_level0_row15\" class=\"row_heading level0 row15\" >15</th>\n",
              "      <td id=\"T_cefb9_row15_col0\" class=\"data row15 col0\" >0</td>\n",
              "      <td id=\"T_cefb9_row15_col1\" class=\"data row15 col1\" >0</td>\n",
              "      <td id=\"T_cefb9_row15_col2\" class=\"data row15 col2\" >0</td>\n",
              "      <td id=\"T_cefb9_row15_col3\" class=\"data row15 col3\" >0</td>\n",
              "      <td id=\"T_cefb9_row15_col4\" class=\"data row15 col4\" >0</td>\n",
              "      <td id=\"T_cefb9_row15_col5\" class=\"data row15 col5\" >0</td>\n",
              "      <td id=\"T_cefb9_row15_col6\" class=\"data row15 col6\" >0</td>\n",
              "      <td id=\"T_cefb9_row15_col7\" class=\"data row15 col7\" >0</td>\n",
              "      <td id=\"T_cefb9_row15_col8\" class=\"data row15 col8\" >0</td>\n",
              "      <td id=\"T_cefb9_row15_col9\" class=\"data row15 col9\" >0</td>\n",
              "      <td id=\"T_cefb9_row15_col10\" class=\"data row15 col10\" >0</td>\n",
              "      <td id=\"T_cefb9_row15_col11\" class=\"data row15 col11\" >0</td>\n",
              "      <td id=\"T_cefb9_row15_col12\" class=\"data row15 col12\" >0</td>\n",
              "      <td id=\"T_cefb9_row15_col13\" class=\"data row15 col13\" >0</td>\n",
              "      <td id=\"T_cefb9_row15_col14\" class=\"data row15 col14\" >0</td>\n",
              "      <td id=\"T_cefb9_row15_col15\" class=\"data row15 col15\" >0</td>\n",
              "      <td id=\"T_cefb9_row15_col16\" class=\"data row15 col16\" >0</td>\n",
              "      <td id=\"T_cefb9_row15_col17\" class=\"data row15 col17\" >213</td>\n",
              "      <td id=\"T_cefb9_row15_col18\" class=\"data row15 col18\" >253</td>\n",
              "      <td id=\"T_cefb9_row15_col19\" class=\"data row15 col19\" >124</td>\n",
              "      <td id=\"T_cefb9_row15_col20\" class=\"data row15 col20\" >0</td>\n",
              "      <td id=\"T_cefb9_row15_col21\" class=\"data row15 col21\" >0</td>\n",
              "      <td id=\"T_cefb9_row15_col22\" class=\"data row15 col22\" >0</td>\n",
              "      <td id=\"T_cefb9_row15_col23\" class=\"data row15 col23\" >0</td>\n",
              "      <td id=\"T_cefb9_row15_col24\" class=\"data row15 col24\" >0</td>\n",
              "      <td id=\"T_cefb9_row15_col25\" class=\"data row15 col25\" >0</td>\n",
              "      <td id=\"T_cefb9_row15_col26\" class=\"data row15 col26\" >0</td>\n",
              "      <td id=\"T_cefb9_row15_col27\" class=\"data row15 col27\" >0</td>\n",
              "    </tr>\n",
              "    <tr>\n",
              "      <th id=\"T_cefb9_level0_row16\" class=\"row_heading level0 row16\" >16</th>\n",
              "      <td id=\"T_cefb9_row16_col0\" class=\"data row16 col0\" >0</td>\n",
              "      <td id=\"T_cefb9_row16_col1\" class=\"data row16 col1\" >0</td>\n",
              "      <td id=\"T_cefb9_row16_col2\" class=\"data row16 col2\" >0</td>\n",
              "      <td id=\"T_cefb9_row16_col3\" class=\"data row16 col3\" >0</td>\n",
              "      <td id=\"T_cefb9_row16_col4\" class=\"data row16 col4\" >0</td>\n",
              "      <td id=\"T_cefb9_row16_col5\" class=\"data row16 col5\" >0</td>\n",
              "      <td id=\"T_cefb9_row16_col6\" class=\"data row16 col6\" >0</td>\n",
              "      <td id=\"T_cefb9_row16_col7\" class=\"data row16 col7\" >0</td>\n",
              "      <td id=\"T_cefb9_row16_col8\" class=\"data row16 col8\" >0</td>\n",
              "      <td id=\"T_cefb9_row16_col9\" class=\"data row16 col9\" >0</td>\n",
              "      <td id=\"T_cefb9_row16_col10\" class=\"data row16 col10\" >0</td>\n",
              "      <td id=\"T_cefb9_row16_col11\" class=\"data row16 col11\" >0</td>\n",
              "      <td id=\"T_cefb9_row16_col12\" class=\"data row16 col12\" >0</td>\n",
              "      <td id=\"T_cefb9_row16_col13\" class=\"data row16 col13\" >0</td>\n",
              "      <td id=\"T_cefb9_row16_col14\" class=\"data row16 col14\" >0</td>\n",
              "      <td id=\"T_cefb9_row16_col15\" class=\"data row16 col15\" >0</td>\n",
              "      <td id=\"T_cefb9_row16_col16\" class=\"data row16 col16\" >0</td>\n",
              "      <td id=\"T_cefb9_row16_col17\" class=\"data row16 col17\" >130</td>\n",
              "      <td id=\"T_cefb9_row16_col18\" class=\"data row16 col18\" >253</td>\n",
              "      <td id=\"T_cefb9_row16_col19\" class=\"data row16 col19\" >206</td>\n",
              "      <td id=\"T_cefb9_row16_col20\" class=\"data row16 col20\" >0</td>\n",
              "      <td id=\"T_cefb9_row16_col21\" class=\"data row16 col21\" >0</td>\n",
              "      <td id=\"T_cefb9_row16_col22\" class=\"data row16 col22\" >0</td>\n",
              "      <td id=\"T_cefb9_row16_col23\" class=\"data row16 col23\" >0</td>\n",
              "      <td id=\"T_cefb9_row16_col24\" class=\"data row16 col24\" >0</td>\n",
              "      <td id=\"T_cefb9_row16_col25\" class=\"data row16 col25\" >0</td>\n",
              "      <td id=\"T_cefb9_row16_col26\" class=\"data row16 col26\" >0</td>\n",
              "      <td id=\"T_cefb9_row16_col27\" class=\"data row16 col27\" >0</td>\n",
              "    </tr>\n",
              "    <tr>\n",
              "      <th id=\"T_cefb9_level0_row17\" class=\"row_heading level0 row17\" >17</th>\n",
              "      <td id=\"T_cefb9_row17_col0\" class=\"data row17 col0\" >0</td>\n",
              "      <td id=\"T_cefb9_row17_col1\" class=\"data row17 col1\" >0</td>\n",
              "      <td id=\"T_cefb9_row17_col2\" class=\"data row17 col2\" >0</td>\n",
              "      <td id=\"T_cefb9_row17_col3\" class=\"data row17 col3\" >0</td>\n",
              "      <td id=\"T_cefb9_row17_col4\" class=\"data row17 col4\" >0</td>\n",
              "      <td id=\"T_cefb9_row17_col5\" class=\"data row17 col5\" >0</td>\n",
              "      <td id=\"T_cefb9_row17_col6\" class=\"data row17 col6\" >0</td>\n",
              "      <td id=\"T_cefb9_row17_col7\" class=\"data row17 col7\" >0</td>\n",
              "      <td id=\"T_cefb9_row17_col8\" class=\"data row17 col8\" >0</td>\n",
              "      <td id=\"T_cefb9_row17_col9\" class=\"data row17 col9\" >0</td>\n",
              "      <td id=\"T_cefb9_row17_col10\" class=\"data row17 col10\" >0</td>\n",
              "      <td id=\"T_cefb9_row17_col11\" class=\"data row17 col11\" >0</td>\n",
              "      <td id=\"T_cefb9_row17_col12\" class=\"data row17 col12\" >0</td>\n",
              "      <td id=\"T_cefb9_row17_col13\" class=\"data row17 col13\" >0</td>\n",
              "      <td id=\"T_cefb9_row17_col14\" class=\"data row17 col14\" >0</td>\n",
              "      <td id=\"T_cefb9_row17_col15\" class=\"data row17 col15\" >0</td>\n",
              "      <td id=\"T_cefb9_row17_col16\" class=\"data row17 col16\" >0</td>\n",
              "      <td id=\"T_cefb9_row17_col17\" class=\"data row17 col17\" >238</td>\n",
              "      <td id=\"T_cefb9_row17_col18\" class=\"data row17 col18\" >253</td>\n",
              "      <td id=\"T_cefb9_row17_col19\" class=\"data row17 col19\" >206</td>\n",
              "      <td id=\"T_cefb9_row17_col20\" class=\"data row17 col20\" >0</td>\n",
              "      <td id=\"T_cefb9_row17_col21\" class=\"data row17 col21\" >0</td>\n",
              "      <td id=\"T_cefb9_row17_col22\" class=\"data row17 col22\" >0</td>\n",
              "      <td id=\"T_cefb9_row17_col23\" class=\"data row17 col23\" >0</td>\n",
              "      <td id=\"T_cefb9_row17_col24\" class=\"data row17 col24\" >0</td>\n",
              "      <td id=\"T_cefb9_row17_col25\" class=\"data row17 col25\" >0</td>\n",
              "      <td id=\"T_cefb9_row17_col26\" class=\"data row17 col26\" >0</td>\n",
              "      <td id=\"T_cefb9_row17_col27\" class=\"data row17 col27\" >0</td>\n",
              "    </tr>\n",
              "    <tr>\n",
              "      <th id=\"T_cefb9_level0_row18\" class=\"row_heading level0 row18\" >18</th>\n",
              "      <td id=\"T_cefb9_row18_col0\" class=\"data row18 col0\" >0</td>\n",
              "      <td id=\"T_cefb9_row18_col1\" class=\"data row18 col1\" >0</td>\n",
              "      <td id=\"T_cefb9_row18_col2\" class=\"data row18 col2\" >0</td>\n",
              "      <td id=\"T_cefb9_row18_col3\" class=\"data row18 col3\" >0</td>\n",
              "      <td id=\"T_cefb9_row18_col4\" class=\"data row18 col4\" >0</td>\n",
              "      <td id=\"T_cefb9_row18_col5\" class=\"data row18 col5\" >0</td>\n",
              "      <td id=\"T_cefb9_row18_col6\" class=\"data row18 col6\" >3</td>\n",
              "      <td id=\"T_cefb9_row18_col7\" class=\"data row18 col7\" >189</td>\n",
              "      <td id=\"T_cefb9_row18_col8\" class=\"data row18 col8\" >207</td>\n",
              "      <td id=\"T_cefb9_row18_col9\" class=\"data row18 col9\" >21</td>\n",
              "      <td id=\"T_cefb9_row18_col10\" class=\"data row18 col10\" >0</td>\n",
              "      <td id=\"T_cefb9_row18_col11\" class=\"data row18 col11\" >0</td>\n",
              "      <td id=\"T_cefb9_row18_col12\" class=\"data row18 col12\" >0</td>\n",
              "      <td id=\"T_cefb9_row18_col13\" class=\"data row18 col13\" >0</td>\n",
              "      <td id=\"T_cefb9_row18_col14\" class=\"data row18 col14\" >0</td>\n",
              "      <td id=\"T_cefb9_row18_col15\" class=\"data row18 col15\" >0</td>\n",
              "      <td id=\"T_cefb9_row18_col16\" class=\"data row18 col16\" >0</td>\n",
              "      <td id=\"T_cefb9_row18_col17\" class=\"data row18 col17\" >249</td>\n",
              "      <td id=\"T_cefb9_row18_col18\" class=\"data row18 col18\" >253</td>\n",
              "      <td id=\"T_cefb9_row18_col19\" class=\"data row18 col19\" >145</td>\n",
              "      <td id=\"T_cefb9_row18_col20\" class=\"data row18 col20\" >0</td>\n",
              "      <td id=\"T_cefb9_row18_col21\" class=\"data row18 col21\" >0</td>\n",
              "      <td id=\"T_cefb9_row18_col22\" class=\"data row18 col22\" >0</td>\n",
              "      <td id=\"T_cefb9_row18_col23\" class=\"data row18 col23\" >0</td>\n",
              "      <td id=\"T_cefb9_row18_col24\" class=\"data row18 col24\" >0</td>\n",
              "      <td id=\"T_cefb9_row18_col25\" class=\"data row18 col25\" >0</td>\n",
              "      <td id=\"T_cefb9_row18_col26\" class=\"data row18 col26\" >0</td>\n",
              "      <td id=\"T_cefb9_row18_col27\" class=\"data row18 col27\" >0</td>\n",
              "    </tr>\n",
              "    <tr>\n",
              "      <th id=\"T_cefb9_level0_row19\" class=\"row_heading level0 row19\" >19</th>\n",
              "      <td id=\"T_cefb9_row19_col0\" class=\"data row19 col0\" >0</td>\n",
              "      <td id=\"T_cefb9_row19_col1\" class=\"data row19 col1\" >0</td>\n",
              "      <td id=\"T_cefb9_row19_col2\" class=\"data row19 col2\" >0</td>\n",
              "      <td id=\"T_cefb9_row19_col3\" class=\"data row19 col3\" >0</td>\n",
              "      <td id=\"T_cefb9_row19_col4\" class=\"data row19 col4\" >0</td>\n",
              "      <td id=\"T_cefb9_row19_col5\" class=\"data row19 col5\" >0</td>\n",
              "      <td id=\"T_cefb9_row19_col6\" class=\"data row19 col6\" >23</td>\n",
              "      <td id=\"T_cefb9_row19_col7\" class=\"data row19 col7\" >216</td>\n",
              "      <td id=\"T_cefb9_row19_col8\" class=\"data row19 col8\" >253</td>\n",
              "      <td id=\"T_cefb9_row19_col9\" class=\"data row19 col9\" >159</td>\n",
              "      <td id=\"T_cefb9_row19_col10\" class=\"data row19 col10\" >2</td>\n",
              "      <td id=\"T_cefb9_row19_col11\" class=\"data row19 col11\" >0</td>\n",
              "      <td id=\"T_cefb9_row19_col12\" class=\"data row19 col12\" >0</td>\n",
              "      <td id=\"T_cefb9_row19_col13\" class=\"data row19 col13\" >0</td>\n",
              "      <td id=\"T_cefb9_row19_col14\" class=\"data row19 col14\" >0</td>\n",
              "      <td id=\"T_cefb9_row19_col15\" class=\"data row19 col15\" >0</td>\n",
              "      <td id=\"T_cefb9_row19_col16\" class=\"data row19 col16\" >80</td>\n",
              "      <td id=\"T_cefb9_row19_col17\" class=\"data row19 col17\" >251</td>\n",
              "      <td id=\"T_cefb9_row19_col18\" class=\"data row19 col18\" >253</td>\n",
              "      <td id=\"T_cefb9_row19_col19\" class=\"data row19 col19\" >88</td>\n",
              "      <td id=\"T_cefb9_row19_col20\" class=\"data row19 col20\" >0</td>\n",
              "      <td id=\"T_cefb9_row19_col21\" class=\"data row19 col21\" >0</td>\n",
              "      <td id=\"T_cefb9_row19_col22\" class=\"data row19 col22\" >0</td>\n",
              "      <td id=\"T_cefb9_row19_col23\" class=\"data row19 col23\" >0</td>\n",
              "      <td id=\"T_cefb9_row19_col24\" class=\"data row19 col24\" >0</td>\n",
              "      <td id=\"T_cefb9_row19_col25\" class=\"data row19 col25\" >0</td>\n",
              "      <td id=\"T_cefb9_row19_col26\" class=\"data row19 col26\" >0</td>\n",
              "      <td id=\"T_cefb9_row19_col27\" class=\"data row19 col27\" >0</td>\n",
              "    </tr>\n",
              "    <tr>\n",
              "      <th id=\"T_cefb9_level0_row20\" class=\"row_heading level0 row20\" >20</th>\n",
              "      <td id=\"T_cefb9_row20_col0\" class=\"data row20 col0\" >0</td>\n",
              "      <td id=\"T_cefb9_row20_col1\" class=\"data row20 col1\" >0</td>\n",
              "      <td id=\"T_cefb9_row20_col2\" class=\"data row20 col2\" >0</td>\n",
              "      <td id=\"T_cefb9_row20_col3\" class=\"data row20 col3\" >0</td>\n",
              "      <td id=\"T_cefb9_row20_col4\" class=\"data row20 col4\" >0</td>\n",
              "      <td id=\"T_cefb9_row20_col5\" class=\"data row20 col5\" >0</td>\n",
              "      <td id=\"T_cefb9_row20_col6\" class=\"data row20 col6\" >0</td>\n",
              "      <td id=\"T_cefb9_row20_col7\" class=\"data row20 col7\" >167</td>\n",
              "      <td id=\"T_cefb9_row20_col8\" class=\"data row20 col8\" >253</td>\n",
              "      <td id=\"T_cefb9_row20_col9\" class=\"data row20 col9\" >253</td>\n",
              "      <td id=\"T_cefb9_row20_col10\" class=\"data row20 col10\" >33</td>\n",
              "      <td id=\"T_cefb9_row20_col11\" class=\"data row20 col11\" >0</td>\n",
              "      <td id=\"T_cefb9_row20_col12\" class=\"data row20 col12\" >0</td>\n",
              "      <td id=\"T_cefb9_row20_col13\" class=\"data row20 col13\" >0</td>\n",
              "      <td id=\"T_cefb9_row20_col14\" class=\"data row20 col14\" >0</td>\n",
              "      <td id=\"T_cefb9_row20_col15\" class=\"data row20 col15\" >63</td>\n",
              "      <td id=\"T_cefb9_row20_col16\" class=\"data row20 col16\" >246</td>\n",
              "      <td id=\"T_cefb9_row20_col17\" class=\"data row20 col17\" >253</td>\n",
              "      <td id=\"T_cefb9_row20_col18\" class=\"data row20 col18\" >212</td>\n",
              "      <td id=\"T_cefb9_row20_col19\" class=\"data row20 col19\" >31</td>\n",
              "      <td id=\"T_cefb9_row20_col20\" class=\"data row20 col20\" >0</td>\n",
              "      <td id=\"T_cefb9_row20_col21\" class=\"data row20 col21\" >0</td>\n",
              "      <td id=\"T_cefb9_row20_col22\" class=\"data row20 col22\" >0</td>\n",
              "      <td id=\"T_cefb9_row20_col23\" class=\"data row20 col23\" >0</td>\n",
              "      <td id=\"T_cefb9_row20_col24\" class=\"data row20 col24\" >0</td>\n",
              "      <td id=\"T_cefb9_row20_col25\" class=\"data row20 col25\" >0</td>\n",
              "      <td id=\"T_cefb9_row20_col26\" class=\"data row20 col26\" >0</td>\n",
              "      <td id=\"T_cefb9_row20_col27\" class=\"data row20 col27\" >0</td>\n",
              "    </tr>\n",
              "    <tr>\n",
              "      <th id=\"T_cefb9_level0_row21\" class=\"row_heading level0 row21\" >21</th>\n",
              "      <td id=\"T_cefb9_row21_col0\" class=\"data row21 col0\" >0</td>\n",
              "      <td id=\"T_cefb9_row21_col1\" class=\"data row21 col1\" >0</td>\n",
              "      <td id=\"T_cefb9_row21_col2\" class=\"data row21 col2\" >0</td>\n",
              "      <td id=\"T_cefb9_row21_col3\" class=\"data row21 col3\" >0</td>\n",
              "      <td id=\"T_cefb9_row21_col4\" class=\"data row21 col4\" >0</td>\n",
              "      <td id=\"T_cefb9_row21_col5\" class=\"data row21 col5\" >0</td>\n",
              "      <td id=\"T_cefb9_row21_col6\" class=\"data row21 col6\" >0</td>\n",
              "      <td id=\"T_cefb9_row21_col7\" class=\"data row21 col7\" >20</td>\n",
              "      <td id=\"T_cefb9_row21_col8\" class=\"data row21 col8\" >189</td>\n",
              "      <td id=\"T_cefb9_row21_col9\" class=\"data row21 col9\" >253</td>\n",
              "      <td id=\"T_cefb9_row21_col10\" class=\"data row21 col10\" >219</td>\n",
              "      <td id=\"T_cefb9_row21_col11\" class=\"data row21 col11\" >112</td>\n",
              "      <td id=\"T_cefb9_row21_col12\" class=\"data row21 col12\" >0</td>\n",
              "      <td id=\"T_cefb9_row21_col13\" class=\"data row21 col13\" >0</td>\n",
              "      <td id=\"T_cefb9_row21_col14\" class=\"data row21 col14\" >87</td>\n",
              "      <td id=\"T_cefb9_row21_col15\" class=\"data row21 col15\" >209</td>\n",
              "      <td id=\"T_cefb9_row21_col16\" class=\"data row21 col16\" >253</td>\n",
              "      <td id=\"T_cefb9_row21_col17\" class=\"data row21 col17\" >253</td>\n",
              "      <td id=\"T_cefb9_row21_col18\" class=\"data row21 col18\" >106</td>\n",
              "      <td id=\"T_cefb9_row21_col19\" class=\"data row21 col19\" >0</td>\n",
              "      <td id=\"T_cefb9_row21_col20\" class=\"data row21 col20\" >0</td>\n",
              "      <td id=\"T_cefb9_row21_col21\" class=\"data row21 col21\" >0</td>\n",
              "      <td id=\"T_cefb9_row21_col22\" class=\"data row21 col22\" >0</td>\n",
              "      <td id=\"T_cefb9_row21_col23\" class=\"data row21 col23\" >0</td>\n",
              "      <td id=\"T_cefb9_row21_col24\" class=\"data row21 col24\" >0</td>\n",
              "      <td id=\"T_cefb9_row21_col25\" class=\"data row21 col25\" >0</td>\n",
              "      <td id=\"T_cefb9_row21_col26\" class=\"data row21 col26\" >0</td>\n",
              "      <td id=\"T_cefb9_row21_col27\" class=\"data row21 col27\" >0</td>\n",
              "    </tr>\n",
              "    <tr>\n",
              "      <th id=\"T_cefb9_level0_row22\" class=\"row_heading level0 row22\" >22</th>\n",
              "      <td id=\"T_cefb9_row22_col0\" class=\"data row22 col0\" >0</td>\n",
              "      <td id=\"T_cefb9_row22_col1\" class=\"data row22 col1\" >0</td>\n",
              "      <td id=\"T_cefb9_row22_col2\" class=\"data row22 col2\" >0</td>\n",
              "      <td id=\"T_cefb9_row22_col3\" class=\"data row22 col3\" >0</td>\n",
              "      <td id=\"T_cefb9_row22_col4\" class=\"data row22 col4\" >0</td>\n",
              "      <td id=\"T_cefb9_row22_col5\" class=\"data row22 col5\" >0</td>\n",
              "      <td id=\"T_cefb9_row22_col6\" class=\"data row22 col6\" >0</td>\n",
              "      <td id=\"T_cefb9_row22_col7\" class=\"data row22 col7\" >0</td>\n",
              "      <td id=\"T_cefb9_row22_col8\" class=\"data row22 col8\" >60</td>\n",
              "      <td id=\"T_cefb9_row22_col9\" class=\"data row22 col9\" >244</td>\n",
              "      <td id=\"T_cefb9_row22_col10\" class=\"data row22 col10\" >253</td>\n",
              "      <td id=\"T_cefb9_row22_col11\" class=\"data row22 col11\" >248</td>\n",
              "      <td id=\"T_cefb9_row22_col12\" class=\"data row22 col12\" >201</td>\n",
              "      <td id=\"T_cefb9_row22_col13\" class=\"data row22 col13\" >201</td>\n",
              "      <td id=\"T_cefb9_row22_col14\" class=\"data row22 col14\" >241</td>\n",
              "      <td id=\"T_cefb9_row22_col15\" class=\"data row22 col15\" >253</td>\n",
              "      <td id=\"T_cefb9_row22_col16\" class=\"data row22 col16\" >253</td>\n",
              "      <td id=\"T_cefb9_row22_col17\" class=\"data row22 col17\" >211</td>\n",
              "      <td id=\"T_cefb9_row22_col18\" class=\"data row22 col18\" >72</td>\n",
              "      <td id=\"T_cefb9_row22_col19\" class=\"data row22 col19\" >0</td>\n",
              "      <td id=\"T_cefb9_row22_col20\" class=\"data row22 col20\" >0</td>\n",
              "      <td id=\"T_cefb9_row22_col21\" class=\"data row22 col21\" >0</td>\n",
              "      <td id=\"T_cefb9_row22_col22\" class=\"data row22 col22\" >0</td>\n",
              "      <td id=\"T_cefb9_row22_col23\" class=\"data row22 col23\" >0</td>\n",
              "      <td id=\"T_cefb9_row22_col24\" class=\"data row22 col24\" >0</td>\n",
              "      <td id=\"T_cefb9_row22_col25\" class=\"data row22 col25\" >0</td>\n",
              "      <td id=\"T_cefb9_row22_col26\" class=\"data row22 col26\" >0</td>\n",
              "      <td id=\"T_cefb9_row22_col27\" class=\"data row22 col27\" >0</td>\n",
              "    </tr>\n",
              "    <tr>\n",
              "      <th id=\"T_cefb9_level0_row23\" class=\"row_heading level0 row23\" >23</th>\n",
              "      <td id=\"T_cefb9_row23_col0\" class=\"data row23 col0\" >0</td>\n",
              "      <td id=\"T_cefb9_row23_col1\" class=\"data row23 col1\" >0</td>\n",
              "      <td id=\"T_cefb9_row23_col2\" class=\"data row23 col2\" >0</td>\n",
              "      <td id=\"T_cefb9_row23_col3\" class=\"data row23 col3\" >0</td>\n",
              "      <td id=\"T_cefb9_row23_col4\" class=\"data row23 col4\" >0</td>\n",
              "      <td id=\"T_cefb9_row23_col5\" class=\"data row23 col5\" >0</td>\n",
              "      <td id=\"T_cefb9_row23_col6\" class=\"data row23 col6\" >0</td>\n",
              "      <td id=\"T_cefb9_row23_col7\" class=\"data row23 col7\" >0</td>\n",
              "      <td id=\"T_cefb9_row23_col8\" class=\"data row23 col8\" >0</td>\n",
              "      <td id=\"T_cefb9_row23_col9\" class=\"data row23 col9\" >81</td>\n",
              "      <td id=\"T_cefb9_row23_col10\" class=\"data row23 col10\" >249</td>\n",
              "      <td id=\"T_cefb9_row23_col11\" class=\"data row23 col11\" >253</td>\n",
              "      <td id=\"T_cefb9_row23_col12\" class=\"data row23 col12\" >253</td>\n",
              "      <td id=\"T_cefb9_row23_col13\" class=\"data row23 col13\" >253</td>\n",
              "      <td id=\"T_cefb9_row23_col14\" class=\"data row23 col14\" >253</td>\n",
              "      <td id=\"T_cefb9_row23_col15\" class=\"data row23 col15\" >253</td>\n",
              "      <td id=\"T_cefb9_row23_col16\" class=\"data row23 col16\" >209</td>\n",
              "      <td id=\"T_cefb9_row23_col17\" class=\"data row23 col17\" >19</td>\n",
              "      <td id=\"T_cefb9_row23_col18\" class=\"data row23 col18\" >0</td>\n",
              "      <td id=\"T_cefb9_row23_col19\" class=\"data row23 col19\" >0</td>\n",
              "      <td id=\"T_cefb9_row23_col20\" class=\"data row23 col20\" >0</td>\n",
              "      <td id=\"T_cefb9_row23_col21\" class=\"data row23 col21\" >0</td>\n",
              "      <td id=\"T_cefb9_row23_col22\" class=\"data row23 col22\" >0</td>\n",
              "      <td id=\"T_cefb9_row23_col23\" class=\"data row23 col23\" >0</td>\n",
              "      <td id=\"T_cefb9_row23_col24\" class=\"data row23 col24\" >0</td>\n",
              "      <td id=\"T_cefb9_row23_col25\" class=\"data row23 col25\" >0</td>\n",
              "      <td id=\"T_cefb9_row23_col26\" class=\"data row23 col26\" >0</td>\n",
              "      <td id=\"T_cefb9_row23_col27\" class=\"data row23 col27\" >0</td>\n",
              "    </tr>\n",
              "    <tr>\n",
              "      <th id=\"T_cefb9_level0_row24\" class=\"row_heading level0 row24\" >24</th>\n",
              "      <td id=\"T_cefb9_row24_col0\" class=\"data row24 col0\" >0</td>\n",
              "      <td id=\"T_cefb9_row24_col1\" class=\"data row24 col1\" >0</td>\n",
              "      <td id=\"T_cefb9_row24_col2\" class=\"data row24 col2\" >0</td>\n",
              "      <td id=\"T_cefb9_row24_col3\" class=\"data row24 col3\" >0</td>\n",
              "      <td id=\"T_cefb9_row24_col4\" class=\"data row24 col4\" >0</td>\n",
              "      <td id=\"T_cefb9_row24_col5\" class=\"data row24 col5\" >0</td>\n",
              "      <td id=\"T_cefb9_row24_col6\" class=\"data row24 col6\" >0</td>\n",
              "      <td id=\"T_cefb9_row24_col7\" class=\"data row24 col7\" >0</td>\n",
              "      <td id=\"T_cefb9_row24_col8\" class=\"data row24 col8\" >0</td>\n",
              "      <td id=\"T_cefb9_row24_col9\" class=\"data row24 col9\" >0</td>\n",
              "      <td id=\"T_cefb9_row24_col10\" class=\"data row24 col10\" >19</td>\n",
              "      <td id=\"T_cefb9_row24_col11\" class=\"data row24 col11\" >201</td>\n",
              "      <td id=\"T_cefb9_row24_col12\" class=\"data row24 col12\" >253</td>\n",
              "      <td id=\"T_cefb9_row24_col13\" class=\"data row24 col13\" >253</td>\n",
              "      <td id=\"T_cefb9_row24_col14\" class=\"data row24 col14\" >217</td>\n",
              "      <td id=\"T_cefb9_row24_col15\" class=\"data row24 col15\" >91</td>\n",
              "      <td id=\"T_cefb9_row24_col16\" class=\"data row24 col16\" >10</td>\n",
              "      <td id=\"T_cefb9_row24_col17\" class=\"data row24 col17\" >0</td>\n",
              "      <td id=\"T_cefb9_row24_col18\" class=\"data row24 col18\" >0</td>\n",
              "      <td id=\"T_cefb9_row24_col19\" class=\"data row24 col19\" >0</td>\n",
              "      <td id=\"T_cefb9_row24_col20\" class=\"data row24 col20\" >0</td>\n",
              "      <td id=\"T_cefb9_row24_col21\" class=\"data row24 col21\" >0</td>\n",
              "      <td id=\"T_cefb9_row24_col22\" class=\"data row24 col22\" >0</td>\n",
              "      <td id=\"T_cefb9_row24_col23\" class=\"data row24 col23\" >0</td>\n",
              "      <td id=\"T_cefb9_row24_col24\" class=\"data row24 col24\" >0</td>\n",
              "      <td id=\"T_cefb9_row24_col25\" class=\"data row24 col25\" >0</td>\n",
              "      <td id=\"T_cefb9_row24_col26\" class=\"data row24 col26\" >0</td>\n",
              "      <td id=\"T_cefb9_row24_col27\" class=\"data row24 col27\" >0</td>\n",
              "    </tr>\n",
              "    <tr>\n",
              "      <th id=\"T_cefb9_level0_row25\" class=\"row_heading level0 row25\" >25</th>\n",
              "      <td id=\"T_cefb9_row25_col0\" class=\"data row25 col0\" >0</td>\n",
              "      <td id=\"T_cefb9_row25_col1\" class=\"data row25 col1\" >0</td>\n",
              "      <td id=\"T_cefb9_row25_col2\" class=\"data row25 col2\" >0</td>\n",
              "      <td id=\"T_cefb9_row25_col3\" class=\"data row25 col3\" >0</td>\n",
              "      <td id=\"T_cefb9_row25_col4\" class=\"data row25 col4\" >0</td>\n",
              "      <td id=\"T_cefb9_row25_col5\" class=\"data row25 col5\" >0</td>\n",
              "      <td id=\"T_cefb9_row25_col6\" class=\"data row25 col6\" >0</td>\n",
              "      <td id=\"T_cefb9_row25_col7\" class=\"data row25 col7\" >0</td>\n",
              "      <td id=\"T_cefb9_row25_col8\" class=\"data row25 col8\" >0</td>\n",
              "      <td id=\"T_cefb9_row25_col9\" class=\"data row25 col9\" >0</td>\n",
              "      <td id=\"T_cefb9_row25_col10\" class=\"data row25 col10\" >0</td>\n",
              "      <td id=\"T_cefb9_row25_col11\" class=\"data row25 col11\" >0</td>\n",
              "      <td id=\"T_cefb9_row25_col12\" class=\"data row25 col12\" >0</td>\n",
              "      <td id=\"T_cefb9_row25_col13\" class=\"data row25 col13\" >0</td>\n",
              "      <td id=\"T_cefb9_row25_col14\" class=\"data row25 col14\" >0</td>\n",
              "      <td id=\"T_cefb9_row25_col15\" class=\"data row25 col15\" >0</td>\n",
              "      <td id=\"T_cefb9_row25_col16\" class=\"data row25 col16\" >0</td>\n",
              "      <td id=\"T_cefb9_row25_col17\" class=\"data row25 col17\" >0</td>\n",
              "      <td id=\"T_cefb9_row25_col18\" class=\"data row25 col18\" >0</td>\n",
              "      <td id=\"T_cefb9_row25_col19\" class=\"data row25 col19\" >0</td>\n",
              "      <td id=\"T_cefb9_row25_col20\" class=\"data row25 col20\" >0</td>\n",
              "      <td id=\"T_cefb9_row25_col21\" class=\"data row25 col21\" >0</td>\n",
              "      <td id=\"T_cefb9_row25_col22\" class=\"data row25 col22\" >0</td>\n",
              "      <td id=\"T_cefb9_row25_col23\" class=\"data row25 col23\" >0</td>\n",
              "      <td id=\"T_cefb9_row25_col24\" class=\"data row25 col24\" >0</td>\n",
              "      <td id=\"T_cefb9_row25_col25\" class=\"data row25 col25\" >0</td>\n",
              "      <td id=\"T_cefb9_row25_col26\" class=\"data row25 col26\" >0</td>\n",
              "      <td id=\"T_cefb9_row25_col27\" class=\"data row25 col27\" >0</td>\n",
              "    </tr>\n",
              "    <tr>\n",
              "      <th id=\"T_cefb9_level0_row26\" class=\"row_heading level0 row26\" >26</th>\n",
              "      <td id=\"T_cefb9_row26_col0\" class=\"data row26 col0\" >0</td>\n",
              "      <td id=\"T_cefb9_row26_col1\" class=\"data row26 col1\" >0</td>\n",
              "      <td id=\"T_cefb9_row26_col2\" class=\"data row26 col2\" >0</td>\n",
              "      <td id=\"T_cefb9_row26_col3\" class=\"data row26 col3\" >0</td>\n",
              "      <td id=\"T_cefb9_row26_col4\" class=\"data row26 col4\" >0</td>\n",
              "      <td id=\"T_cefb9_row26_col5\" class=\"data row26 col5\" >0</td>\n",
              "      <td id=\"T_cefb9_row26_col6\" class=\"data row26 col6\" >0</td>\n",
              "      <td id=\"T_cefb9_row26_col7\" class=\"data row26 col7\" >0</td>\n",
              "      <td id=\"T_cefb9_row26_col8\" class=\"data row26 col8\" >0</td>\n",
              "      <td id=\"T_cefb9_row26_col9\" class=\"data row26 col9\" >0</td>\n",
              "      <td id=\"T_cefb9_row26_col10\" class=\"data row26 col10\" >0</td>\n",
              "      <td id=\"T_cefb9_row26_col11\" class=\"data row26 col11\" >0</td>\n",
              "      <td id=\"T_cefb9_row26_col12\" class=\"data row26 col12\" >0</td>\n",
              "      <td id=\"T_cefb9_row26_col13\" class=\"data row26 col13\" >0</td>\n",
              "      <td id=\"T_cefb9_row26_col14\" class=\"data row26 col14\" >0</td>\n",
              "      <td id=\"T_cefb9_row26_col15\" class=\"data row26 col15\" >0</td>\n",
              "      <td id=\"T_cefb9_row26_col16\" class=\"data row26 col16\" >0</td>\n",
              "      <td id=\"T_cefb9_row26_col17\" class=\"data row26 col17\" >0</td>\n",
              "      <td id=\"T_cefb9_row26_col18\" class=\"data row26 col18\" >0</td>\n",
              "      <td id=\"T_cefb9_row26_col19\" class=\"data row26 col19\" >0</td>\n",
              "      <td id=\"T_cefb9_row26_col20\" class=\"data row26 col20\" >0</td>\n",
              "      <td id=\"T_cefb9_row26_col21\" class=\"data row26 col21\" >0</td>\n",
              "      <td id=\"T_cefb9_row26_col22\" class=\"data row26 col22\" >0</td>\n",
              "      <td id=\"T_cefb9_row26_col23\" class=\"data row26 col23\" >0</td>\n",
              "      <td id=\"T_cefb9_row26_col24\" class=\"data row26 col24\" >0</td>\n",
              "      <td id=\"T_cefb9_row26_col25\" class=\"data row26 col25\" >0</td>\n",
              "      <td id=\"T_cefb9_row26_col26\" class=\"data row26 col26\" >0</td>\n",
              "      <td id=\"T_cefb9_row26_col27\" class=\"data row26 col27\" >0</td>\n",
              "    </tr>\n",
              "    <tr>\n",
              "      <th id=\"T_cefb9_level0_row27\" class=\"row_heading level0 row27\" >27</th>\n",
              "      <td id=\"T_cefb9_row27_col0\" class=\"data row27 col0\" >0</td>\n",
              "      <td id=\"T_cefb9_row27_col1\" class=\"data row27 col1\" >0</td>\n",
              "      <td id=\"T_cefb9_row27_col2\" class=\"data row27 col2\" >0</td>\n",
              "      <td id=\"T_cefb9_row27_col3\" class=\"data row27 col3\" >0</td>\n",
              "      <td id=\"T_cefb9_row27_col4\" class=\"data row27 col4\" >0</td>\n",
              "      <td id=\"T_cefb9_row27_col5\" class=\"data row27 col5\" >0</td>\n",
              "      <td id=\"T_cefb9_row27_col6\" class=\"data row27 col6\" >0</td>\n",
              "      <td id=\"T_cefb9_row27_col7\" class=\"data row27 col7\" >0</td>\n",
              "      <td id=\"T_cefb9_row27_col8\" class=\"data row27 col8\" >0</td>\n",
              "      <td id=\"T_cefb9_row27_col9\" class=\"data row27 col9\" >0</td>\n",
              "      <td id=\"T_cefb9_row27_col10\" class=\"data row27 col10\" >0</td>\n",
              "      <td id=\"T_cefb9_row27_col11\" class=\"data row27 col11\" >0</td>\n",
              "      <td id=\"T_cefb9_row27_col12\" class=\"data row27 col12\" >0</td>\n",
              "      <td id=\"T_cefb9_row27_col13\" class=\"data row27 col13\" >0</td>\n",
              "      <td id=\"T_cefb9_row27_col14\" class=\"data row27 col14\" >0</td>\n",
              "      <td id=\"T_cefb9_row27_col15\" class=\"data row27 col15\" >0</td>\n",
              "      <td id=\"T_cefb9_row27_col16\" class=\"data row27 col16\" >0</td>\n",
              "      <td id=\"T_cefb9_row27_col17\" class=\"data row27 col17\" >0</td>\n",
              "      <td id=\"T_cefb9_row27_col18\" class=\"data row27 col18\" >0</td>\n",
              "      <td id=\"T_cefb9_row27_col19\" class=\"data row27 col19\" >0</td>\n",
              "      <td id=\"T_cefb9_row27_col20\" class=\"data row27 col20\" >0</td>\n",
              "      <td id=\"T_cefb9_row27_col21\" class=\"data row27 col21\" >0</td>\n",
              "      <td id=\"T_cefb9_row27_col22\" class=\"data row27 col22\" >0</td>\n",
              "      <td id=\"T_cefb9_row27_col23\" class=\"data row27 col23\" >0</td>\n",
              "      <td id=\"T_cefb9_row27_col24\" class=\"data row27 col24\" >0</td>\n",
              "      <td id=\"T_cefb9_row27_col25\" class=\"data row27 col25\" >0</td>\n",
              "      <td id=\"T_cefb9_row27_col26\" class=\"data row27 col26\" >0</td>\n",
              "      <td id=\"T_cefb9_row27_col27\" class=\"data row27 col27\" >0</td>\n",
              "    </tr>\n",
              "  </tbody>\n",
              "</table>\n"
            ]
          },
          "metadata": {},
          "execution_count": 67
        }
      ]
    },
    {
      "cell_type": "code",
      "source": [
        "three_tensor=[tensor(Image.open(m)) for m in threes ]\n",
        "seven_tensor=[tensor(Image.open(n)) for n in sevens]\n",
        "len(seven_tensor), len(three_tensor)\n"
      ],
      "metadata": {
        "id": "PPXRTau06qZd",
        "colab": {
          "base_uri": "https://localhost:8080/"
        },
        "outputId": "25b590dc-960d-4fd2-81b0-dfc7994b3a2a"
      },
      "execution_count": 68,
      "outputs": [
        {
          "output_type": "execute_result",
          "data": {
            "text/plain": [
              "(6265, 6131)"
            ]
          },
          "metadata": {},
          "execution_count": 68
        }
      ]
    },
    {
      "cell_type": "code",
      "source": [
        "show_image(img3)\n",
        "show_image(seven_tensor[2])\n"
      ],
      "metadata": {
        "colab": {
          "base_uri": "https://localhost:8080/",
          "height": 228
        },
        "id": "_ULeraBEKRwx",
        "outputId": "57fddeb0-854f-4913-c55c-c47b54741f28"
      },
      "execution_count": 69,
      "outputs": [
        {
          "output_type": "execute_result",
          "data": {
            "text/plain": [
              "<Axes: >"
            ]
          },
          "metadata": {},
          "execution_count": 69
        },
        {
          "output_type": "display_data",
          "data": {
            "text/plain": [
              "<Figure size 100x100 with 1 Axes>"
            ],
            "image/png": "[encoded data removed]"
          },
          "metadata": {}
        },
        {
          "output_type": "display_data",
          "data": {
            "text/plain": [
              "<Figure size 100x100 with 1 Axes>"
            ],
            "image/png": "[encoded data removed]"
          },
          "metadata": {}
        }
      ]
    },
    {
      "cell_type": "markdown",
      "source": [
        "**we have combined all tensors into a single tensor . this new tensor is 28*28.**"
      ],
      "metadata": {
        "id": "7F0PkTYGjFWl"
      }
    },
    {
      "cell_type": "code",
      "source": [
        "stacked_seven=torch.stack(seven_tensor).float()/255\n",
        "stacked_three=torch.stack(three_tensor).float()/255\n",
        "stacked_seven.shape, stacked_three.shape\n"
      ],
      "metadata": {
        "id": "uOt-4Sna6qiV",
        "colab": {
          "base_uri": "https://localhost:8080/"
        },
        "outputId": "abc83c36-de9d-4dc6-ac15-9cd1e123fa70"
      },
      "execution_count": 70,
      "outputs": [
        {
          "output_type": "execute_result",
          "data": {
            "text/plain": [
              "(torch.Size([6265, 28, 28]), torch.Size([6131, 28, 28]))"
            ]
          },
          "metadata": {},
          "execution_count": 70
        }
      ]
    },
    {
      "cell_type": "code",
      "source": [
        "len(stacked_three), len(stacked_seven.shape)"
      ],
      "metadata": {
        "colab": {
          "base_uri": "https://localhost:8080/"
        },
        "id": "tqU1UEvYh3gc",
        "outputId": "7d246920-5969-47aa-ac4e-ff16803c32d5"
      },
      "execution_count": 71,
      "outputs": [
        {
          "output_type": "execute_result",
          "data": {
            "text/plain": [
              "(6131, 3)"
            ]
          },
          "metadata": {},
          "execution_count": 71
        }
      ]
    },
    {
      "cell_type": "markdown",
      "source": [
        "**burda 6131 tane goruntu var ve her goruntu 28*28 lık pıkselden olusuyormus**"
      ],
      "metadata": {
        "id": "doMLwtKsgRlM"
      }
    },
    {
      "cell_type": "code",
      "source": [
        "stacked_three.ndim, stacked_three.shape"
      ],
      "metadata": {
        "colab": {
          "base_uri": "https://localhost:8080/"
        },
        "id": "KfIE2xcFOEt5",
        "outputId": "ce7904bb-0a34-49f0-ca0d-5b5463d3a424"
      },
      "execution_count": 72,
      "outputs": [
        {
          "output_type": "execute_result",
          "data": {
            "text/plain": [
              "(3, torch.Size([6131, 28, 28]))"
            ]
          },
          "metadata": {},
          "execution_count": 72
        }
      ]
    },
    {
      "cell_type": "markdown",
      "source": [
        "**Bu bize lıstelenmıs tum 7 ler ya da 3 lerın ortalamasını verır yanı genel olarak neye benzedıklerının ortalaması dıyebılırız.**"
      ],
      "metadata": {
        "id": "5em-iI_qhcNZ"
      }
    },
    {
      "cell_type": "code",
      "source": [
        "mean7=stacked_seven.mean(0)\n",
        "show_image(mean7)\n",
        "mean3=stacked_three.mean(0)\n",
        "show_image(mean3)"
      ],
      "metadata": {
        "id": "IBjPhW6b6qkq",
        "colab": {
          "base_uri": "https://localhost:8080/",
          "height": 228
        },
        "outputId": "8ca3be30-84a2-4da1-d703-b5c1fc2e422a"
      },
      "execution_count": 73,
      "outputs": [
        {
          "output_type": "execute_result",
          "data": {
            "text/plain": [
              "<Axes: >"
            ]
          },
          "metadata": {},
          "execution_count": 73
        },
        {
          "output_type": "display_data",
          "data": {
            "text/plain": [
              "<Figure size 100x100 with 1 Axes>"
            ],
            "image/png": "[encoded data removed]"
          },
          "metadata": {}
        },
        {
          "output_type": "display_data",
          "data": {
            "text/plain": [
              "<Figure size 100x100 with 1 Axes>"
            ],
            "image/png": "[encoded data removed]"
          },
          "metadata": {}
        }
      ]
    },
    {
      "cell_type": "markdown",
      "source": [
        "**şimdi herhangı bır 7 nın ortalama bır 7 ye  olan uzaklıgını olcelım.**"
      ],
      "metadata": {
        "id": "KHwgyXW1lLL5"
      }
    },
    {
      "cell_type": "code",
      "source": [
        "tensor7_12=stacked_seven[12]\n",
        "dist_7_abs=(tensor7_12-mean3).abs().mean()\n",
        "dist_7_abs"
      ],
      "metadata": {
        "id": "vn-hhdx6sdM-",
        "outputId": "4a15cf82-bd19-46ca-a444-3d35c7e52e1d",
        "colab": {
          "base_uri": "https://localhost:8080/"
        }
      },
      "execution_count": 74,
      "outputs": [
        {
          "output_type": "execute_result",
          "data": {
            "text/plain": [
              "tensor(0.1671)"
            ]
          },
          "metadata": {},
          "execution_count": 74
        }
      ]
    },
    {
      "cell_type": "markdown",
      "source": [
        "**asagıda tensor ve numpy array leri ile ilgili bazı ıslemler: ** **kalın metin**"
      ],
      "metadata": {
        "id": "yTftYVw2sZO-"
      }
    },
    {
      "cell_type": "code",
      "source": [
        "data = [[1,2,3],[4,5,6]]\n",
        "arr = array (data)\n",
        "tns = tensor(data)"
      ],
      "metadata": {
        "id": "QU8Oali_sdPL"
      },
      "execution_count": 75,
      "outputs": []
    },
    {
      "cell_type": "code",
      "source": [
        "arr"
      ],
      "metadata": {
        "id": "VbSDjlRjrq4H",
        "outputId": "134b3329-800a-4b82-c48f-01ac75d636f5",
        "colab": {
          "base_uri": "https://localhost:8080/"
        }
      },
      "execution_count": 76,
      "outputs": [
        {
          "output_type": "execute_result",
          "data": {
            "text/plain": [
              "array([[1, 2, 3],\n",
              "       [4, 5, 6]])"
            ]
          },
          "metadata": {},
          "execution_count": 76
        }
      ]
    },
    {
      "cell_type": "code",
      "source": [
        "tns"
      ],
      "metadata": {
        "id": "yHAJ-8tNrs4m",
        "outputId": "b8ee2452-0a0f-4252-bdc9-c0da021635ec",
        "colab": {
          "base_uri": "https://localhost:8080/"
        }
      },
      "execution_count": 77,
      "outputs": [
        {
          "output_type": "execute_result",
          "data": {
            "text/plain": [
              "tensor([[1, 2, 3],\n",
              "        [4, 5, 6]])"
            ]
          },
          "metadata": {},
          "execution_count": 77
        }
      ]
    },
    {
      "cell_type": "code",
      "source": [
        "arr[:,1]"
      ],
      "metadata": {
        "id": "V8DoRJRCrmfd",
        "outputId": "662198ae-fb4d-4da3-edf0-145318c0cf0f",
        "colab": {
          "base_uri": "https://localhost:8080/"
        }
      },
      "execution_count": 78,
      "outputs": [
        {
          "output_type": "execute_result",
          "data": {
            "text/plain": [
              "array([2, 5])"
            ]
          },
          "metadata": {},
          "execution_count": 78
        }
      ]
    },
    {
      "cell_type": "code",
      "source": [
        "tns[:,1]"
      ],
      "metadata": {
        "id": "lIjzRnOhrmh3",
        "outputId": "4f0ac6a3-8e42-45d6-85b2-8866592aab1a",
        "colab": {
          "base_uri": "https://localhost:8080/"
        }
      },
      "execution_count": 79,
      "outputs": [
        {
          "output_type": "execute_result",
          "data": {
            "text/plain": [
              "tensor([2, 5])"
            ]
          },
          "metadata": {},
          "execution_count": 79
        }
      ]
    },
    {
      "cell_type": "code",
      "source": [
        "tns[0]"
      ],
      "metadata": {
        "id": "3oCi1wmasAmL",
        "outputId": "61503a47-9dbb-4caf-c73d-19cee316d69f",
        "colab": {
          "base_uri": "https://localhost:8080/"
        }
      },
      "execution_count": 80,
      "outputs": [
        {
          "output_type": "execute_result",
          "data": {
            "text/plain": [
              "tensor([1, 2, 3])"
            ]
          },
          "metadata": {},
          "execution_count": 80
        }
      ]
    },
    {
      "cell_type": "code",
      "source": [
        "tns[1,1:3]"
      ],
      "metadata": {
        "id": "UCSwy4gLsHoa",
        "outputId": "3323539e-fec2-47ae-f20d-620f061fa7a0",
        "colab": {
          "base_uri": "https://localhost:8080/"
        }
      },
      "execution_count": 81,
      "outputs": [
        {
          "output_type": "execute_result",
          "data": {
            "text/plain": [
              "tensor([5, 6])"
            ]
          },
          "metadata": {},
          "execution_count": 81
        }
      ]
    },
    {
      "cell_type": "code",
      "source": [
        "tns+3"
      ],
      "metadata": {
        "id": "RQtmy41jsyvH",
        "outputId": "10792e52-ec30-4306-fca1-37337c5454c7",
        "colab": {
          "base_uri": "https://localhost:8080/"
        }
      },
      "execution_count": 82,
      "outputs": [
        {
          "output_type": "execute_result",
          "data": {
            "text/plain": [
              "tensor([[4, 5, 6],\n",
              "        [7, 8, 9]])"
            ]
          },
          "metadata": {},
          "execution_count": 82
        }
      ]
    },
    {
      "cell_type": "code",
      "source": [
        "valid_3_tens = torch.stack([tensor(Image.open(o))\n",
        "                            for o in (path/'valid'/'3').ls()])\n",
        "valid_3_tens = valid_3_tens.float()/255\n",
        "valid_7_tens = torch.stack([tensor(Image.open(o))\n",
        "                            for o in (path/'valid'/'7').ls()])\n",
        "valid_7_tens = valid_7_tens.float()/255\n",
        "valid_3_tens.shape,valid_7_tens.shape"
      ],
      "metadata": {
        "id": "GrUm5v4Js3Te",
        "outputId": "9cca2b8a-d1e4-4d16-dc1f-4f3a49d44bb9",
        "colab": {
          "base_uri": "https://localhost:8080/"
        }
      },
      "execution_count": 83,
      "outputs": [
        {
          "output_type": "execute_result",
          "data": {
            "text/plain": [
              "(torch.Size([1010, 28, 28]), torch.Size([1028, 28, 28]))"
            ]
          },
          "metadata": {},
          "execution_count": 83
        }
      ]
    },
    {
      "cell_type": "code",
      "source": [
        "a_3 = stacked_three[1]\n",
        "def mnist_distance(a,b): return (a-b).abs().mean((-1,-2))\n",
        "mnist_distance(a_3, mean3)"
      ],
      "metadata": {
        "id": "xJDPxLXaLcC5",
        "outputId": "fda13254-d318-4170-d78d-e77490d746b3",
        "colab": {
          "base_uri": "https://localhost:8080/"
        }
      },
      "execution_count": 84,
      "outputs": [
        {
          "output_type": "execute_result",
          "data": {
            "text/plain": [
              "tensor(0.1114)"
            ]
          },
          "metadata": {},
          "execution_count": 84
        }
      ]
    },
    {
      "cell_type": "code",
      "source": [
        "valid_3_dist = mnist_distance(valid_3_tens, mean3)\n",
        "valid_3_dist, valid_3_dist.shape, len(valid_3_tens)\n"
      ],
      "metadata": {
        "id": "urgN7Q6kLcFw",
        "outputId": "8ce59ac6-9fca-49b2-fd2d-15c8f67ce1b9",
        "colab": {
          "base_uri": "https://localhost:8080/"
        }
      },
      "execution_count": 85,
      "outputs": [
        {
          "output_type": "execute_result",
          "data": {
            "text/plain": [
              "(tensor([0.1098, 0.1247, 0.1348,  ..., 0.1378, 0.1268, 0.1375]),\n",
              " torch.Size([1010]),\n",
              " 1010)"
            ]
          },
          "metadata": {},
          "execution_count": 85
        }
      ]
    },
    {
      "cell_type": "code",
      "source": [
        "tensor([1,2,3]) + tensor([1])"
      ],
      "metadata": {
        "id": "M-FjNQoCLcIJ",
        "outputId": "c4244416-94f1-40b1-e0bf-13b04a84acf7",
        "colab": {
          "base_uri": "https://localhost:8080/"
        }
      },
      "execution_count": 86,
      "outputs": [
        {
          "output_type": "execute_result",
          "data": {
            "text/plain": [
              "tensor([2, 3, 4])"
            ]
          },
          "metadata": {},
          "execution_count": 86
        }
      ]
    },
    {
      "cell_type": "markdown",
      "source": [
        "**bır sayının 3 e aıt olup olmadıgını bılmek ıcın eger mean3 e olan uzaklıgı mean7 ye olan uzaklıgından az ıse o zaman o sayı 3 tur.**"
      ],
      "metadata": {
        "id": "_cFGvEzoRjQL"
      }
    },
    {
      "cell_type": "code",
      "source": [
        "def is_3(x): return mnist_distance(x,mean3) < mnist_distance(x,mean7)"
      ],
      "metadata": {
        "id": "GFOFJGF1LcKs"
      },
      "execution_count": 87,
      "outputs": []
    },
    {
      "cell_type": "markdown",
      "source": [
        "**FLOAT ILE YAPMAK TRUE VE FALSE I 1 VE 0 YAPAR.**"
      ],
      "metadata": {
        "id": "3D6_zt_nVXTp"
      }
    },
    {
      "cell_type": "code",
      "source": [
        "is_3(a_3), is_3(a_3).float()"
      ],
      "metadata": {
        "id": "juzAgDp_R9RK",
        "outputId": "fdede718-db50-4799-9d26-9bf2a825b7ac",
        "colab": {
          "base_uri": "https://localhost:8080/"
        }
      },
      "execution_count": 88,
      "outputs": [
        {
          "output_type": "execute_result",
          "data": {
            "text/plain": [
              "(tensor(True), tensor(1.))"
            ]
          },
          "metadata": {},
          "execution_count": 88
        }
      ]
    },
    {
      "cell_type": "code",
      "source": [
        "is_3(valid_3_tens[0:50])"
      ],
      "metadata": {
        "id": "rXj0SbKuR9Tc",
        "outputId": "72a7fe4f-9ae4-4bac-fb59-ddf7b4c0580d",
        "colab": {
          "base_uri": "https://localhost:8080/"
        }
      },
      "execution_count": 89,
      "outputs": [
        {
          "output_type": "execute_result",
          "data": {
            "text/plain": [
              "tensor([ True,  True,  True, False,  True,  True,  True,  True,  True,  True,  True,  True,  True,  True,  True,  True,  True,  True,  True,  True,  True,  True,  True,  True,  True,  True,  True,\n",
              "         True,  True,  True,  True,  True,  True,  True,  True,  True,  True,  True,  True,  True,  True,  True,  True,  True,  True,  True,  True,  True,  True,  True])"
            ]
          },
          "metadata": {},
          "execution_count": 89
        }
      ]
    },
    {
      "cell_type": "code",
      "source": [
        "accuracy_3s =      is_3(valid_3_tens).float() .mean()\n",
        "accuracy_7s = (1 - is_3(valid_7_tens).float()).mean()\n",
        "\n",
        "accuracy_3s,accuracy_7s"
      ],
      "metadata": {
        "id": "_9Mbw1e8TIaa",
        "outputId": "43faf047-83c2-4d27-8e1a-36dbe09db900",
        "colab": {
          "base_uri": "https://localhost:8080/"
        }
      },
      "execution_count": 90,
      "outputs": [
        {
          "output_type": "execute_result",
          "data": {
            "text/plain": [
              "(tensor(0.9168), tensor(0.9854))"
            ]
          },
          "metadata": {},
          "execution_count": 90
        }
      ]
    },
    {
      "cell_type": "code",
      "source": [
        "xt=tensor([2.,5. ,7.]).requires_grad_()"
      ],
      "metadata": {
        "id": "FD7ui8HcTIfv"
      },
      "execution_count": 91,
      "outputs": []
    },
    {
      "cell_type": "code",
      "source": [
        "def f(x): return (x**2).sum()"
      ],
      "metadata": {
        "id": "4vceLR0XvvYy"
      },
      "execution_count": 92,
      "outputs": []
    },
    {
      "cell_type": "code",
      "source": [
        "yt=f(xt)\n",
        "yt.backward()"
      ],
      "metadata": {
        "id": "sKRB3kA5TIkp"
      },
      "execution_count": 93,
      "outputs": []
    },
    {
      "cell_type": "markdown",
      "source": [
        "**burda x^2 turevı 2*x dır. verılen 2,5,7 degerlerını buraya koyunca bu noktada kı turev degerlerını bulduk.**"
      ],
      "metadata": {
        "id": "H8aIbC2Mv2wt"
      }
    },
    {
      "cell_type": "code",
      "source": [
        "xt.grad"
      ],
      "metadata": {
        "id": "4PA-2-qiTInQ",
        "outputId": "d779bc62-ecbb-440a-8fe8-9fcf524dac8b",
        "colab": {
          "base_uri": "https://localhost:8080/"
        }
      },
      "execution_count": 94,
      "outputs": [
        {
          "output_type": "execute_result",
          "data": {
            "text/plain": [
              "tensor([ 4., 10., 14.])"
            ]
          },
          "metadata": {},
          "execution_count": 94
        }
      ]
    },
    {
      "cell_type": "code",
      "source": [
        "time = torch.arange(0,20).float(); time"
      ],
      "metadata": {
        "id": "P3jgGnt6TIps",
        "outputId": "fdcf1b7c-63ba-4474-900c-cfff1c77a2d1",
        "colab": {
          "base_uri": "https://localhost:8080/"
        }
      },
      "execution_count": 95,
      "outputs": [
        {
          "output_type": "execute_result",
          "data": {
            "text/plain": [
              "tensor([ 0.,  1.,  2.,  3.,  4.,  5.,  6.,  7.,  8.,  9., 10., 11., 12., 13., 14., 15., 16., 17., 18., 19.])"
            ]
          },
          "metadata": {},
          "execution_count": 95
        }
      ]
    },
    {
      "cell_type": "code",
      "source": [
        "speed = torch.randn(20)*3 + 0.75*(time-9.5)**2 + 1\n",
        "plt.scatter(time,speed);"
      ],
      "metadata": {
        "colab": {
          "base_uri": "https://localhost:8080/",
          "height": 434
        },
        "id": "Tmtqiyl3c1Eg",
        "outputId": "670a6255-84e0-44a7-e0dc-65329e124d6b"
      },
      "execution_count": 96,
      "outputs": [
        {
          "output_type": "display_data",
          "data": {
            "text/plain": [
              "<Figure size 640x480 with 1 Axes>"
            ],
            "image/png": "[encoded data removed]"
          },
          "metadata": {}
        }
      ]
    },
    {
      "cell_type": "code",
      "source": [
        "def f(t, params):\n",
        "    a,b,c = params\n",
        "    return a*(t**2) + (b*t) + c"
      ],
      "metadata": {
        "id": "l3alAFNETIsX"
      },
      "execution_count": 97,
      "outputs": []
    },
    {
      "cell_type": "markdown",
      "source": [
        "**hata maliyeti hesaplama**"
      ],
      "metadata": {
        "id": "0R5exFPNc6aj"
      }
    },
    {
      "cell_type": "code",
      "source": [
        "def mse(preds, targets): return ((preds-targets)**2).mean()"
      ],
      "metadata": {
        "id": "eSXqCsuiTIuk"
      },
      "execution_count": 98,
      "outputs": []
    },
    {
      "cell_type": "markdown",
      "source": [
        "requires_grad parametrelere turev uygulanacagını belırtmek ıcın kullanılır."
      ],
      "metadata": {
        "id": "S9dkKMZdc_hg"
      }
    },
    {
      "cell_type": "code",
      "source": [
        "params = torch.randn(3).requires_grad_()"
      ],
      "metadata": {
        "id": "tgBWFPvF0tL4"
      },
      "execution_count": 99,
      "outputs": []
    },
    {
      "cell_type": "code",
      "source": [
        "orig_params = params.clone()"
      ],
      "metadata": {
        "id": "2UdfjANv0tOE"
      },
      "execution_count": 100,
      "outputs": []
    },
    {
      "cell_type": "markdown",
      "source": [
        "önce fonksıyona gıttı daha sonra da bunun hata oranını buldu. burda speed yukarda belırledıgımız gercek y degerlerıdır."
      ],
      "metadata": {
        "id": "xNxwSFJpdRoi"
      }
    },
    {
      "cell_type": "code",
      "source": [
        "preds = f(time, params)\n",
        "loss=mse(preds,speed); loss"
      ],
      "metadata": {
        "id": "loqWqRA_0tQs",
        "colab": {
          "base_uri": "https://localhost:8080/"
        },
        "outputId": "2a6f0dbc-0c7a-4137-f85f-9d69bf990aeb"
      },
      "execution_count": 101,
      "outputs": [
        {
          "output_type": "execute_result",
          "data": {
            "text/plain": [
              "tensor(1113.6345, grad_fn=<MeanBackward0>)"
            ]
          },
          "metadata": {},
          "execution_count": 101
        }
      ]
    },
    {
      "cell_type": "code",
      "source": [
        "loss.backward()\n",
        "params.grad"
      ],
      "metadata": {
        "id": "kwkOyJKn0uMO",
        "colab": {
          "base_uri": "https://localhost:8080/"
        },
        "outputId": "2d3d7382-7f7f-43bc-fd10-ab5ce6a60c78"
      },
      "execution_count": 102,
      "outputs": [
        {
          "output_type": "execute_result",
          "data": {
            "text/plain": [
              "tensor([7071.7754,  454.8004,   12.3632])"
            ]
          },
          "metadata": {},
          "execution_count": 102
        }
      ]
    },
    {
      "cell_type": "markdown",
      "source": [
        "sonda kı none yaptık her seferınde gradyanları sıfırlasın tekrardan alsın dıye"
      ],
      "metadata": {
        "id": "C2imwcqweYmD"
      }
    },
    {
      "cell_type": "code",
      "source": [
        "lr = 1e-5\n",
        "params.data -= lr * params.grad.data\n",
        "params.grad = None"
      ],
      "metadata": {
        "id": "w0NwTTMx0uOe"
      },
      "execution_count": 103,
      "outputs": []
    },
    {
      "cell_type": "code",
      "source": [
        "def apply_step(params, prn=True):\n",
        "    preds = f(time, params)\n",
        "    loss = mse(preds, speed)\n",
        "    loss.backward()\n",
        "    params.data -= lr * params.grad.data\n",
        "    params.grad = None\n",
        "    if prn: print(params.data,\"-----\" , loss.item())\n",
        "\n",
        "    #neden burda return preds ıfadesı kullanıldı.\n",
        "    return preds"
      ],
      "metadata": {
        "id": "ZwKfgKzs5K5x"
      },
      "execution_count": 104,
      "outputs": []
    },
    {
      "cell_type": "code",
      "source": [
        "for i in range(10): apply_step(params)"
      ],
      "metadata": {
        "id": "UzIgkAJD5K8l",
        "colab": {
          "base_uri": "https://localhost:8080/"
        },
        "outputId": "fdd8bc5a-18f9-4387-aacc-c7a7abb2071b"
      },
      "execution_count": 105,
      "outputs": [
        {
          "output_type": "stream",
          "name": "stdout",
          "text": [
            "tensor([ 0.1289,  0.4614, -0.2050]) ----- 753.3248901367188\n",
            "tensor([ 0.1155,  0.4605, -0.2049]) ----- 685.1405029296875\n",
            "tensor([ 0.1096,  0.4601, -0.2047]) ----- 672.235107421875\n",
            "tensor([ 0.1071,  0.4599, -0.2045]) ----- 669.7901000976562\n",
            "tensor([ 0.1060,  0.4599, -0.2044]) ----- 669.3246459960938\n",
            "tensor([ 0.1055,  0.4598, -0.2042]) ----- 669.233642578125\n",
            "tensor([ 0.1053,  0.4598, -0.2040]) ----- 669.2136840820312\n",
            "tensor([ 0.1052,  0.4598, -0.2038]) ----- 669.20703125\n",
            "tensor([ 0.1052,  0.4598, -0.2036]) ----- 669.2029418945312\n",
            "tensor([ 0.1052,  0.4598, -0.2034]) ----- 669.1993408203125\n"
          ]
        }
      ]
    },
    {
      "cell_type": "markdown",
      "source": [
        "7 ve 3 lerı cat kullanarak bırlestırdık. daha sonra vıew kullanarak bu tensoru yenıden sekıllendırdık."
      ],
      "metadata": {
        "id": "awcMy8bNiXdP"
      }
    },
    {
      "cell_type": "code",
      "source": [
        "train_x = torch.cat([stacked_three, stacked_seven]).view(-1, 28*28)"
      ],
      "metadata": {
        "id": "bxs83mVu5K-v"
      },
      "execution_count": 107,
      "outputs": []
    },
    {
      "cell_type": "code",
      "source": [],
      "metadata": {
        "id": "C5dhL1P05LDn"
      },
      "execution_count": 105,
      "outputs": []
    }
  ],
  "metadata": {
    "colab": {
      "provenance": [],
      "include_colab_link": true
    },
    "kernelspec": {
      "display_name": "Python 3",
      "name": "python3"
    },
    "accelerator": "TPU"
  },
  "nbformat": 4,
  "nbformat_minor": 0
}