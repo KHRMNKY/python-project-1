{
  "cells": [
    {
      "cell_type": "markdown",
      "metadata": {
        "id": "view-in-github",
        "colab_type": "text"
      },
      "source": [
        "<a href=\"https://colab.research.google.com/github/kahramankaya/python-project-1/blob/main/al%C4%B1sver%C4%B1s(yap%C4%B1lacak).ipynb\" target=\"_parent\"><img src=\"https://colab.research.google.com/assets/colab-badge.svg\" alt=\"Open In Colab\"/></a>"
      ]
    },
    {
      "cell_type": "code",
      "source": [
        "cart_limit=18000\n",
        "items=[\"phone,\", \"watch\", \"mouse\", \"pc\", \"keyboard\"]"
      ],
      "metadata": {
        "id": "cmOYq5wmgpWL"
      },
      "execution_count": 106,
      "outputs": []
    },
    {
      "cell_type": "code",
      "source": [
        "price={\n",
        "       \"phone\":2500,\n",
        "       \"watch\":700,\n",
        "       \"mouse\":150,\n",
        "       \"pc\":15000,\n",
        "       \"keyboard\":1300\n",
        "}"
      ],
      "metadata": {
        "id": "Lfsa5NFIgpXo"
      },
      "execution_count": 107,
      "outputs": []
    },
    {
      "cell_type": "code",
      "source": [
        "List=[]\n",
        "def add_to_cart(item,quantitity):\n",
        "  List.append((item,quantitity))"
      ],
      "metadata": {
        "id": "8b3rNenxjfyf"
      },
      "execution_count": 108,
      "outputs": []
    },
    {
      "cell_type": "code",
      "source": [
        "def choice():\n",
        "  numbers=int(input(\"how many item will you buy= \"))\n",
        "  for number in range(numbers):\n",
        "    try:\n",
        "      item=input(f\" can you choice {number}.number =  \")\n",
        "      quantitity=int(input(f\"how many will you buy from {item}\"))\n",
        "    except:\n",
        "      print(\"lütfen uygun degerleri giriniz.\")\n",
        "  add_to_cart(item,quantitity)\n"
      ],
      "metadata": {
        "id": "o64bWbpfgpZO"
      },
      "execution_count": 109,
      "outputs": []
    },
    {
      "cell_type": "code",
      "source": [
        "def limit():\n",
        "  global cart_limit\n",
        "  if sum>cart_limit:\n",
        "    print(f\"toplam {cart_limit} limittinden buyuk olamaz\")\n",
        "  else:\n",
        "    cart_limit-=sum\n",
        "    print(f\"kalan kart limitiniz {cart_limit}\")"
      ],
      "metadata": {
        "id": "L2dnjHPModE2"
      },
      "execution_count": 110,
      "outputs": []
    },
    {
      "cell_type": "code",
      "source": [
        "def summ():\n",
        "  choice()\n",
        "  sum=0\n",
        "  for item,quantitity in List:\n",
        "    sum+=price[item]*quantitity"
      ],
      "metadata": {
        "id": "ftw1IoyCmdkK"
      },
      "execution_count": 111,
      "outputs": []
    },
    {
      "cell_type": "code",
      "source": [
        "def f():\n",
        "  summ()\n",
        "  limit()\n"
      ],
      "metadata": {
        "id": "dmjvZkOOyB3Y"
      },
      "execution_count": 112,
      "outputs": []
    },
    {
      "cell_type": "code",
      "source": [
        "f()"
      ],
      "metadata": {
        "id": "UJUTwIxd2GAs",
        "outputId": "3a8a2233-4203-4bb1-e5f9-d5d15185c253",
        "colab": {
          "base_uri": "https://localhost:8080/",
          "height": 372
        }
      },
      "execution_count": 113,
      "outputs": [
        {
          "name": "stdout",
          "output_type": "stream",
          "text": [
            "how many item will you buy= 1\n",
            " can you choice 0.number =  pc\n",
            "how many will you buy from pc1\n"
          ]
        },
        {
          "output_type": "error",
          "ename": "TypeError",
          "evalue": "ignored",
          "traceback": [
            "\u001b[0;31m---------------------------------------------------------------------------\u001b[0m",
            "\u001b[0;31mTypeError\u001b[0m                                 Traceback (most recent call last)",
            "\u001b[0;32m<ipython-input-113-c43e34e6d405>\u001b[0m in \u001b[0;36m<cell line: 1>\u001b[0;34m()\u001b[0m\n\u001b[0;32m----> 1\u001b[0;31m \u001b[0mf\u001b[0m\u001b[0;34m(\u001b[0m\u001b[0;34m)\u001b[0m\u001b[0;34m\u001b[0m\u001b[0;34m\u001b[0m\u001b[0m\n\u001b[0m",
            "\u001b[0;32m<ipython-input-112-47f2dc376fca>\u001b[0m in \u001b[0;36mf\u001b[0;34m()\u001b[0m\n\u001b[1;32m      1\u001b[0m \u001b[0;32mdef\u001b[0m \u001b[0mf\u001b[0m\u001b[0;34m(\u001b[0m\u001b[0;34m)\u001b[0m\u001b[0;34m:\u001b[0m\u001b[0;34m\u001b[0m\u001b[0;34m\u001b[0m\u001b[0m\n\u001b[1;32m      2\u001b[0m   \u001b[0msumm\u001b[0m\u001b[0;34m(\u001b[0m\u001b[0;34m)\u001b[0m\u001b[0;34m\u001b[0m\u001b[0;34m\u001b[0m\u001b[0m\n\u001b[0;32m----> 3\u001b[0;31m   \u001b[0mlimit\u001b[0m\u001b[0;34m(\u001b[0m\u001b[0;34m)\u001b[0m\u001b[0;34m\u001b[0m\u001b[0;34m\u001b[0m\u001b[0m\n\u001b[0m",
            "\u001b[0;32m<ipython-input-110-0956953044c6>\u001b[0m in \u001b[0;36mlimit\u001b[0;34m()\u001b[0m\n\u001b[1;32m      1\u001b[0m \u001b[0;32mdef\u001b[0m \u001b[0mlimit\u001b[0m\u001b[0;34m(\u001b[0m\u001b[0;34m)\u001b[0m\u001b[0;34m:\u001b[0m\u001b[0;34m\u001b[0m\u001b[0;34m\u001b[0m\u001b[0m\n\u001b[1;32m      2\u001b[0m   \u001b[0;32mglobal\u001b[0m \u001b[0mcart_limit\u001b[0m\u001b[0;34m\u001b[0m\u001b[0;34m\u001b[0m\u001b[0m\n\u001b[0;32m----> 3\u001b[0;31m   \u001b[0;32mif\u001b[0m \u001b[0msum\u001b[0m\u001b[0;34m>\u001b[0m\u001b[0mcart_limit\u001b[0m\u001b[0;34m:\u001b[0m\u001b[0;34m\u001b[0m\u001b[0;34m\u001b[0m\u001b[0m\n\u001b[0m\u001b[1;32m      4\u001b[0m     \u001b[0mprint\u001b[0m\u001b[0;34m(\u001b[0m\u001b[0;34mf\"toplam {cart_limit} limittinden buyuk olamaz\"\u001b[0m\u001b[0;34m)\u001b[0m\u001b[0;34m\u001b[0m\u001b[0;34m\u001b[0m\u001b[0m\n\u001b[1;32m      5\u001b[0m   \u001b[0;32melse\u001b[0m\u001b[0;34m:\u001b[0m\u001b[0;34m\u001b[0m\u001b[0;34m\u001b[0m\u001b[0m\n",
            "\u001b[0;31mTypeError\u001b[0m: '>' not supported between instances of 'builtin_function_or_method' and 'int'"
          ]
        }
      ]
    }
  ],
  "metadata": {
    "colab": {
      "name": "Colaboratory'ye Hoş Geldiniz",
      "provenance": [],
      "include_colab_link": true
    },
    "kernelspec": {
      "display_name": "Python 3",
      "name": "python3"
    },
    "accelerator": "TPU"
  },
  "nbformat": 4,
  "nbformat_minor": 0
}