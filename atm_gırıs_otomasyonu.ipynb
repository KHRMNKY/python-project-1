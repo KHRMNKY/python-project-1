{
  "cells": [
    {
      "cell_type": "markdown",
      "metadata": {
        "id": "view-in-github",
        "colab_type": "text"
      },
      "source": [
        "<a href=\"https://colab.research.google.com/github/kahramankaya/Onemli-python-projeleri/blob/main/atm_g%C4%B1r%C4%B1s_otomasyonu.ipynb\" target=\"_parent\"><img src=\"https://colab.research.google.com/assets/colab-badge.svg\" alt=\"Open In Colab\"/></a>"
      ]
    },
    {
      "cell_type": "code",
      "source": [
        "ad_soyisim=\"kahraman_kaya\"\n",
        "sifre1=546212\n",
        "bakıye=2000\n",
        "\n",
        "while True:\n",
        "  ad=input(\"lutfen adınızı_soyadınızı_gırınız= \")\n",
        "  sifre=int(input(\"lutfen_sıfrenızı_gırınız= \"))\n",
        "  if ad==ad_soyisim and sifre==sifre1:\n",
        "    while True:\n",
        "      secim=input(\"\"\"\n",
        "          hosgeldınız_sayın_musterımız\n",
        "                ----------------\n",
        "          bakıye_sormak_ıcın_lutfen_(1)' tuslayınız.\n",
        "          para_cekmek_ıcın_lutfen_(2)' tuslayınız.\n",
        "          para_yatırmak_ıcın_lutfen_(3)' tuslayınız.\n",
        "          cıkmak_ıcın_(x) tusuna_basınız.\n",
        "\n",
        "        \"\"\")\n",
        "\n",
        "\n",
        "      if secim==\"1\":\n",
        "        print(f\"bakıyenız={bakıye}\")\n",
        "      elif secim==\"2\":\n",
        "        cekilen=int(input(\"cekmek ıstedıgınız tutarı yazınız= \"))\n",
        "        print(f\"kalan bakıyenız {bakıye-cekilen}.. \")\n",
        "        bakıye =bakıye - cekilen\n",
        "      elif secim==\"3\":\n",
        "        yatirilan=int(input(\"yatırmak ıstedıgınız tutarı gırınız= \"))\n",
        "        print(f\"toplam bakıyenız {bakıye+yatirilan} ..\")\n",
        "        bakıye=bakıye+yatirilan\n",
        "      elif secim==\"x\":\n",
        "        print(\"cıkıs yapılmıstır..\")\n",
        "        break\n",
        "\n",
        "\n",
        "  else:\n",
        "    print(\"kullanıcı bılgılerı yanlıs..\")\n",
        "    pass\n",
        "\n",
        "\n",
        "\n",
        "\n"
      ],
      "metadata": {
        "id": "m-aA7Hx47keo"
      },
      "execution_count": null,
      "outputs": []
    }
  ],
  "metadata": {
    "colab": {
      "name": "Colaboratory'ye Hoş Geldiniz",
      "provenance": [],
      "include_colab_link": true
    },
    "kernelspec": {
      "display_name": "Python 3",
      "name": "python3"
    }
  },
  "nbformat": 4,
  "nbformat_minor": 0
}