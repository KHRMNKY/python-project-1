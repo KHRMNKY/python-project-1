{
  "cells": [
    {
      "cell_type": "markdown",
      "metadata": {
        "id": "view-in-github",
        "colab_type": "text"
      },
      "source": [
        "<a href=\"https://colab.research.google.com/github/kahramankaya/python-project/blob/main/al%C4%B1sver%C4%B1s.ipynb\" target=\"_parent\"><img src=\"https://colab.research.google.com/assets/colab-badge.svg\" alt=\"Open In Colab\"/></a>"
      ]
    },
    {
      "cell_type": "code",
      "source": [
        "item_list=[\"laptop\",\"headset\",\"second monitor\",\"mousepad\",\"USB drive\",\"external drive\"]"
      ],
      "metadata": {
        "id": "huPnavd9D_AC"
      },
      "execution_count": 82,
      "outputs": []
    },
    {
      "cell_type": "code",
      "source": [
        "limit=5000"
      ],
      "metadata": {
        "id": "Bq7b5sh-17-Q"
      },
      "execution_count": 83,
      "outputs": []
    },
    {
      "cell_type": "code",
      "source": [
        "price_and_items={\n",
        "\n",
        "    \"laptop\":1500,\n",
        "    \"headset\":100,\n",
        "    \"second monıtor\":200,\n",
        "    \"mousepad\":50,\n",
        "    \"USB drive\":70,\n",
        "    \"external drive\":250\n",
        "\n",
        "}"
      ],
      "metadata": {
        "id": "RpUGyD2Y18C8"
      },
      "execution_count": 84,
      "outputs": []
    },
    {
      "cell_type": "code",
      "source": [
        "cart=[]"
      ],
      "metadata": {
        "id": "-s0dQHra18F6"
      },
      "execution_count": 85,
      "outputs": []
    },
    {
      "cell_type": "code",
      "source": [
        "def add_to_cart(item, quantity):\n",
        "  cart.append((item, quantity))\n"
      ],
      "metadata": {
        "id": "XTuxQ1Pv4Do2"
      },
      "execution_count": 86,
      "outputs": []
    },
    {
      "cell_type": "code",
      "source": [
        "def create_invoice():\n",
        "  i_total=0\n",
        "  for item,quantity in cart:\n",
        "    price=price_and_items[item]\n",
        "    total=price*quantity\n",
        "    i_total+=total\n",
        "    return i_total"
      ],
      "metadata": {
        "id": "csabA4Ro4Cpe"
      },
      "execution_count": 87,
      "outputs": []
    },
    {
      "cell_type": "code",
      "source": [
        "def checkout():\n",
        "  global limit\n",
        "  total_amount=create_invoice()\n",
        "  if limit==0:\n",
        "    print(\"yeterli limitiniz bulunmamaktadır\")\n",
        "  elif total_amount>limit:\n",
        "    print(\"urunlerınız toplam fıyatı kartınızda kı lımıtten buyuk olamaz\")\n",
        "  else:\n",
        "    limit-=total_amount\n",
        "    print(f\"kartınızdan {total_amount} cekıldı ve gerıye kalan kart lımıtınız {limit} şu kadardır.\")"
      ],
      "metadata": {
        "id": "UvKC_VcPGLxa"
      },
      "execution_count": 88,
      "outputs": []
    },
    {
      "cell_type": "code",
      "source": [
        "add_to_cart(\"laptop\",2)\n",
        "add_to_cart(\"headset\",1)\n",
        "add_to_cart(\"second monitor\",1)\n",
        "add_to_cart(\"mousepad\",0)\n",
        "add_to_cart(\"USB drive\",3)\n",
        "add_to_cart(\"external drive\",1)\n"
      ],
      "metadata": {
        "id": "2ZFQY8_YHRiw"
      },
      "execution_count": 92,
      "outputs": []
    },
    {
      "cell_type": "code",
      "source": [
        "checkout()"
      ],
      "metadata": {
        "colab": {
          "base_uri": "https://localhost:8080/"
        },
        "id": "hzLxMCZhWCAG",
        "outputId": "1cbe2cb4-1efb-4c1b-d75b-2b8e683414eb"
      },
      "execution_count": 93,
      "outputs": [
        {
          "output_type": "stream",
          "name": "stdout",
          "text": [
            "kartınızdan 1500 cekıldı ve gerıye kalan kart lımıtınız 500 şu kadardır.\n"
          ]
        }
      ]
    }
  ],
  "metadata": {
    "colab": {
      "provenance": [],
      "include_colab_link": true
    },
    "kernelspec": {
      "display_name": "Python 3",
      "name": "python3"
    }
  },
  "nbformat": 4,
  "nbformat_minor": 0
}