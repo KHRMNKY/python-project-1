{
  "cells": [
    {
      "cell_type": "markdown",
      "metadata": {
        "id": "view-in-github",
        "colab_type": "text"
      },
      "source": [
        "<a href=\"https://colab.research.google.com/github/kahramankaya/python-project-1/blob/main/S_O_S_oyunu.ipynb\" target=\"_parent\"><img src=\"https://colab.research.google.com/assets/colab-badge.svg\" alt=\"Open In Colab\"/></a>"
      ]
    },
    {
      "cell_type": "code",
      "source": [
        "class Play():\n",
        "\n",
        "  def __init__(self):\n",
        "    self.Oyun_Durumu=True\n",
        "    self.Tahta=[[\"S\",\"*\",\"O\"],[\"*\",\"S\",\"O\"],[\"S\",\"*\",\"*\"]]\n",
        "    self.sıra=0\n",
        "\n",
        "  def Tahtaa(self):\n",
        "    for m in self.Tahta:\n",
        "      for n in m:\n",
        "        print(n, end=\" \")\n",
        "      print(\"\\n\")\n",
        "\n",
        "\n",
        "  def girisler(self):\n",
        "    while True:\n",
        "      try:\n",
        "        satır=int(input(\"satır= \"))\n",
        "        sütun=int(input(\"sütun= \"))\n",
        "        print(\"Girmek istediğiniz harf S/O\")\n",
        "\n",
        "        while True:\n",
        "          try:\n",
        "            harf=input()\n",
        "            self.Dolu_Mu(satır,sütun,harf)\n",
        "            break\n",
        "          except:\n",
        "            print(\"uygun olmayan giriş!!! lütfen S/O giriniz\")\n",
        "\n",
        "      except:\n",
        "        print(\"lütfen numerıc deger gırınız\")\n",
        "\n",
        "\n",
        "  def Player1(self):\n",
        "    print(\"sıra sizde Player1\")\n",
        "    self.Tahtaa()\n",
        "    self.girisler()\n",
        "\n",
        "  def Player2(self):\n",
        "    print(\"sıra sizde Player2\")\n",
        "    self.Tahtaa()\n",
        "    self.girisler()\n",
        "\n",
        "\n",
        "  def sıraa(self):\n",
        "\n",
        "    if self.sıra%2==0:\n",
        "      self.Player1()\n",
        "\n",
        "    else:\n",
        "      self.Player2()\n",
        "\n",
        "\n",
        "  def Dolu_Mu(self,satır,sütun,harf):\n",
        "    if self.Tahta[satır-1][sütun-1]==\"*\":\n",
        "      self.Tahta[satır-1][sütun-1]=harf\n",
        "      self.sıra+=1\n",
        "      self.Tahta_Durumu()\n",
        "      self.sıraa()\n",
        "\n",
        "    else:\n",
        "      print(\"dol koordinat lütfen farklı bir konum seçiniz..\")\n",
        "      self.girisler()\n",
        "\n",
        "\n",
        "\n",
        "\n",
        "  def Tahta_Durumu(self):\n",
        "    if (self.Tahta[0][0]==self.Tahta[0][1]==self.Tahta[0][2] or\n",
        "    self.Tahta[1][0]==self.Tahta[1][1]==self.Tahta[1][2] or\n",
        "    self.Tahta[2][0]==self.Tahta[2][1]==self.Tahta[2][2] or\n",
        "    self.Tahta[0][0]==self.Tahta[1][0]==self.Tahta[2][1] or\n",
        "    self.Tahta[0][1]==self.Tahta[1][1]==self.Tahta[2][1] or\n",
        "    self.Tahta[0][2]==self.Tahta[1][2]==self.Tahta[2][2] or\n",
        "    self.Tahta[0][0]==self.Tahta[1][1]==self.Tahta[2][2] or\n",
        "    self.Tahta[0][2]==self.Tahta[1][1]==self.Tahta[2][0]):\n",
        "      print(\"Oyunu kazandınız..\")\n",
        "      self.Close()\n",
        "    else:\n",
        "      pass\n",
        "\n",
        "\n",
        "\n",
        "\n",
        "  def Close(self):\n",
        "    self.Oyun_Durumu=False\n",
        "    print(\"Oyun sonlanmıstır..\")\n",
        "\n",
        "while Play().Oyun_Durumu:\n",
        "  Play().sıraa()\n"
      ],
      "metadata": {
        "id": "UnlyD2tazDrM",
        "outputId": "0c27d113-a093-478b-931a-1f907bab0621",
        "colab": {
          "base_uri": "https://localhost:8080/"
        }
      },
      "execution_count": null,
      "outputs": [
        {
          "output_type": "stream",
          "name": "stdout",
          "text": [
            "sıra sizde Player1\n",
            "S * O \n",
            "\n",
            "* S O \n",
            "\n",
            "S * * \n",
            "\n",
            "satır= 1\n",
            "sütun= 2\n",
            "Girmek istediğiniz harf S/O\n",
            "S\n",
            "sıra sizde Player2\n",
            "S S O \n",
            "\n",
            "* S O \n",
            "\n",
            "S * * \n",
            "\n",
            "satır= 3\n",
            "sütun= 3\n",
            "Girmek istediğiniz harf S/O\n",
            "S\n",
            "Oyunu kazandınız..\n",
            "Oyun sonlanmıstır..\n",
            "sıra sizde Player1\n",
            "S S O \n",
            "\n",
            "* S O \n",
            "\n",
            "S * S \n",
            "\n",
            "lütfen numerıc deger gırınız\n"
          ]
        }
      ]
    },
    {
      "cell_type": "code",
      "source": [],
      "metadata": {
        "id": "Erq1ZDxhqMtl"
      },
      "execution_count": null,
      "outputs": []
    },
    {
      "cell_type": "code",
      "source": [],
      "metadata": {
        "id": "vD2OK27NnGos"
      },
      "execution_count": null,
      "outputs": []
    }
  ],
  "metadata": {
    "colab": {
      "name": "Colaboratory'ye Hoş Geldiniz",
      "provenance": [],
      "include_colab_link": true
    },
    "kernelspec": {
      "display_name": "Python 3",
      "name": "python3"
    }
  },
  "nbformat": 4,
  "nbformat_minor": 0
}