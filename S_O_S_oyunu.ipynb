{
  "cells": [
    {
      "cell_type": "markdown",
      "metadata": {
        "id": "view-in-github",
        "colab_type": "text"
      },
      "source": [
        "<a href=\"https://colab.research.google.com/github/kahramankaya/python-project-1/blob/main/S_O_S_oyunu.ipynb\" target=\"_parent\"><img src=\"https://colab.research.google.com/assets/colab-badge.svg\" alt=\"Open In Colab\"/></a>"
      ]
    },
    {
      "cell_type": "code",
      "source": [
        "class Play():\n",
        "\n",
        "  def __init__(self):\n",
        "    self.Oyun_Durumu=True\n",
        "    self.Tahta=[[\"*\",\"*\",\"*\"],[\"*\",\"S\",\"O\"],[\"S\",\"*\",\"*\"]]\n",
        "    self.sıra=0\n",
        "\n",
        "\n",
        "  def Tahtaa(self):\n",
        "    for m in self.Tahta:\n",
        "      for n in m:\n",
        "        print(n, end=\" \")\n",
        "      print(\"\\n\")\n",
        "\n",
        "\n",
        "  def girisler(self):\n",
        "    while self.Oyun_Durumu:\n",
        "      try:\n",
        "        satır=int(input(\"satır= \"))\n",
        "        sütun=int(input(\"sütun= \"))\n",
        "        if 1<=satır<=3 and 1<=sütun<=3:\n",
        "          while True:\n",
        "            try:\n",
        "              print(\"Girmek istediğiniz harf S/O\")\n",
        "              harf=input()\n",
        "              if harf==\"S\" or harf==\"O\":\n",
        "                self.Dolu_Mu(satır,sütun,harf)\n",
        "              else:\n",
        "                raise\n",
        "              break\n",
        "            except:\n",
        "              print(\"uygun olmayan giriş!!! lütfen S/O giriniz\")\n",
        "\n",
        "        else:\n",
        "          print(\"satır ve sütun sadece 1-3 aralığında olabilir.\")\n",
        "          self.girisler()\n",
        "\n",
        "      except:\n",
        "        print(\"lütfen numerıc deger gırınız\")\n",
        "\n",
        "\n",
        "  def Player1(self):\n",
        "    print(\"sıra sizde Player1\")\n",
        "    self.girisler()\n",
        "\n",
        "\n",
        "  def Player2(self):\n",
        "    print(\"sıra sizde Player2\")\n",
        "    self.girisler()\n",
        "\n",
        "\n",
        "  def sıraa(self):\n",
        "    self.Tahtaa()\n",
        "    if self.Oyun_Durumu==True:\n",
        "\n",
        "      if self.sıra%2==0:\n",
        "        self.Player1()\n",
        "\n",
        "      elif self.sıra% 2 != 0:\n",
        "        self.Player2()\n",
        "\n",
        "\n",
        "\n",
        "  def Dolu_Mu(self,satır,sütun,harf):\n",
        "    if self.Tahta[satır-1][sütun-1]==\"*\":\n",
        "      self.Tahta[satır-1][sütun-1]=harf\n",
        "      self.Tahta_Durumu()\n",
        "      self.sıra+=1\n",
        "      self.sıraa()\n",
        "\n",
        "    else:\n",
        "      print(\"dolu koordinat lütfen farklı bir konum seçiniz..\")\n",
        "      self.girisler()\n",
        "\n",
        "\n",
        "\n",
        "  def Tahta_Durumu(self):\n",
        "    if ((self.Tahta[0][0]==\"S\" and self.Tahta[0][1]==\"O\" and self.Tahta[0][2]==\"S\") or\n",
        "    (self.Tahta[1][0]==\"S\" and self.Tahta[1][1]==\"O\" and self.Tahta[1][2]==\"S\") or\n",
        "    (self.Tahta[2][0]==\"S\" and self.Tahta[2][1]==\"O\" and self.Tahta[2][2]==\"S\") or\n",
        "    (self.Tahta[0][0]==\"S\" and self.Tahta[1][0]==\"O\" and self.Tahta[2][1]==\"S\") or\n",
        "    (self.Tahta[0][1]==\"S\" and self.Tahta[1][1]==\"O\" and self.Tahta[2][1]==\"S\") or\n",
        "    (self.Tahta[0][2]==\"S\" and self.Tahta[1][2]==\"O\" and self.Tahta[2][2]==\"S\") or\n",
        "    (self.Tahta[0][0]==\"S\" and self.Tahta[1][1]==\"O\" and self.Tahta[2][2]==\"S\") or\n",
        "    (self.Tahta[0][2]==\"S\" and self.Tahta[1][1]==\"O\" and self.Tahta[2][0]==\"S\")):\n",
        "      print(\"Oyunu kazandınız..\")\n",
        "      self.Oyun_Durumu=False\n",
        "      self.Close()\n",
        "\n",
        "    else:\n",
        "      pass\n",
        "\n",
        "\n",
        "  def Close(self):\n",
        "    print(\"Oyun sonlanmıstır..\")\n",
        "    self.Oyun_Durumu=False\n",
        "\n",
        "\n",
        "\n",
        "play=Play()\n",
        "while play.Oyun_Durumu:\n",
        "  play.sıraa()"
      ],
      "metadata": {
        "id": "UnlyD2tazDrM",
        "outputId": "c26a98a1-fff1-4fc3-a61e-cdbfa9ea495e",
        "colab": {
          "base_uri": "https://localhost:8080/"
        }
      },
      "execution_count": null,
      "outputs": [
        {
          "output_type": "stream",
          "name": "stdout",
          "text": [
            "* * * \n",
            "\n",
            "* S O \n",
            "\n",
            "S * * \n",
            "\n",
            "sıra sizde Player1\n"
          ]
        }
      ]
    },
    {
      "cell_type": "code",
      "source": [],
      "metadata": {
        "id": "s7OUtf2zCzY7"
      },
      "execution_count": null,
      "outputs": []
    }
  ],
  "metadata": {
    "colab": {
      "name": "Colaboratory'ye Hoş Geldiniz",
      "provenance": [],
      "include_colab_link": true
    },
    "kernelspec": {
      "display_name": "Python 3",
      "name": "python3"
    }
  },
  "nbformat": 4,
  "nbformat_minor": 0
}