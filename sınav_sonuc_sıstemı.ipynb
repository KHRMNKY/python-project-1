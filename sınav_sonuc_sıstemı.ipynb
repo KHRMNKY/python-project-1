{
  "nbformat": 4,
  "nbformat_minor": 0,
  "metadata": {
    "colab": {
      "provenance": [],
      "include_colab_link": true
    },
    "kernelspec": {
      "name": "python3",
      "display_name": "Python 3"
    },
    "language_info": {
      "name": "python"
    }
  },
  "cells": [
    {
      "cell_type": "markdown",
      "metadata": {
        "id": "view-in-github",
        "colab_type": "text"
      },
      "source": [
        "<a href=\"https://colab.research.google.com/github/kahramankaya/python-project-1/blob/main/s%C4%B1nav_sonuc_s%C4%B1stem%C4%B1.ipynb\" target=\"_parent\"><img src=\"https://colab.research.google.com/assets/colab-badge.svg\" alt=\"Open In Colab\"/></a>"
      ]
    },
    {
      "cell_type": "code",
      "source": [
        "student_list = [('Hasan', 51), ('senem', 78), ('murat', \"missing\"), ('selena',\"missing\"), ('efe',63)]"
      ],
      "metadata": {
        "id": "AKsfiImpM2h5"
      },
      "execution_count": 172,
      "outputs": []
    },
    {
      "cell_type": "code",
      "source": [
        "def compute_grade(Point):\n",
        "  if Point<=29:\n",
        "    return \"F\"\n",
        "  elif 30<=Point<=49:\n",
        "    return \"C\"\n",
        "  elif 50<=Point<=69:\n",
        "    return \"B\"\n",
        "  else:\n",
        "    return \"A\""
      ],
      "metadata": {
        "id": "OkoTjD_FM2jj"
      },
      "execution_count": 173,
      "outputs": []
    },
    {
      "cell_type": "code",
      "source": [
        "def report_message(name,Point):\n",
        "  if type(Point)==int:\n",
        "    return name + \" scored \" + str(Point) + \"/100 points in Chemistry and got the letter \" + compute_grade(Point)\n",
        "  else:\n",
        "    return f\"{name}: {Point}\""
      ],
      "metadata": {
        "id": "lhIaJIPvNUea"
      },
      "execution_count": 174,
      "outputs": []
    },
    {
      "cell_type": "code",
      "source": [
        "def ogretmen(name,Point):\n",
        "  try:\n",
        "    with open(\"ogretmen_report.txt\", \"a\") as myfile:\n",
        "      return myfile.write(f\"\\n{report_message(name,Point)}\")\n",
        "  except:\n",
        "    with open(f\"ogretmen_report.txt\",\"w\") as myfiles:\n",
        "      return myfiles.write(f\"{report_message(name,Point)}\")"
      ],
      "metadata": {
        "id": "QnhYIzvITTF2"
      },
      "execution_count": 175,
      "outputs": []
    },
    {
      "cell_type": "code",
      "source": [
        "def student_grade(name,Point):\n",
        "  try:\n",
        "    with open(f\"{name}_report.txt\") as myyfilee:\n",
        "      ogretmen(name,Point)\n",
        "\n",
        "  except:\n",
        "    with open(f\"{name}_report.txt\",\"w\") as myyfile:\n",
        "      myyfile.write(report_message(name,Point))\n",
        "      ogretmen(name,Point)"
      ],
      "metadata": {
        "id": "nS3ylSrmM2me"
      },
      "execution_count": 176,
      "outputs": []
    },
    {
      "cell_type": "code",
      "source": [
        "def step():\n",
        "  for i in student_list:\n",
        "    name,Point=i\n",
        "    student_grade(name,Point)\n",
        "  d=open(\"ogretmen_report.txt\")\n",
        "  print(d.read())"
      ],
      "metadata": {
        "id": "s2oQaqAtM2ps"
      },
      "execution_count": 177,
      "outputs": []
    },
    {
      "cell_type": "code",
      "source": [
        "step()"
      ],
      "metadata": {
        "id": "PwItPPqo8xG0",
        "outputId": "7e399acd-1f1e-4237-abfa-84b08a83459e",
        "colab": {
          "base_uri": "https://localhost:8080/"
        }
      },
      "execution_count": 178,
      "outputs": [
        {
          "output_type": "stream",
          "name": "stdout",
          "text": [
            "\n",
            "Hasan scored 51/100 points in Chemistry and got the letter B\n",
            "senem scored 78/100 points in Chemistry and got the letter A\n",
            "murat: missing\n",
            "selena: missing\n",
            "efe scored 63/100 points in Chemistry and got the letter B\n"
          ]
        }
      ]
    }
  ]
}