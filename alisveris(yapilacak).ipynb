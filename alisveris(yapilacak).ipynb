{
  "cells": [
    {
      "cell_type": "markdown",
      "metadata": {
        "id": "view-in-github",
        "colab_type": "text"
      },
      "source": [
        "<a href=\"https://colab.research.google.com/github/kahramankaya/python-project-1/blob/main/alisveris(yapilacak).ipynb\" target=\"_parent\"><img src=\"https://colab.research.google.com/assets/colab-badge.svg\" alt=\"Open In Colab\"/></a>"
      ]
    },
    {
      "cell_type": "code",
      "source": [
        "cart_limit=18000\n",
        "items=[\"phone,\", \"watch\", \"mouse\", \"pc\", \"keyboard\"]"
      ],
      "metadata": {
        "id": "cmOYq5wmgpWL"
      },
      "execution_count": 45,
      "outputs": []
    },
    {
      "cell_type": "code",
      "source": [
        "price={\n",
        "       \"phone\":2500,\n",
        "       \"watch\":700,\n",
        "       \"mouse\":150,\n",
        "       \"pc\":15000,\n",
        "       \"keyboard\":1300\n",
        "}"
      ],
      "metadata": {
        "id": "Lfsa5NFIgpXo"
      },
      "execution_count": 46,
      "outputs": []
    },
    {
      "cell_type": "code",
      "source": [
        "List=[]\n",
        "def add_to_cart(item,quantitity):\n",
        "  List.append((item,quantitity))"
      ],
      "metadata": {
        "id": "8b3rNenxjfyf"
      },
      "execution_count": 47,
      "outputs": []
    },
    {
      "cell_type": "code",
      "source": [
        "def choice():\n",
        "  numbers=int(input(\"how many item will you buy= \"))\n",
        "  for number in range(numbers):\n",
        "    try:\n",
        "      item=input(f\" can you choice {number}.number =  \")\n",
        "      quantitity=int(input(f\"how many will you buy from {item}\"))\n",
        "      add_to_cart(item,quantitity)\n",
        "    except:\n",
        "      print(\"please enter the appropriate values.\")\n"
      ],
      "metadata": {
        "id": "o64bWbpfgpZO"
      },
      "execution_count": 48,
      "outputs": []
    },
    {
      "cell_type": "code",
      "source": [
        "def limit(sum):\n",
        "  global cart_limit\n",
        "  if sum>cart_limit:\n",
        "    print(f\"total cannot be greater than {cart_limit} limit\")\n",
        "  else:\n",
        "    cart_limit-=sum\n",
        "    print(f\"your remaining card limit {cart_limit}\")"
      ],
      "metadata": {
        "id": "L2dnjHPModE2"
      },
      "execution_count": 49,
      "outputs": []
    },
    {
      "cell_type": "code",
      "source": [
        "def summ():\n",
        "  choice()\n",
        "  sum=0\n",
        "  for item,quantitity in List:\n",
        "    sum+=price[item]*quantitity\n",
        "  return sum"
      ],
      "metadata": {
        "id": "ftw1IoyCmdkK"
      },
      "execution_count": 50,
      "outputs": []
    },
    {
      "cell_type": "code",
      "source": [
        "def f():\n",
        "  sum=summ()\n",
        "  limit(sum)\n"
      ],
      "metadata": {
        "id": "dmjvZkOOyB3Y"
      },
      "execution_count": 51,
      "outputs": []
    },
    {
      "cell_type": "code",
      "source": [
        "f()"
      ],
      "metadata": {
        "id": "UJUTwIxd2GAs",
        "outputId": "15bb6fba-c4b8-4f5c-d76f-92936ac61dc6",
        "colab": {
          "base_uri": "https://localhost:8080/"
        }
      },
      "execution_count": 52,
      "outputs": [
        {
          "output_type": "stream",
          "name": "stdout",
          "text": [
            "how many item will you buy= 2\n",
            " can you choice 0.number =  phone\n",
            "how many will you buy from phone2\n",
            " can you choice 1.number =  keyboard\n",
            "how many will you buy from keyboard3\n",
            "your remaining card limit 9100\n"
          ]
        }
      ]
    }
  ],
  "metadata": {
    "colab": {
      "name": "Colaboratory'ye Hoş Geldiniz",
      "provenance": [],
      "include_colab_link": true
    },
    "kernelspec": {
      "display_name": "Python 3",
      "name": "python3"
    },
    "accelerator": "TPU"
  },
  "nbformat": 4,
  "nbformat_minor": 0
}