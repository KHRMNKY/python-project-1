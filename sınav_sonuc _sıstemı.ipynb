{
  "nbformat": 4,
  "nbformat_minor": 0,
  "metadata": {
    "colab": {
      "provenance": [],
      "include_colab_link": true
    },
    "kernelspec": {
      "name": "python3",
      "display_name": "Python 3"
    },
    "language_info": {
      "name": "python"
    }
  },
  "cells": [
    {
      "cell_type": "markdown",
      "metadata": {
        "id": "view-in-github",
        "colab_type": "text"
      },
      "source": [
        "<a href=\"https://colab.research.google.com/github/kahramankaya/python-project-1/blob/main/s%C4%B1nav_sonuc%20_s%C4%B1stem%C4%B1.ipynb\" target=\"_parent\"><img src=\"https://colab.research.google.com/assets/colab-badge.svg\" alt=\"Open In Colab\"/></a>"
      ]
    },
    {
      "cell_type": "code",
      "source": [
        "student_list = [('Hasan', 51), ('senem', 78), ('murat', \"missing\"), ('selena',\"missing\"), ('efe',63)]\n"
      ],
      "metadata": {
        "id": "AKsfiImpM2h5"
      },
      "execution_count": 20,
      "outputs": []
    },
    {
      "cell_type": "code",
      "source": [
        "def compute_grade(Point):\n",
        "  if Point<=29:\n",
        "    return \"F\"\n",
        "  elif 30<=Point<=49:\n",
        "    return \"C\"\n",
        "  elif 50<=Point<=69:\n",
        "    return \"B\"\n",
        "  else:\n",
        "    return \"A\""
      ],
      "metadata": {
        "id": "OkoTjD_FM2jj"
      },
      "execution_count": 21,
      "outputs": []
    },
    {
      "cell_type": "code",
      "source": [
        "def report_message(name,Point):\n",
        "   return name + \" scored \" + str(Point) + \"/100 points in Chemistry and got the letter \" + compute_grade(Point)"
      ],
      "metadata": {
        "id": "lhIaJIPvNUea"
      },
      "execution_count": 22,
      "outputs": []
    },
    {
      "cell_type": "code",
      "source": [
        "def ogretmen():\n",
        "  with open(f\"ogretmen_report.txt\",\"w\") as myfiles:\n",
        "    return myfiles.write(report_message(name,Point))+\"\\n\""
      ],
      "metadata": {
        "id": "QnhYIzvITTF2"
      },
      "execution_count": 23,
      "outputs": []
    },
    {
      "cell_type": "code",
      "source": [
        "def student_grade(name):\n",
        "  try:\n",
        "    with open(f\"{name}_report.txt\") as myyfile:\n",
        "      data=myyfile.read()\n",
        "      ogretmen()\n",
        "\n",
        "  except:\n",
        "    try:\n",
        "      with open(f\"{name}_report.txt\",\"w\") as myyfile:\n",
        "        myyfile.write(report_message(name,Point))\n",
        "        ogretmen()\n",
        "    except:\n",
        "      print(f\"{name} sınava gırmedıgınden puanı bulunmamaktadır.\")\n"
      ],
      "metadata": {
        "id": "nS3ylSrmM2me"
      },
      "execution_count": 24,
      "outputs": []
    },
    {
      "cell_type": "code",
      "source": [
        "for i in student_list:\n",
        "  name,Point=i\n",
        "  student_grade(name)"
      ],
      "metadata": {
        "colab": {
          "base_uri": "https://localhost:8080/"
        },
        "id": "s2oQaqAtM2ps",
        "outputId": "d48c398b-cd01-47e2-8ea5-fe011254f9fd"
      },
      "execution_count": 25,
      "outputs": [
        {
          "output_type": "stream",
          "name": "stdout",
          "text": [
            "Hasan sınava gırmedıgınden puanı bulunmamaktadır.\n",
            "senem sınava gırmedıgınden puanı bulunmamaktadır.\n",
            "murat sınava gırmedıgınden puanı bulunmamaktadır.\n",
            "selena sınava gırmedıgınden puanı bulunmamaktadır.\n",
            "efe sınava gırmedıgınden puanı bulunmamaktadır.\n"
          ]
        }
      ]
    }
  ]
}