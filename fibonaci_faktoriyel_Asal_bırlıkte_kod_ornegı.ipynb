{
  "cells": [
    {
      "cell_type": "markdown",
      "metadata": {
        "id": "view-in-github",
        "colab_type": "text"
      },
      "source": [
        "<a href=\"https://colab.research.google.com/github/kahramankaya/python-project-1/blob/main/fibonaci_faktoriyel_Asal_b%C4%B1rl%C4%B1kte_kod_orneg%C4%B1.ipynb\" target=\"_parent\"><img src=\"https://colab.research.google.com/assets/colab-badge.svg\" alt=\"Open In Colab\"/></a>"
      ]
    },
    {
      "cell_type": "markdown",
      "source": [
        "#\n",
        "1-bir sayı al\n",
        "2-bu sayı çift ise kendisini yazdır değilse asal mı diye bak.\n",
        "3-eğer asal ise 1.basamakta alınan sayının faktöriyelini hesapla. asal değilse o sayının fibonaci karşılığını hesapla."
      ],
      "metadata": {
        "id": "wO5yBG-_tgR0"
      }
    },
    {
      "cell_type": "code",
      "source": [
        "def fx():\n",
        "  sayı=int(input(\"sayı= \"))\n",
        "  if sayı%2==0:\n",
        "    print(sayı)\n",
        "  else:\n",
        "    bol=AsalMı(sayı)\n",
        "    if bol:\n",
        "      fibo(sayı)\n",
        "    else:\n",
        "      fakt(sayı)\n"
      ],
      "metadata": {
        "id": "DX6AAFWrC-ox"
      },
      "execution_count": 2,
      "outputs": []
    },
    {
      "cell_type": "code",
      "source": [
        "def fakt(sayı):\n",
        "  carp=1\n",
        "  for item in range(1,sayı+1):\n",
        "    print(item)\n",
        "    carp=carp*item\n",
        "  print(carp)"
      ],
      "metadata": {
        "id": "1kYblcDVPsnj"
      },
      "execution_count": 3,
      "outputs": []
    },
    {
      "cell_type": "code",
      "source": [
        "def fibo(sayı):\n",
        "  a=1\n",
        "  b=1\n",
        "  i=-1\n",
        "  liste=[]\n",
        "  for item1 in range(1,sayı+1):\n",
        "    i+=1\n",
        "    c=a+b\n",
        "    a=b\n",
        "    b=c\n",
        "    liste.append(c)\n",
        "    print(f\"{i+2}.index-{c}\")\n",
        "  print(f\"girilen sayının fibonaci karşılığı= {liste[sayı-2]}\")\n"
      ],
      "metadata": {
        "id": "-bT0hAqX92Kp"
      },
      "execution_count": 4,
      "outputs": []
    },
    {
      "cell_type": "code",
      "source": [
        "def AsalMı(sayı):\n",
        "  for m in range(2,sayı):\n",
        "    if sayı%m==0:\n",
        "      return False\n",
        "  return True"
      ],
      "metadata": {
        "id": "MljurdSRJbhV"
      },
      "execution_count": 5,
      "outputs": []
    },
    {
      "cell_type": "code",
      "source": [
        "fx()"
      ],
      "metadata": {
        "colab": {
          "base_uri": "https://localhost:8080/"
        },
        "id": "4mFtNolpPBW1",
        "outputId": "c1b9de67-ef1c-4d72-ac68-a164f520d0d5"
      },
      "execution_count": 6,
      "outputs": [
        {
          "output_type": "stream",
          "name": "stdout",
          "text": [
            "sayı= 5\n",
            "2.index-2\n",
            "3.index-3\n",
            "4.index-5\n",
            "5.index-8\n",
            "6.index-13\n",
            "girilen sayının fibonaci karşılığı= 8\n"
          ]
        }
      ]
    },
    {
      "cell_type": "code",
      "source": [
        "fx()"
      ],
      "metadata": {
        "colab": {
          "base_uri": "https://localhost:8080/"
        },
        "id": "oOngwn4EBvpW",
        "outputId": "7a8cf8c6-8dc7-44ef-e73d-a3667f37b3ba"
      },
      "execution_count": 7,
      "outputs": [
        {
          "output_type": "stream",
          "name": "stdout",
          "text": [
            "sayı= 4\n",
            "4\n"
          ]
        }
      ]
    },
    {
      "cell_type": "code",
      "source": [
        "fx()"
      ],
      "metadata": {
        "colab": {
          "base_uri": "https://localhost:8080/"
        },
        "id": "WqzDpxY7EfBi",
        "outputId": "39b002bc-d99a-4024-c639-7058b8fcc180"
      },
      "execution_count": 8,
      "outputs": [
        {
          "output_type": "stream",
          "name": "stdout",
          "text": [
            "sayı= 9\n",
            "1\n",
            "2\n",
            "3\n",
            "4\n",
            "5\n",
            "6\n",
            "7\n",
            "8\n",
            "9\n",
            "362880\n"
          ]
        }
      ]
    }
  ],
  "metadata": {
    "colab": {
      "provenance": [],
      "include_colab_link": true
    },
    "kernelspec": {
      "display_name": "Python 3",
      "name": "python3"
    }
  },
  "nbformat": 4,
  "nbformat_minor": 0
}