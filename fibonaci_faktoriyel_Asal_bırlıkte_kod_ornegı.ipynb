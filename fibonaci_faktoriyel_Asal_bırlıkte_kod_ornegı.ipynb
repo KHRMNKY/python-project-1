{
  "cells": [
    {
      "cell_type": "markdown",
      "metadata": {
        "id": "view-in-github",
        "colab_type": "text"
      },
      "source": [
        "<a href=\"https://colab.research.google.com/github/kahramankaya/python-project-1/blob/main/fibonaci_faktoriyel_Asal_b%C4%B1rl%C4%B1kte_kod_orneg%C4%B1.ipynb\" target=\"_parent\"><img src=\"https://colab.research.google.com/assets/colab-badge.svg\" alt=\"Open In Colab\"/></a>"
      ]
    },
    {
      "cell_type": "markdown",
      "source": [
        "#\n",
        "1-bir sayı al\n",
        "2-bu sayı çift ise kendisini yazdır değilse asal mı diye bak.\n",
        "3-eğer asal ise 1.basamakta alınan sayının faktöriyelini hesapla. asal değilse fibonaciyi hesapla."
      ],
      "metadata": {
        "id": "wO5yBG-_tgR0"
      }
    },
    {
      "cell_type": "code",
      "source": [
        "def fx():\n",
        "  sayı=int(input(\"sayı= \"))\n",
        "  if sayı%2==0:\n",
        "    print(sayı)\n",
        "  else:\n",
        "    bol=AsalMı(sayı)\n",
        "    if bol:\n",
        "      print(\"fıbonacı\")\n",
        "    else:\n",
        "      fakt(sayı)\n"
      ],
      "metadata": {
        "id": "DX6AAFWrC-ox"
      },
      "execution_count": 128,
      "outputs": []
    },
    {
      "cell_type": "code",
      "source": [
        "def fakt(sayı):\n",
        "  carp=1\n",
        "  for item in range(1,sayı+1):\n",
        "    print(item)\n",
        "    carp=carp*item\n",
        "  print(carp)"
      ],
      "metadata": {
        "id": "1kYblcDVPsnj"
      },
      "execution_count": 131,
      "outputs": []
    },
    {
      "cell_type": "code",
      "source": [
        "def AsalMı(sayı):\n",
        "  for m in range(1,sayı):\n",
        "    if sayı%m==0:\n",
        "      return False\n",
        "  return True"
      ],
      "metadata": {
        "id": "MljurdSRJbhV"
      },
      "execution_count": 126,
      "outputs": []
    },
    {
      "cell_type": "code",
      "source": [
        "fx()"
      ],
      "metadata": {
        "colab": {
          "base_uri": "https://localhost:8080/"
        },
        "id": "4mFtNolpPBW1",
        "outputId": "fc923d69-4b9b-473d-d4fd-617f839cf814"
      },
      "execution_count": 134,
      "outputs": [
        {
          "output_type": "stream",
          "name": "stdout",
          "text": [
            "sayı= 7\n",
            "1\n",
            "2\n",
            "3\n",
            "4\n",
            "5\n",
            "6\n",
            "7\n",
            "5040\n"
          ]
        }
      ]
    }
  ],
  "metadata": {
    "colab": {
      "provenance": [],
      "include_colab_link": true
    },
    "kernelspec": {
      "display_name": "Python 3",
      "name": "python3"
    }
  },
  "nbformat": 4,
  "nbformat_minor": 0
}